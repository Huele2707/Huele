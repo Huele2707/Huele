{
 "cells": [
  {
   "cell_type": "markdown",
   "id": "80813b27",
   "metadata": {},
   "source": [
    "# Tuần 5 - EDA\n",
    "\n",
    "![image1](https://www.xenonstack.com/hubfs/data-preparation-xenonstack.jpg)"
   ]
  },
  {
   "cell_type": "markdown",
   "id": "e265f340",
   "metadata": {},
   "source": [
    "## 1. Reading data"
   ]
  },
  {
   "cell_type": "code",
   "execution_count": 1,
   "id": "a3ecd5cd",
   "metadata": {},
   "outputs": [],
   "source": [
    "import pandas as pd\n",
    "import numpy as np"
   ]
  },
  {
   "cell_type": "code",
   "execution_count": 2,
   "id": "da181c3b",
   "metadata": {
    "scrolled": true
   },
   "outputs": [
    {
     "data": {
      "text/html": [
       "<div>\n",
       "<style scoped>\n",
       "    .dataframe tbody tr th:only-of-type {\n",
       "        vertical-align: middle;\n",
       "    }\n",
       "\n",
       "    .dataframe tbody tr th {\n",
       "        vertical-align: top;\n",
       "    }\n",
       "\n",
       "    .dataframe thead th {\n",
       "        text-align: right;\n",
       "    }\n",
       "</style>\n",
       "<table border=\"1\" class=\"dataframe\">\n",
       "  <thead>\n",
       "    <tr style=\"text-align: right;\">\n",
       "      <th></th>\n",
       "      <th>Country Name</th>\n",
       "      <th>Country Code</th>\n",
       "      <th>1960</th>\n",
       "      <th>1961</th>\n",
       "      <th>1962</th>\n",
       "      <th>1963</th>\n",
       "      <th>1964</th>\n",
       "      <th>1965</th>\n",
       "      <th>1966</th>\n",
       "      <th>1967</th>\n",
       "      <th>...</th>\n",
       "      <th>2012</th>\n",
       "      <th>2013</th>\n",
       "      <th>2014</th>\n",
       "      <th>2015</th>\n",
       "      <th>2016</th>\n",
       "      <th>2017</th>\n",
       "      <th>2018</th>\n",
       "      <th>2019</th>\n",
       "      <th>2020</th>\n",
       "      <th>2021</th>\n",
       "    </tr>\n",
       "  </thead>\n",
       "  <tbody>\n",
       "    <tr>\n",
       "      <th>0</th>\n",
       "      <td>Aruba</td>\n",
       "      <td>ABW</td>\n",
       "      <td>54208.0</td>\n",
       "      <td>55434.0</td>\n",
       "      <td>56234.0</td>\n",
       "      <td>56699.0</td>\n",
       "      <td>57029.0</td>\n",
       "      <td>57357.0</td>\n",
       "      <td>57702.0</td>\n",
       "      <td>58044.0</td>\n",
       "      <td>...</td>\n",
       "      <td>102565.0</td>\n",
       "      <td>103165.0</td>\n",
       "      <td>103776.0</td>\n",
       "      <td>104339.0</td>\n",
       "      <td>104865.0</td>\n",
       "      <td>105361.0</td>\n",
       "      <td>105846.0</td>\n",
       "      <td>106310.0</td>\n",
       "      <td>106766.0</td>\n",
       "      <td>107195.0</td>\n",
       "    </tr>\n",
       "    <tr>\n",
       "      <th>1</th>\n",
       "      <td>Africa Eastern and Southern</td>\n",
       "      <td>AFE</td>\n",
       "      <td>130836765.0</td>\n",
       "      <td>134159786.0</td>\n",
       "      <td>137614644.0</td>\n",
       "      <td>141202036.0</td>\n",
       "      <td>144920186.0</td>\n",
       "      <td>148769974.0</td>\n",
       "      <td>152752671.0</td>\n",
       "      <td>156876454.0</td>\n",
       "      <td>...</td>\n",
       "      <td>547482863.0</td>\n",
       "      <td>562601578.0</td>\n",
       "      <td>578075373.0</td>\n",
       "      <td>593871847.0</td>\n",
       "      <td>609978946.0</td>\n",
       "      <td>626392880.0</td>\n",
       "      <td>643090131.0</td>\n",
       "      <td>660046272.0</td>\n",
       "      <td>677243299.0</td>\n",
       "      <td>694665117.0</td>\n",
       "    </tr>\n",
       "    <tr>\n",
       "      <th>2</th>\n",
       "      <td>Afghanistan</td>\n",
       "      <td>AFG</td>\n",
       "      <td>8996967.0</td>\n",
       "      <td>9169406.0</td>\n",
       "      <td>9351442.0</td>\n",
       "      <td>9543200.0</td>\n",
       "      <td>9744772.0</td>\n",
       "      <td>9956318.0</td>\n",
       "      <td>10174840.0</td>\n",
       "      <td>10399936.0</td>\n",
       "      <td>...</td>\n",
       "      <td>31161378.0</td>\n",
       "      <td>32269592.0</td>\n",
       "      <td>33370804.0</td>\n",
       "      <td>34413603.0</td>\n",
       "      <td>35383028.0</td>\n",
       "      <td>36296111.0</td>\n",
       "      <td>37171922.0</td>\n",
       "      <td>38041757.0</td>\n",
       "      <td>38928341.0</td>\n",
       "      <td>39835428.0</td>\n",
       "    </tr>\n",
       "    <tr>\n",
       "      <th>3</th>\n",
       "      <td>Africa Western and Central</td>\n",
       "      <td>AFW</td>\n",
       "      <td>96396419.0</td>\n",
       "      <td>98407221.0</td>\n",
       "      <td>100506960.0</td>\n",
       "      <td>102691339.0</td>\n",
       "      <td>104953470.0</td>\n",
       "      <td>107289875.0</td>\n",
       "      <td>109701811.0</td>\n",
       "      <td>112195950.0</td>\n",
       "      <td>...</td>\n",
       "      <td>370243017.0</td>\n",
       "      <td>380437896.0</td>\n",
       "      <td>390882979.0</td>\n",
       "      <td>401586651.0</td>\n",
       "      <td>412551299.0</td>\n",
       "      <td>423769930.0</td>\n",
       "      <td>435229381.0</td>\n",
       "      <td>446911598.0</td>\n",
       "      <td>458803476.0</td>\n",
       "      <td>470898870.0</td>\n",
       "    </tr>\n",
       "    <tr>\n",
       "      <th>4</th>\n",
       "      <td>Angola</td>\n",
       "      <td>AGO</td>\n",
       "      <td>5454938.0</td>\n",
       "      <td>5531451.0</td>\n",
       "      <td>5608499.0</td>\n",
       "      <td>5679409.0</td>\n",
       "      <td>5734995.0</td>\n",
       "      <td>5770573.0</td>\n",
       "      <td>5781305.0</td>\n",
       "      <td>5774440.0</td>\n",
       "      <td>...</td>\n",
       "      <td>25107925.0</td>\n",
       "      <td>26015786.0</td>\n",
       "      <td>26941773.0</td>\n",
       "      <td>27884380.0</td>\n",
       "      <td>28842482.0</td>\n",
       "      <td>29816769.0</td>\n",
       "      <td>30809787.0</td>\n",
       "      <td>31825299.0</td>\n",
       "      <td>32866268.0</td>\n",
       "      <td>33933611.0</td>\n",
       "    </tr>\n",
       "  </tbody>\n",
       "</table>\n",
       "<p>5 rows × 64 columns</p>\n",
       "</div>"
      ],
      "text/plain": [
       "                  Country Name Country Code         1960         1961  \\\n",
       "0                        Aruba          ABW      54208.0      55434.0   \n",
       "1  Africa Eastern and Southern          AFE  130836765.0  134159786.0   \n",
       "2                  Afghanistan          AFG    8996967.0    9169406.0   \n",
       "3   Africa Western and Central          AFW   96396419.0   98407221.0   \n",
       "4                       Angola          AGO    5454938.0    5531451.0   \n",
       "\n",
       "          1962         1963         1964         1965         1966  \\\n",
       "0      56234.0      56699.0      57029.0      57357.0      57702.0   \n",
       "1  137614644.0  141202036.0  144920186.0  148769974.0  152752671.0   \n",
       "2    9351442.0    9543200.0    9744772.0    9956318.0   10174840.0   \n",
       "3  100506960.0  102691339.0  104953470.0  107289875.0  109701811.0   \n",
       "4    5608499.0    5679409.0    5734995.0    5770573.0    5781305.0   \n",
       "\n",
       "          1967  ...         2012         2013         2014         2015  \\\n",
       "0      58044.0  ...     102565.0     103165.0     103776.0     104339.0   \n",
       "1  156876454.0  ...  547482863.0  562601578.0  578075373.0  593871847.0   \n",
       "2   10399936.0  ...   31161378.0   32269592.0   33370804.0   34413603.0   \n",
       "3  112195950.0  ...  370243017.0  380437896.0  390882979.0  401586651.0   \n",
       "4    5774440.0  ...   25107925.0   26015786.0   26941773.0   27884380.0   \n",
       "\n",
       "          2016         2017         2018         2019         2020  \\\n",
       "0     104865.0     105361.0     105846.0     106310.0     106766.0   \n",
       "1  609978946.0  626392880.0  643090131.0  660046272.0  677243299.0   \n",
       "2   35383028.0   36296111.0   37171922.0   38041757.0   38928341.0   \n",
       "3  412551299.0  423769930.0  435229381.0  446911598.0  458803476.0   \n",
       "4   28842482.0   29816769.0   30809787.0   31825299.0   32866268.0   \n",
       "\n",
       "          2021  \n",
       "0     107195.0  \n",
       "1  694665117.0  \n",
       "2   39835428.0  \n",
       "3  470898870.0  \n",
       "4   33933611.0  \n",
       "\n",
       "[5 rows x 64 columns]"
      ]
     },
     "execution_count": 2,
     "metadata": {},
     "output_type": "execute_result"
    }
   ],
   "source": [
    "data = pd.read_csv('./data.csv')\n",
    "data.head()"
   ]
  },
  {
   "cell_type": "code",
   "execution_count": 3,
   "id": "b5c42e75",
   "metadata": {},
   "outputs": [
    {
     "name": "stdout",
     "output_type": "stream",
     "text": [
      "<class 'pandas.core.frame.DataFrame'>\n",
      "RangeIndex: 266 entries, 0 to 265\n",
      "Data columns (total 64 columns):\n",
      " #   Column        Non-Null Count  Dtype  \n",
      "---  ------        --------------  -----  \n",
      " 0   Country Name  266 non-null    object \n",
      " 1   Country Code  266 non-null    object \n",
      " 2   1960          264 non-null    float64\n",
      " 3   1961          264 non-null    float64\n",
      " 4   1962          264 non-null    float64\n",
      " 5   1963          264 non-null    float64\n",
      " 6   1964          264 non-null    float64\n",
      " 7   1965          264 non-null    float64\n",
      " 8   1966          264 non-null    float64\n",
      " 9   1967          264 non-null    float64\n",
      " 10  1968          264 non-null    float64\n",
      " 11  1969          264 non-null    float64\n",
      " 12  1970          264 non-null    float64\n",
      " 13  1971          264 non-null    float64\n",
      " 14  1972          264 non-null    float64\n",
      " 15  1973          264 non-null    float64\n",
      " 16  1974          264 non-null    float64\n",
      " 17  1975          264 non-null    float64\n",
      " 18  1976          264 non-null    float64\n",
      " 19  1977          264 non-null    float64\n",
      " 20  1978          264 non-null    float64\n",
      " 21  1979          264 non-null    float64\n",
      " 22  1980          264 non-null    float64\n",
      " 23  1981          264 non-null    float64\n",
      " 24  1982          264 non-null    float64\n",
      " 25  1983          264 non-null    float64\n",
      " 26  1984          264 non-null    float64\n",
      " 27  1985          264 non-null    float64\n",
      " 28  1986          264 non-null    float64\n",
      " 29  1987          264 non-null    float64\n",
      " 30  1988          264 non-null    float64\n",
      " 31  1989          264 non-null    float64\n",
      " 32  1990          265 non-null    float64\n",
      " 33  1991          265 non-null    float64\n",
      " 34  1992          264 non-null    float64\n",
      " 35  1993          264 non-null    float64\n",
      " 36  1994          264 non-null    float64\n",
      " 37  1995          265 non-null    float64\n",
      " 38  1996          265 non-null    float64\n",
      " 39  1997          265 non-null    float64\n",
      " 40  1998          265 non-null    float64\n",
      " 41  1999          265 non-null    float64\n",
      " 42  2000          265 non-null    float64\n",
      " 43  2001          265 non-null    float64\n",
      " 44  2002          265 non-null    float64\n",
      " 45  2003          265 non-null    float64\n",
      " 46  2004          265 non-null    float64\n",
      " 47  2005          265 non-null    float64\n",
      " 48  2006          265 non-null    float64\n",
      " 49  2007          265 non-null    float64\n",
      " 50  2008          265 non-null    float64\n",
      " 51  2009          265 non-null    float64\n",
      " 52  2010          265 non-null    float64\n",
      " 53  2011          265 non-null    float64\n",
      " 54  2012          264 non-null    float64\n",
      " 55  2013          264 non-null    float64\n",
      " 56  2014          264 non-null    float64\n",
      " 57  2015          264 non-null    float64\n",
      " 58  2016          264 non-null    float64\n",
      " 59  2017          264 non-null    float64\n",
      " 60  2018          264 non-null    float64\n",
      " 61  2019          264 non-null    float64\n",
      " 62  2020          264 non-null    float64\n",
      " 63  2021          264 non-null    float64\n",
      "dtypes: float64(62), object(2)\n",
      "memory usage: 133.1+ KB\n"
     ]
    }
   ],
   "source": [
    "data.info()"
   ]
  },
  {
   "cell_type": "code",
   "execution_count": 4,
   "id": "94606ec9",
   "metadata": {},
   "outputs": [
    {
     "data": {
      "text/plain": [
       "(266, 64)"
      ]
     },
     "execution_count": 4,
     "metadata": {},
     "output_type": "execute_result"
    }
   ],
   "source": [
    "data.shape"
   ]
  },
  {
   "cell_type": "markdown",
   "id": "b140e42b",
   "metadata": {},
   "source": [
    "## 2.  Check problems"
   ]
  },
  {
   "cell_type": "markdown",
   "id": "5658527f",
   "metadata": {},
   "source": [
    "### Missing value"
   ]
  },
  {
   "cell_type": "code",
   "execution_count": 5,
   "id": "8613969a",
   "metadata": {},
   "outputs": [
    {
     "data": {
      "text/plain": [
       "Country Name    0\n",
       "Country Code    0\n",
       "1960            2\n",
       "1961            2\n",
       "1962            2\n",
       "               ..\n",
       "2017            2\n",
       "2018            2\n",
       "2019            2\n",
       "2020            2\n",
       "2021            2\n",
       "Length: 64, dtype: int64"
      ]
     },
     "execution_count": 5,
     "metadata": {},
     "output_type": "execute_result"
    }
   ],
   "source": [
    "data.isnull().sum()"
   ]
  },
  {
   "cell_type": "markdown",
   "id": "613ec004",
   "metadata": {},
   "source": [
    "### Syntax"
   ]
  },
  {
   "cell_type": "code",
   "execution_count": 6,
   "id": "5db6c56f",
   "metadata": {},
   "outputs": [
    {
     "data": {
      "text/plain": [
       "0"
      ]
     },
     "execution_count": 6,
     "metadata": {},
     "output_type": "execute_result"
    }
   ],
   "source": [
    "((data.drop(columns = ['Country Name','Country Code'])<0).sum()>0).sum()"
   ]
  },
  {
   "cell_type": "markdown",
   "id": "39e83a6e",
   "metadata": {},
   "source": [
    "## 3. Cleaning data"
   ]
  },
  {
   "cell_type": "markdown",
   "id": "ac4c914f",
   "metadata": {},
   "source": [
    "### Data Reduction"
   ]
  },
  {
   "cell_type": "code",
   "execution_count": 7,
   "id": "7c7ebb73",
   "metadata": {},
   "outputs": [],
   "source": [
    "data.drop(columns = ['Country Code'],inplace=True)"
   ]
  },
  {
   "cell_type": "code",
   "execution_count": 8,
   "id": "9f3aecd7",
   "metadata": {
    "scrolled": true
   },
   "outputs": [
    {
     "data": {
      "text/html": [
       "<div>\n",
       "<style scoped>\n",
       "    .dataframe tbody tr th:only-of-type {\n",
       "        vertical-align: middle;\n",
       "    }\n",
       "\n",
       "    .dataframe tbody tr th {\n",
       "        vertical-align: top;\n",
       "    }\n",
       "\n",
       "    .dataframe thead th {\n",
       "        text-align: right;\n",
       "    }\n",
       "</style>\n",
       "<table border=\"1\" class=\"dataframe\">\n",
       "  <thead>\n",
       "    <tr style=\"text-align: right;\">\n",
       "      <th></th>\n",
       "      <th>Country Name</th>\n",
       "      <th>1960</th>\n",
       "      <th>1961</th>\n",
       "      <th>1962</th>\n",
       "      <th>1963</th>\n",
       "      <th>1964</th>\n",
       "      <th>1965</th>\n",
       "      <th>1966</th>\n",
       "      <th>1967</th>\n",
       "      <th>1968</th>\n",
       "      <th>...</th>\n",
       "      <th>2012</th>\n",
       "      <th>2013</th>\n",
       "      <th>2014</th>\n",
       "      <th>2015</th>\n",
       "      <th>2016</th>\n",
       "      <th>2017</th>\n",
       "      <th>2018</th>\n",
       "      <th>2019</th>\n",
       "      <th>2020</th>\n",
       "      <th>2021</th>\n",
       "    </tr>\n",
       "  </thead>\n",
       "  <tbody>\n",
       "    <tr>\n",
       "      <th>0</th>\n",
       "      <td>Aruba</td>\n",
       "      <td>54208.0</td>\n",
       "      <td>55434.0</td>\n",
       "      <td>56234.0</td>\n",
       "      <td>56699.0</td>\n",
       "      <td>57029.0</td>\n",
       "      <td>57357.0</td>\n",
       "      <td>57702.0</td>\n",
       "      <td>58044.0</td>\n",
       "      <td>58377.0</td>\n",
       "      <td>...</td>\n",
       "      <td>102565.0</td>\n",
       "      <td>103165.0</td>\n",
       "      <td>103776.0</td>\n",
       "      <td>104339.0</td>\n",
       "      <td>104865.0</td>\n",
       "      <td>105361.0</td>\n",
       "      <td>105846.0</td>\n",
       "      <td>106310.0</td>\n",
       "      <td>106766.0</td>\n",
       "      <td>107195.0</td>\n",
       "    </tr>\n",
       "    <tr>\n",
       "      <th>1</th>\n",
       "      <td>Africa Eastern and Southern</td>\n",
       "      <td>130836765.0</td>\n",
       "      <td>134159786.0</td>\n",
       "      <td>137614644.0</td>\n",
       "      <td>141202036.0</td>\n",
       "      <td>144920186.0</td>\n",
       "      <td>148769974.0</td>\n",
       "      <td>152752671.0</td>\n",
       "      <td>156876454.0</td>\n",
       "      <td>161156430.0</td>\n",
       "      <td>...</td>\n",
       "      <td>547482863.0</td>\n",
       "      <td>562601578.0</td>\n",
       "      <td>578075373.0</td>\n",
       "      <td>593871847.0</td>\n",
       "      <td>609978946.0</td>\n",
       "      <td>626392880.0</td>\n",
       "      <td>643090131.0</td>\n",
       "      <td>660046272.0</td>\n",
       "      <td>677243299.0</td>\n",
       "      <td>694665117.0</td>\n",
       "    </tr>\n",
       "    <tr>\n",
       "      <th>2</th>\n",
       "      <td>Afghanistan</td>\n",
       "      <td>8996967.0</td>\n",
       "      <td>9169406.0</td>\n",
       "      <td>9351442.0</td>\n",
       "      <td>9543200.0</td>\n",
       "      <td>9744772.0</td>\n",
       "      <td>9956318.0</td>\n",
       "      <td>10174840.0</td>\n",
       "      <td>10399936.0</td>\n",
       "      <td>10637064.0</td>\n",
       "      <td>...</td>\n",
       "      <td>31161378.0</td>\n",
       "      <td>32269592.0</td>\n",
       "      <td>33370804.0</td>\n",
       "      <td>34413603.0</td>\n",
       "      <td>35383028.0</td>\n",
       "      <td>36296111.0</td>\n",
       "      <td>37171922.0</td>\n",
       "      <td>38041757.0</td>\n",
       "      <td>38928341.0</td>\n",
       "      <td>39835428.0</td>\n",
       "    </tr>\n",
       "    <tr>\n",
       "      <th>3</th>\n",
       "      <td>Africa Western and Central</td>\n",
       "      <td>96396419.0</td>\n",
       "      <td>98407221.0</td>\n",
       "      <td>100506960.0</td>\n",
       "      <td>102691339.0</td>\n",
       "      <td>104953470.0</td>\n",
       "      <td>107289875.0</td>\n",
       "      <td>109701811.0</td>\n",
       "      <td>112195950.0</td>\n",
       "      <td>114781116.0</td>\n",
       "      <td>...</td>\n",
       "      <td>370243017.0</td>\n",
       "      <td>380437896.0</td>\n",
       "      <td>390882979.0</td>\n",
       "      <td>401586651.0</td>\n",
       "      <td>412551299.0</td>\n",
       "      <td>423769930.0</td>\n",
       "      <td>435229381.0</td>\n",
       "      <td>446911598.0</td>\n",
       "      <td>458803476.0</td>\n",
       "      <td>470898870.0</td>\n",
       "    </tr>\n",
       "    <tr>\n",
       "      <th>4</th>\n",
       "      <td>Angola</td>\n",
       "      <td>5454938.0</td>\n",
       "      <td>5531451.0</td>\n",
       "      <td>5608499.0</td>\n",
       "      <td>5679409.0</td>\n",
       "      <td>5734995.0</td>\n",
       "      <td>5770573.0</td>\n",
       "      <td>5781305.0</td>\n",
       "      <td>5774440.0</td>\n",
       "      <td>5771973.0</td>\n",
       "      <td>...</td>\n",
       "      <td>25107925.0</td>\n",
       "      <td>26015786.0</td>\n",
       "      <td>26941773.0</td>\n",
       "      <td>27884380.0</td>\n",
       "      <td>28842482.0</td>\n",
       "      <td>29816769.0</td>\n",
       "      <td>30809787.0</td>\n",
       "      <td>31825299.0</td>\n",
       "      <td>32866268.0</td>\n",
       "      <td>33933611.0</td>\n",
       "    </tr>\n",
       "  </tbody>\n",
       "</table>\n",
       "<p>5 rows × 63 columns</p>\n",
       "</div>"
      ],
      "text/plain": [
       "                  Country Name         1960         1961         1962  \\\n",
       "0                        Aruba      54208.0      55434.0      56234.0   \n",
       "1  Africa Eastern and Southern  130836765.0  134159786.0  137614644.0   \n",
       "2                  Afghanistan    8996967.0    9169406.0    9351442.0   \n",
       "3   Africa Western and Central   96396419.0   98407221.0  100506960.0   \n",
       "4                       Angola    5454938.0    5531451.0    5608499.0   \n",
       "\n",
       "          1963         1964         1965         1966         1967  \\\n",
       "0      56699.0      57029.0      57357.0      57702.0      58044.0   \n",
       "1  141202036.0  144920186.0  148769974.0  152752671.0  156876454.0   \n",
       "2    9543200.0    9744772.0    9956318.0   10174840.0   10399936.0   \n",
       "3  102691339.0  104953470.0  107289875.0  109701811.0  112195950.0   \n",
       "4    5679409.0    5734995.0    5770573.0    5781305.0    5774440.0   \n",
       "\n",
       "          1968  ...         2012         2013         2014         2015  \\\n",
       "0      58377.0  ...     102565.0     103165.0     103776.0     104339.0   \n",
       "1  161156430.0  ...  547482863.0  562601578.0  578075373.0  593871847.0   \n",
       "2   10637064.0  ...   31161378.0   32269592.0   33370804.0   34413603.0   \n",
       "3  114781116.0  ...  370243017.0  380437896.0  390882979.0  401586651.0   \n",
       "4    5771973.0  ...   25107925.0   26015786.0   26941773.0   27884380.0   \n",
       "\n",
       "          2016         2017         2018         2019         2020  \\\n",
       "0     104865.0     105361.0     105846.0     106310.0     106766.0   \n",
       "1  609978946.0  626392880.0  643090131.0  660046272.0  677243299.0   \n",
       "2   35383028.0   36296111.0   37171922.0   38041757.0   38928341.0   \n",
       "3  412551299.0  423769930.0  435229381.0  446911598.0  458803476.0   \n",
       "4   28842482.0   29816769.0   30809787.0   31825299.0   32866268.0   \n",
       "\n",
       "          2021  \n",
       "0     107195.0  \n",
       "1  694665117.0  \n",
       "2   39835428.0  \n",
       "3  470898870.0  \n",
       "4   33933611.0  \n",
       "\n",
       "[5 rows x 63 columns]"
      ]
     },
     "execution_count": 8,
     "metadata": {},
     "output_type": "execute_result"
    }
   ],
   "source": [
    "data.head()"
   ]
  },
  {
   "cell_type": "markdown",
   "id": "8f935a8e",
   "metadata": {},
   "source": [
    "### Missing value"
   ]
  },
  {
   "cell_type": "code",
   "execution_count": 16,
   "id": "d55b6137",
   "metadata": {},
   "outputs": [
    {
     "data": {
      "text/plain": [
       "[{'Country Name': array([], dtype=object)},\n",
       " {'1960': array(['Not classified', 'West Bank and Gaza'], dtype=object)},\n",
       " {'1961': array(['Not classified', 'West Bank and Gaza'], dtype=object)},\n",
       " {'1962': array(['Not classified', 'West Bank and Gaza'], dtype=object)},\n",
       " {'1963': array(['Not classified', 'West Bank and Gaza'], dtype=object)},\n",
       " {'1964': array(['Not classified', 'West Bank and Gaza'], dtype=object)},\n",
       " {'1965': array(['Not classified', 'West Bank and Gaza'], dtype=object)},\n",
       " {'1966': array(['Not classified', 'West Bank and Gaza'], dtype=object)},\n",
       " {'1967': array(['Not classified', 'West Bank and Gaza'], dtype=object)},\n",
       " {'1968': array(['Not classified', 'West Bank and Gaza'], dtype=object)},\n",
       " {'1969': array(['Not classified', 'West Bank and Gaza'], dtype=object)},\n",
       " {'1970': array(['Not classified', 'West Bank and Gaza'], dtype=object)},\n",
       " {'1971': array(['Not classified', 'West Bank and Gaza'], dtype=object)},\n",
       " {'1972': array(['Not classified', 'West Bank and Gaza'], dtype=object)},\n",
       " {'1973': array(['Not classified', 'West Bank and Gaza'], dtype=object)},\n",
       " {'1974': array(['Not classified', 'West Bank and Gaza'], dtype=object)},\n",
       " {'1975': array(['Not classified', 'West Bank and Gaza'], dtype=object)},\n",
       " {'1976': array(['Not classified', 'West Bank and Gaza'], dtype=object)},\n",
       " {'1977': array(['Not classified', 'West Bank and Gaza'], dtype=object)},\n",
       " {'1978': array(['Not classified', 'West Bank and Gaza'], dtype=object)},\n",
       " {'1979': array(['Not classified', 'West Bank and Gaza'], dtype=object)},\n",
       " {'1980': array(['Not classified', 'West Bank and Gaza'], dtype=object)},\n",
       " {'1981': array(['Not classified', 'West Bank and Gaza'], dtype=object)},\n",
       " {'1982': array(['Not classified', 'West Bank and Gaza'], dtype=object)},\n",
       " {'1983': array(['Not classified', 'West Bank and Gaza'], dtype=object)},\n",
       " {'1984': array(['Not classified', 'West Bank and Gaza'], dtype=object)},\n",
       " {'1985': array(['Not classified', 'West Bank and Gaza'], dtype=object)},\n",
       " {'1986': array(['Not classified', 'West Bank and Gaza'], dtype=object)},\n",
       " {'1987': array(['Not classified', 'West Bank and Gaza'], dtype=object)},\n",
       " {'1988': array(['Not classified', 'West Bank and Gaza'], dtype=object)},\n",
       " {'1989': array(['Not classified', 'West Bank and Gaza'], dtype=object)},\n",
       " {'1990': array(['Not classified'], dtype=object)},\n",
       " {'1991': array(['Not classified'], dtype=object)},\n",
       " {'1992': array(['Not classified', 'Kuwait'], dtype=object)},\n",
       " {'1993': array(['Not classified', 'Kuwait'], dtype=object)},\n",
       " {'1994': array(['Not classified', 'Kuwait'], dtype=object)},\n",
       " {'1995': array(['Not classified'], dtype=object)},\n",
       " {'1996': array(['Not classified'], dtype=object)},\n",
       " {'1997': array(['Not classified'], dtype=object)},\n",
       " {'1998': array(['Not classified'], dtype=object)},\n",
       " {'1999': array(['Not classified'], dtype=object)},\n",
       " {'2000': array(['Not classified'], dtype=object)},\n",
       " {'2001': array(['Not classified'], dtype=object)},\n",
       " {'2002': array(['Not classified'], dtype=object)},\n",
       " {'2003': array(['Not classified'], dtype=object)},\n",
       " {'2004': array(['Not classified'], dtype=object)},\n",
       " {'2005': array(['Not classified'], dtype=object)},\n",
       " {'2006': array(['Not classified'], dtype=object)},\n",
       " {'2007': array(['Not classified'], dtype=object)},\n",
       " {'2008': array(['Not classified'], dtype=object)},\n",
       " {'2009': array(['Not classified'], dtype=object)},\n",
       " {'2010': array(['Not classified'], dtype=object)},\n",
       " {'2011': array(['Not classified'], dtype=object)},\n",
       " {'2012': array(['Eritrea', 'Not classified'], dtype=object)},\n",
       " {'2013': array(['Eritrea', 'Not classified'], dtype=object)},\n",
       " {'2014': array(['Eritrea', 'Not classified'], dtype=object)},\n",
       " {'2015': array(['Eritrea', 'Not classified'], dtype=object)},\n",
       " {'2016': array(['Eritrea', 'Not classified'], dtype=object)},\n",
       " {'2017': array(['Eritrea', 'Not classified'], dtype=object)},\n",
       " {'2018': array(['Eritrea', 'Not classified'], dtype=object)},\n",
       " {'2019': array(['Eritrea', 'Not classified'], dtype=object)},\n",
       " {'2020': array(['Eritrea', 'Not classified'], dtype=object)},\n",
       " {'2021': array(['Eritrea', 'Not classified'], dtype=object)}]"
      ]
     },
     "execution_count": 16,
     "metadata": {},
     "output_type": "execute_result"
    }
   ],
   "source": [
    "listCountryMissing = []\n",
    "for item in data.columns:\n",
    "    listCountryMissing.append({item:data[data[item].isnull()]['Country Name'].values})\n",
    "listCountryMissing"
   ]
  },
  {
   "cell_type": "code",
   "execution_count": 24,
   "id": "6eaa2bbd",
   "metadata": {},
   "outputs": [],
   "source": [
    "data.dropna(thresh=2,inplace=True)"
   ]
  },
  {
   "cell_type": "code",
   "execution_count": 25,
   "id": "6a2d33f5",
   "metadata": {},
   "outputs": [],
   "source": [
    "#do something"
   ]
  },
  {
   "cell_type": "markdown",
   "id": "3bb38f17",
   "metadata": {},
   "source": [
    "## 4. EDA"
   ]
  },
  {
   "cell_type": "code",
   "execution_count": 28,
   "id": "1b1dd796",
   "metadata": {},
   "outputs": [],
   "source": [
    "import matplotlib.pyplot as plt"
   ]
  },
  {
   "cell_type": "markdown",
   "id": "b5c4093b",
   "metadata": {},
   "source": [
    "### Phân tích dữ liệu gia tăng dân số Việt Nam"
   ]
  },
  {
   "cell_type": "code",
   "execution_count": 50,
   "id": "34bacb36",
   "metadata": {
    "scrolled": true
   },
   "outputs": [],
   "source": [
    "Population = np.array((data[data['Country Name']=='Vietnam'].drop(columns = ['Country Name'])))\n",
    "Year = np.array(data.drop(columns = ['Country Name']).columns,dtype=int)"
   ]
  },
  {
   "cell_type": "code",
   "execution_count": 57,
   "id": "a1bfbf7e",
   "metadata": {},
   "outputs": [
    {
     "data": {
      "text/plain": [
       "array([32670048., 33666111., 34683410., 35721213., 36780001., 37858947.,\n",
       "       38958046., 40072951., 41193588., 42307149., 43404802., 44484032.,\n",
       "       45548476., 46603522., 47657554., 48718190., 49785278., 50861166.,\n",
       "       51959021., 53095406., 54281841., 55522804., 56814309., 58148384.,\n",
       "       59512619., 60896732., 62293859., 63701974., 65120432., 66550231.,\n",
       "       67988855., 69436956., 70883488., 72300308., 73651220., 74910462.,\n",
       "       76068739., 77133212., 78115712., 79035871., 79910411., 80742500.,\n",
       "       81534406., 82301650., 83062819., 83832662., 84617545., 85419588.,\n",
       "       86243424., 87092250., 87967655., 88871384., 89801926., 90752593.,\n",
       "       91713850., 92677082., 93640435., 94600643., 95545959., 96462108.,\n",
       "       97338583., 98168829.])"
      ]
     },
     "execution_count": 57,
     "metadata": {},
     "output_type": "execute_result"
    }
   ],
   "source": [
    "Population[0]"
   ]
  },
  {
   "cell_type": "code",
   "execution_count": 67,
   "id": "3704b05d",
   "metadata": {
    "scrolled": true
   },
   "outputs": [
    {
     "data": {
      "text/plain": [
       "Text(0, 0.5, 'Population')"
      ]
     },
     "execution_count": 67,
     "metadata": {},
     "output_type": "execute_result"
    },
    {
     "data": {
      "image/png": "[encoded data removed]",
      "text/plain": [
       "<Figure size 432x288 with 1 Axes>"
      ]
     },
     "metadata": {
      "needs_background": "light"
     },
     "output_type": "display_data"
    }
   ],
   "source": [
    "plt.plot(Year,Population[0])\n",
    "plt.xlabel('year')\n",
    "plt.ylabel('Population')"
   ]
  },
  {
   "cell_type": "code",
   "execution_count": 65,
   "id": "23513e37",
   "metadata": {},
   "outputs": [],
   "source": [
    "ratioYear = []\n",
    "for i in range(1,len(Population[0])):\n",
    "    ratioYear.append(abs(Population[0][i]-Population[0][i-1])/Population[0][i-1]*100)"
   ]
  },
  {
   "cell_type": "code",
   "execution_count": 73,
   "id": "722369f7",
   "metadata": {},
   "outputs": [
    {
     "data": {
      "text/plain": [
       "array([[5.42080000e+04, 5.54340000e+04, 5.62340000e+04, ...,\n",
       "        1.06310000e+05, 1.06766000e+05, 1.07195000e+05],\n",
       "       [1.30836765e+08, 1.34159786e+08, 1.37614644e+08, ...,\n",
       "        6.60046272e+08, 6.77243299e+08, 6.94665117e+08],\n",
       "       [8.99696700e+06, 9.16940600e+06, 9.35144200e+06, ...,\n",
       "        3.80417570e+07, 3.89283410e+07, 3.98354280e+07],\n",
       "       ...,\n",
       "       [1.70998360e+07, 1.75245330e+07, 1.79657330e+07, ...,\n",
       "        5.85582670e+07, 5.93086900e+07, 6.00419960e+07],\n",
       "       [3.07078000e+06, 3.16433000e+06, 3.26064500e+06, ...,\n",
       "        1.78610340e+07, 1.83839560e+07, 1.89206570e+07],\n",
       "       [3.77667900e+06, 3.90503800e+06, 4.03920900e+06, ...,\n",
       "        1.46454730e+07, 1.48629270e+07, 1.50921710e+07]])"
      ]
     },
     "execution_count": 73,
     "metadata": {},
     "output_type": "execute_result"
    }
   ],
   "source": [
    "worldYear = np.array(data.drop(columns = ['Country Name']))\n",
    "worldYear"
   ]
  },
  {
   "cell_type": "code",
   "execution_count": 64,
   "id": "e4b8423d",
   "metadata": {
    "scrolled": true
   },
   "outputs": [
    {
     "data": {
      "text/plain": [
       "[<matplotlib.lines.Line2D at 0x18feb7d2c50>]"
      ]
     },
     "execution_count": 64,
     "metadata": {},
     "output_type": "execute_result"
    },
    {
     "data": {
      "image/png": "[encoded data removed]",
      "text/plain": [
       "<Figure size 432x288 with 1 Axes>"
      ]
     },
     "metadata": {
      "needs_background": "light"
     },
     "output_type": "display_data"
    }
   ],
   "source": [
    "plt.plot(Year[1:],ratioYear)\n",
    "plt.xlabel('year')\n",
    "plt.ylabel('Population')"
   ]
  },
  {
   "cell_type": "code",
   "execution_count": null,
   "id": "5d88a91d",
   "metadata": {},
   "outputs": [],
   "source": []
  },
  {
   "cell_type": "code",
   "execution_count": null,
   "id": "7ae2654b",
   "metadata": {},
   "outputs": [],
   "source": [
    "plt.scatter( )"
   ]
  }
 ],
 "metadata": {
  "kernelspec": {
   "display_name": "Python 3 (ipykernel)",
   "language": "python",
   "name": "python3"
  },
  "language_info": {
   "codemirror_mode": {
    "name": "ipython",
    "version": 3
   },
   "file_extension": ".py",
   "mimetype": "text/x-python",
   "name": "python",
   "nbconvert_exporter": "python",
   "pygments_lexer": "ipython3",
   "version": "3.9.12"
  }
 },
 "nbformat": 4,
 "nbformat_minor": 5
}
