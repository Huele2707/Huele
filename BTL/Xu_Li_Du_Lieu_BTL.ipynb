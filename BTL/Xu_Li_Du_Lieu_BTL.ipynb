{
 "cells": [
  {
   "cell_type": "code",
   "execution_count": 1,
   "id": "ea1270de",
   "metadata": {},
   "outputs": [],
   "source": [
    "# Data Manipulation and numerical Calculations\n",
    "import pandas as pd\n",
    "import numpy as np\n",
    "import random\n",
    "\n",
    "# Data visualizations\n",
    "import matplotlib.pyplot as plt\n",
    "import seaborn as sns\n",
    "\n",
    "#to ignore warnings\n",
    "import warnings\n",
    "warnings.filterwarnings('ignore')"
   ]
  },
  {
   "cell_type": "code",
   "execution_count": 2,
   "id": "e0de2b2b",
   "metadata": {},
   "outputs": [
    {
     "name": "stdout",
     "output_type": "stream",
     "text": [
      "C:\\Users\\Admin\\Documents\\Nhập môn khoa học dữ liệu\\BTL\n"
     ]
    }
   ],
   "source": [
    "%cd \"C:\\Users\\Admin\\Documents\\Nhập môn khoa học dữ liệu\\BTL\""
   ]
  },
  {
   "cell_type": "code",
   "execution_count": 3,
   "id": "39ebe34c",
   "metadata": {},
   "outputs": [],
   "source": [
    "data = pd.read_csv(\"./Summer-Olympic-medals-1976-to-2008.csv\",encoding='latin-1')"
   ]
  },
  {
   "cell_type": "code",
   "execution_count": 4,
   "id": "bd9ae966",
   "metadata": {},
   "outputs": [
    {
     "data": {
      "text/html": [
       "<div>\n",
       "<style scoped>\n",
       "    .dataframe tbody tr th:only-of-type {\n",
       "        vertical-align: middle;\n",
       "    }\n",
       "\n",
       "    .dataframe tbody tr th {\n",
       "        vertical-align: top;\n",
       "    }\n",
       "\n",
       "    .dataframe thead th {\n",
       "        text-align: right;\n",
       "    }\n",
       "</style>\n",
       "<table border=\"1\" class=\"dataframe\">\n",
       "  <thead>\n",
       "    <tr style=\"text-align: right;\">\n",
       "      <th></th>\n",
       "      <th>City</th>\n",
       "      <th>Year</th>\n",
       "      <th>Sport</th>\n",
       "      <th>Discipline</th>\n",
       "      <th>Event</th>\n",
       "      <th>Athlete</th>\n",
       "      <th>Gender</th>\n",
       "      <th>Country_Code</th>\n",
       "      <th>Country</th>\n",
       "      <th>Event_gender</th>\n",
       "      <th>Medal</th>\n",
       "    </tr>\n",
       "  </thead>\n",
       "  <tbody>\n",
       "    <tr>\n",
       "      <th>0</th>\n",
       "      <td>Montreal</td>\n",
       "      <td>1976.0</td>\n",
       "      <td>Aquatics</td>\n",
       "      <td>Diving</td>\n",
       "      <td>3m springboard</td>\n",
       "      <td>KÖHLER, Christa</td>\n",
       "      <td>Women</td>\n",
       "      <td>GDR</td>\n",
       "      <td>East Germany</td>\n",
       "      <td>W</td>\n",
       "      <td>Silver</td>\n",
       "    </tr>\n",
       "    <tr>\n",
       "      <th>1</th>\n",
       "      <td>Montreal</td>\n",
       "      <td>1976.0</td>\n",
       "      <td>Aquatics</td>\n",
       "      <td>Diving</td>\n",
       "      <td>3m springboard</td>\n",
       "      <td>KOSENKOV, Aleksandr</td>\n",
       "      <td>Men</td>\n",
       "      <td>URS</td>\n",
       "      <td>Soviet Union</td>\n",
       "      <td>M</td>\n",
       "      <td>Bronze</td>\n",
       "    </tr>\n",
       "    <tr>\n",
       "      <th>2</th>\n",
       "      <td>Montreal</td>\n",
       "      <td>1976.0</td>\n",
       "      <td>Aquatics</td>\n",
       "      <td>Diving</td>\n",
       "      <td>3m springboard</td>\n",
       "      <td>BOGGS, Philip George</td>\n",
       "      <td>Men</td>\n",
       "      <td>USA</td>\n",
       "      <td>United States</td>\n",
       "      <td>M</td>\n",
       "      <td>Gold</td>\n",
       "    </tr>\n",
       "    <tr>\n",
       "      <th>3</th>\n",
       "      <td>Montreal</td>\n",
       "      <td>1976.0</td>\n",
       "      <td>Aquatics</td>\n",
       "      <td>Diving</td>\n",
       "      <td>3m springboard</td>\n",
       "      <td>CAGNOTTO, Giorgio Franco</td>\n",
       "      <td>Men</td>\n",
       "      <td>ITA</td>\n",
       "      <td>Italy</td>\n",
       "      <td>M</td>\n",
       "      <td>Silver</td>\n",
       "    </tr>\n",
       "    <tr>\n",
       "      <th>4</th>\n",
       "      <td>Montreal</td>\n",
       "      <td>1976.0</td>\n",
       "      <td>Aquatics</td>\n",
       "      <td>Diving</td>\n",
       "      <td>10m platform</td>\n",
       "      <td>WILSON, Deborah Keplar</td>\n",
       "      <td>Women</td>\n",
       "      <td>USA</td>\n",
       "      <td>United States</td>\n",
       "      <td>W</td>\n",
       "      <td>Bronze</td>\n",
       "    </tr>\n",
       "    <tr>\n",
       "      <th>5</th>\n",
       "      <td>Montreal</td>\n",
       "      <td>1976.0</td>\n",
       "      <td>Aquatics</td>\n",
       "      <td>Diving</td>\n",
       "      <td>10m platform</td>\n",
       "      <td>LOUGANIS, Gregory</td>\n",
       "      <td>Men</td>\n",
       "      <td>USA</td>\n",
       "      <td>United States</td>\n",
       "      <td>M</td>\n",
       "      <td>Silver</td>\n",
       "    </tr>\n",
       "    <tr>\n",
       "      <th>6</th>\n",
       "      <td>NaN</td>\n",
       "      <td>1976.0</td>\n",
       "      <td>Aquatics</td>\n",
       "      <td>Diving</td>\n",
       "      <td>10m platform</td>\n",
       "      <td>VAYTSEKHOVSKAYA, Elena</td>\n",
       "      <td>Women</td>\n",
       "      <td>URS</td>\n",
       "      <td>Soviet Union</td>\n",
       "      <td>W</td>\n",
       "      <td>Gold</td>\n",
       "    </tr>\n",
       "    <tr>\n",
       "      <th>7</th>\n",
       "      <td>Montreal</td>\n",
       "      <td>1976.0</td>\n",
       "      <td>Aquatics</td>\n",
       "      <td>Diving</td>\n",
       "      <td>3m springboard</td>\n",
       "      <td>POTTER-MCINGVALE, Cynthia</td>\n",
       "      <td>Women</td>\n",
       "      <td>USA</td>\n",
       "      <td>United States</td>\n",
       "      <td>W</td>\n",
       "      <td>Bronze</td>\n",
       "    </tr>\n",
       "    <tr>\n",
       "      <th>8</th>\n",
       "      <td>Montreal</td>\n",
       "      <td>1976.0</td>\n",
       "      <td>Aquatics</td>\n",
       "      <td>Diving</td>\n",
       "      <td>10m platform</td>\n",
       "      <td>DIBIASI, Klaus</td>\n",
       "      <td>Men</td>\n",
       "      <td>ITA</td>\n",
       "      <td>Italy</td>\n",
       "      <td>M</td>\n",
       "      <td>NaN</td>\n",
       "    </tr>\n",
       "    <tr>\n",
       "      <th>9</th>\n",
       "      <td>Montreal</td>\n",
       "      <td>1976.0</td>\n",
       "      <td>Aquatics</td>\n",
       "      <td>Diving</td>\n",
       "      <td>10m platform</td>\n",
       "      <td>ALEINIK, Vladimir</td>\n",
       "      <td>Men</td>\n",
       "      <td>URS</td>\n",
       "      <td>Soviet Union</td>\n",
       "      <td>M</td>\n",
       "      <td>Bronze</td>\n",
       "    </tr>\n",
       "  </tbody>\n",
       "</table>\n",
       "</div>"
      ],
      "text/plain": [
       "       City    Year     Sport Discipline           Event  \\\n",
       "0  Montreal  1976.0  Aquatics     Diving  3m springboard   \n",
       "1  Montreal  1976.0  Aquatics     Diving  3m springboard   \n",
       "2  Montreal  1976.0  Aquatics     Diving  3m springboard   \n",
       "3  Montreal  1976.0  Aquatics     Diving  3m springboard   \n",
       "4  Montreal  1976.0  Aquatics     Diving    10m platform   \n",
       "5  Montreal  1976.0  Aquatics     Diving    10m platform   \n",
       "6       NaN  1976.0  Aquatics     Diving    10m platform   \n",
       "7  Montreal  1976.0  Aquatics     Diving  3m springboard   \n",
       "8  Montreal  1976.0  Aquatics     Diving    10m platform   \n",
       "9  Montreal  1976.0  Aquatics     Diving    10m platform   \n",
       "\n",
       "                     Athlete Gender Country_Code        Country Event_gender  \\\n",
       "0            KÖHLER, Christa  Women          GDR   East Germany            W   \n",
       "1        KOSENKOV, Aleksandr    Men          URS   Soviet Union            M   \n",
       "2       BOGGS, Philip George    Men          USA  United States            M   \n",
       "3   CAGNOTTO, Giorgio Franco    Men          ITA          Italy            M   \n",
       "4     WILSON, Deborah Keplar  Women          USA  United States            W   \n",
       "5          LOUGANIS, Gregory    Men          USA  United States            M   \n",
       "6     VAYTSEKHOVSKAYA, Elena  Women          URS   Soviet Union            W   \n",
       "7  POTTER-MCINGVALE, Cynthia  Women          USA  United States            W   \n",
       "8             DIBIASI, Klaus    Men          ITA          Italy            M   \n",
       "9          ALEINIK, Vladimir    Men          URS   Soviet Union            M   \n",
       "\n",
       "    Medal  \n",
       "0  Silver  \n",
       "1  Bronze  \n",
       "2    Gold  \n",
       "3  Silver  \n",
       "4  Bronze  \n",
       "5  Silver  \n",
       "6    Gold  \n",
       "7  Bronze  \n",
       "8     NaN  \n",
       "9  Bronze  "
      ]
     },
     "execution_count": 4,
     "metadata": {},
     "output_type": "execute_result"
    }
   ],
   "source": [
    "data.head(10)"
   ]
  },
  {
   "cell_type": "markdown",
   "id": "7d5e863c",
   "metadata": {},
   "source": [
    "City - Thành phố nơi tổ chức Olympic\n",
    "\n",
    "Year - Năm tổ chức\n",
    "\n",
    "Sport - Thể loại thể thao (eg. Aquatics: môn dưới nước, \n",
    "Atheletics: điền kinh, ...)\n",
    "\n",
    "Discipline - Môn thi đấu ứng với thể loại (eg. Diving: nhảy cầu, Swimming: bơi etc.)\n",
    "\n",
    "Event - Hạng mục thi đấu (eg. 3m springboard: nhảy cầu 3m, 10m platform etc.)\n",
    "\n",
    "Athlete - Tên vận động viên giành huy chương\n",
    "\n",
    "Gender - Giới tính\n",
    "\n",
    "Country_Code - Mã quốc gia 3 ký tự\n",
    "\n",
    "Country - Quốc tịch của vận động viên\n",
    "\n",
    "Event_gender - Giới tính vận động viên khi tham gia tranh tài \n",
    "(Male, Female or Common Event)\n",
    "\n",
    "Medal - Huy chương (eg. Bronze, Silver, Gold)"
   ]
  },
  {
   "cell_type": "code",
   "execution_count": 36,
   "id": "69b79777",
   "metadata": {},
   "outputs": [
    {
     "data": {
      "text/plain": [
       "(15317, 11)"
      ]
     },
     "execution_count": 36,
     "metadata": {},
     "output_type": "execute_result"
    }
   ],
   "source": [
    "data.shape"
   ]
  },
  {
   "cell_type": "markdown",
   "id": "6e9a52e1",
   "metadata": {},
   "source": [
    "- Dữ liệu\n",
    " + 15317 dòng\n",
    " + 11 cột "
   ]
  },
  {
   "cell_type": "markdown",
   "id": "205af376",
   "metadata": {},
   "source": [
    "# 1. Xử lí dữ liệu"
   ]
  },
  {
   "cell_type": "markdown",
   "id": "b80b2a3b",
   "metadata": {},
   "source": [
    "1. Kiểm tra vấn đề dữ liệu\n",
    "Một số vấn đề dữ liệu ta sẽ thực hiện kiểm tra:\n",
    "\n",
    "Missing value\n",
    "\n",
    "Duplicated\n",
    "\n",
    "Lỗi logic\n",
    "\n",
    "Bất đồng bộ"
   ]
  },
  {
   "cell_type": "markdown",
   "id": "98e84bd7",
   "metadata": {},
   "source": [
    "### 1.1 Kiểm tra dữ liệu bị thiếu"
   ]
  },
  {
   "cell_type": "markdown",
   "id": "a4649266",
   "metadata": {},
   "source": [
    "#### a. Kiểm tra trên bảng"
   ]
  },
  {
   "cell_type": "code",
   "execution_count": 37,
   "id": "10c0053e",
   "metadata": {
    "scrolled": true
   },
   "outputs": [
    {
     "data": {
      "text/html": [
       "<div>\n",
       "<style scoped>\n",
       "    .dataframe tbody tr th:only-of-type {\n",
       "        vertical-align: middle;\n",
       "    }\n",
       "\n",
       "    .dataframe tbody tr th {\n",
       "        vertical-align: top;\n",
       "    }\n",
       "\n",
       "    .dataframe thead th {\n",
       "        text-align: right;\n",
       "    }\n",
       "</style>\n",
       "<table border=\"1\" class=\"dataframe\">\n",
       "  <thead>\n",
       "    <tr style=\"text-align: right;\">\n",
       "      <th></th>\n",
       "      <th>City</th>\n",
       "      <th>Year</th>\n",
       "      <th>Sport</th>\n",
       "      <th>Discipline</th>\n",
       "      <th>Event</th>\n",
       "      <th>Athlete</th>\n",
       "      <th>Gender</th>\n",
       "      <th>Country_Code</th>\n",
       "      <th>Country</th>\n",
       "      <th>Event_gender</th>\n",
       "      <th>Medal</th>\n",
       "    </tr>\n",
       "  </thead>\n",
       "  <tbody>\n",
       "    <tr>\n",
       "      <th>0</th>\n",
       "      <td>False</td>\n",
       "      <td>False</td>\n",
       "      <td>False</td>\n",
       "      <td>False</td>\n",
       "      <td>False</td>\n",
       "      <td>False</td>\n",
       "      <td>False</td>\n",
       "      <td>False</td>\n",
       "      <td>False</td>\n",
       "      <td>False</td>\n",
       "      <td>False</td>\n",
       "    </tr>\n",
       "    <tr>\n",
       "      <th>1</th>\n",
       "      <td>False</td>\n",
       "      <td>False</td>\n",
       "      <td>False</td>\n",
       "      <td>False</td>\n",
       "      <td>False</td>\n",
       "      <td>False</td>\n",
       "      <td>False</td>\n",
       "      <td>False</td>\n",
       "      <td>False</td>\n",
       "      <td>False</td>\n",
       "      <td>False</td>\n",
       "    </tr>\n",
       "    <tr>\n",
       "      <th>2</th>\n",
       "      <td>False</td>\n",
       "      <td>False</td>\n",
       "      <td>False</td>\n",
       "      <td>False</td>\n",
       "      <td>False</td>\n",
       "      <td>False</td>\n",
       "      <td>False</td>\n",
       "      <td>False</td>\n",
       "      <td>False</td>\n",
       "      <td>False</td>\n",
       "      <td>False</td>\n",
       "    </tr>\n",
       "    <tr>\n",
       "      <th>3</th>\n",
       "      <td>False</td>\n",
       "      <td>False</td>\n",
       "      <td>False</td>\n",
       "      <td>False</td>\n",
       "      <td>False</td>\n",
       "      <td>False</td>\n",
       "      <td>False</td>\n",
       "      <td>False</td>\n",
       "      <td>False</td>\n",
       "      <td>False</td>\n",
       "      <td>False</td>\n",
       "    </tr>\n",
       "    <tr>\n",
       "      <th>4</th>\n",
       "      <td>False</td>\n",
       "      <td>False</td>\n",
       "      <td>False</td>\n",
       "      <td>False</td>\n",
       "      <td>False</td>\n",
       "      <td>False</td>\n",
       "      <td>False</td>\n",
       "      <td>False</td>\n",
       "      <td>False</td>\n",
       "      <td>False</td>\n",
       "      <td>False</td>\n",
       "    </tr>\n",
       "    <tr>\n",
       "      <th>...</th>\n",
       "      <td>...</td>\n",
       "      <td>...</td>\n",
       "      <td>...</td>\n",
       "      <td>...</td>\n",
       "      <td>...</td>\n",
       "      <td>...</td>\n",
       "      <td>...</td>\n",
       "      <td>...</td>\n",
       "      <td>...</td>\n",
       "      <td>...</td>\n",
       "      <td>...</td>\n",
       "    </tr>\n",
       "    <tr>\n",
       "      <th>15312</th>\n",
       "      <td>False</td>\n",
       "      <td>False</td>\n",
       "      <td>False</td>\n",
       "      <td>False</td>\n",
       "      <td>False</td>\n",
       "      <td>False</td>\n",
       "      <td>False</td>\n",
       "      <td>False</td>\n",
       "      <td>False</td>\n",
       "      <td>False</td>\n",
       "      <td>False</td>\n",
       "    </tr>\n",
       "    <tr>\n",
       "      <th>15313</th>\n",
       "      <td>False</td>\n",
       "      <td>False</td>\n",
       "      <td>False</td>\n",
       "      <td>False</td>\n",
       "      <td>False</td>\n",
       "      <td>False</td>\n",
       "      <td>False</td>\n",
       "      <td>False</td>\n",
       "      <td>False</td>\n",
       "      <td>False</td>\n",
       "      <td>False</td>\n",
       "    </tr>\n",
       "    <tr>\n",
       "      <th>15314</th>\n",
       "      <td>False</td>\n",
       "      <td>False</td>\n",
       "      <td>False</td>\n",
       "      <td>False</td>\n",
       "      <td>False</td>\n",
       "      <td>False</td>\n",
       "      <td>False</td>\n",
       "      <td>False</td>\n",
       "      <td>False</td>\n",
       "      <td>False</td>\n",
       "      <td>False</td>\n",
       "    </tr>\n",
       "    <tr>\n",
       "      <th>15315</th>\n",
       "      <td>False</td>\n",
       "      <td>False</td>\n",
       "      <td>False</td>\n",
       "      <td>False</td>\n",
       "      <td>False</td>\n",
       "      <td>False</td>\n",
       "      <td>False</td>\n",
       "      <td>False</td>\n",
       "      <td>False</td>\n",
       "      <td>False</td>\n",
       "      <td>True</td>\n",
       "    </tr>\n",
       "    <tr>\n",
       "      <th>15316</th>\n",
       "      <td>False</td>\n",
       "      <td>False</td>\n",
       "      <td>False</td>\n",
       "      <td>False</td>\n",
       "      <td>False</td>\n",
       "      <td>False</td>\n",
       "      <td>False</td>\n",
       "      <td>False</td>\n",
       "      <td>False</td>\n",
       "      <td>False</td>\n",
       "      <td>False</td>\n",
       "    </tr>\n",
       "  </tbody>\n",
       "</table>\n",
       "<p>15317 rows × 11 columns</p>\n",
       "</div>"
      ],
      "text/plain": [
       "        City   Year  Sport  Discipline  Event  Athlete  Gender  Country_Code  \\\n",
       "0      False  False  False       False  False    False   False         False   \n",
       "1      False  False  False       False  False    False   False         False   \n",
       "2      False  False  False       False  False    False   False         False   \n",
       "3      False  False  False       False  False    False   False         False   \n",
       "4      False  False  False       False  False    False   False         False   \n",
       "...      ...    ...    ...         ...    ...      ...     ...           ...   \n",
       "15312  False  False  False       False  False    False   False         False   \n",
       "15313  False  False  False       False  False    False   False         False   \n",
       "15314  False  False  False       False  False    False   False         False   \n",
       "15315  False  False  False       False  False    False   False         False   \n",
       "15316  False  False  False       False  False    False   False         False   \n",
       "\n",
       "       Country  Event_gender  Medal  \n",
       "0        False         False  False  \n",
       "1        False         False  False  \n",
       "2        False         False  False  \n",
       "3        False         False  False  \n",
       "4        False         False  False  \n",
       "...        ...           ...    ...  \n",
       "15312    False         False  False  \n",
       "15313    False         False  False  \n",
       "15314    False         False  False  \n",
       "15315    False         False   True  \n",
       "15316    False         False  False  \n",
       "\n",
       "[15317 rows x 11 columns]"
      ]
     },
     "execution_count": 37,
     "metadata": {},
     "output_type": "execute_result"
    }
   ],
   "source": [
    "data.isnull()"
   ]
  },
  {
   "cell_type": "code",
   "execution_count": 38,
   "id": "adee1740",
   "metadata": {},
   "outputs": [
    {
     "name": "stdout",
     "output_type": "stream",
     "text": [
      "<class 'pandas.core.frame.DataFrame'>\n",
      "RangeIndex: 15317 entries, 0 to 15316\n",
      "Data columns (total 11 columns):\n",
      " #   Column        Non-Null Count  Dtype  \n",
      "---  ------        --------------  -----  \n",
      " 0   City          15241 non-null  object \n",
      " 1   Year          15293 non-null  float64\n",
      " 2   Sport         15317 non-null  object \n",
      " 3   Discipline    15317 non-null  object \n",
      " 4   Event         15316 non-null  object \n",
      " 5   Athlete       15317 non-null  object \n",
      " 6   Gender        15316 non-null  object \n",
      " 7   Country_Code  15317 non-null  object \n",
      " 8   Country       15238 non-null  object \n",
      " 9   Event_gender  15316 non-null  object \n",
      " 10  Medal         15271 non-null  object \n",
      "dtypes: float64(1), object(10)\n",
      "memory usage: 1.3+ MB\n"
     ]
    }
   ],
   "source": [
    "data.info()"
   ]
  },
  {
   "cell_type": "markdown",
   "id": "30df8b23",
   "metadata": {},
   "source": [
    "**Một số thông tin thu được sau khi thực hiện kiếm tra:**\n",
    "- Các cột City,Year,Country,Event_gender,Medal xuất  hiện giá trị bị thiếu\n",
    "- Các cột có kiểu dữ liêu định lượng là:Year\n",
    "- Các cột có kiểu dữ liệu định tính: City,Sport,Discipline,Event,Athlete,Gender,Country_Code,Country,Event_gender,Medal "
   ]
  },
  {
   "cell_type": "markdown",
   "id": "f99ee1b6",
   "metadata": {},
   "source": [
    "**Đếm số lượng missing value trong 1 cột**"
   ]
  },
  {
   "cell_type": "code",
   "execution_count": 39,
   "id": "e7534857",
   "metadata": {},
   "outputs": [
    {
     "data": {
      "text/plain": [
       "City            76\n",
       "Year            24\n",
       "Sport            0\n",
       "Discipline       0\n",
       "Event            1\n",
       "Athlete          0\n",
       "Gender           1\n",
       "Country_Code     0\n",
       "Country         79\n",
       "Event_gender     1\n",
       "Medal           46\n",
       "dtype: int64"
      ]
     },
     "execution_count": 39,
     "metadata": {},
     "output_type": "execute_result"
    }
   ],
   "source": [
    "data.isnull().sum()"
   ]
  },
  {
   "cell_type": "code",
   "execution_count": 40,
   "id": "425ae12c",
   "metadata": {},
   "outputs": [
    {
     "data": {
      "text/plain": [
       "City            0.496181\n",
       "Year            0.156689\n",
       "Sport           0.000000\n",
       "Discipline      0.000000\n",
       "Event           0.006529\n",
       "Athlete         0.000000\n",
       "Gender          0.006529\n",
       "Country_Code    0.000000\n",
       "Country         0.515767\n",
       "Event_gender    0.006529\n",
       "Medal           0.300320\n",
       "dtype: float64"
      ]
     },
     "execution_count": 40,
     "metadata": {},
     "output_type": "execute_result"
    }
   ],
   "source": [
    "(data.isnull().sum()/(len(data)))*100"
   ]
  },
  {
   "cell_type": "markdown",
   "id": "db7eca11",
   "metadata": {},
   "source": [
    "**Một số thông tin thu được sau khi thực hiện kiếm tra:**\n",
    "- Cột City bị thiếu 76 dữ liệu\n",
    "\n",
    "        => Giải pháp: Tính toán tỉ lệ giá trị bị thiếu trên tổng quan sát của mỗi cột. Có thể thấy dữ liệu tại cột City gặp vấn đề đến ~50% quan sát gặp vấn đề bị thiếu \n",
    "        => Thay thế bằng các gía trị xuất hiện nhiều nhất.\n",
    "- Cột Year  bị thiếu 24 dữ liệu\n",
    "\n",
    "        => Giải pháp: Bị mất gần 16% dữ liệu => Thay thế bằng các gía trị đứng trước nó.\n",
    "- Cột Event bị thiếu 1 dữ liệu\n",
    "\n",
    "        => Giải pháp: Bị mất gần 1% dữ liệu => Thay thế bằng các gía trị đứng trước nó.\n",
    "- Cột Gender bị thiếu 1 dữ liệu\n",
    "\n",
    "        => Giải pháp: Bị mất gần 1% dữ liệu => Thay thế bằng các gía trị đứng trước nó.\n",
    "- Cột Country bị thiếu 79 dữ liệu\n",
    "\n",
    "        => Giải pháp: Bị mất gần 52% dữ liệu => Thay thế bằng các gía trị xuất hiện nhiều nhất.\n",
    "- Cột Medal bị thiếu 46 dữ liệu\n",
    "\n",
    "        => Giải pháp: Bị mất 30% dữ liệu => Thay thế bằng các gía trị xuất hiện nhiều nhất."
   ]
  },
  {
   "cell_type": "markdown",
   "id": "53ee6419",
   "metadata": {},
   "source": [
    "### 1.2. Kiểm tra dữ liệu bị lặp"
   ]
  },
  {
   "cell_type": "code",
   "execution_count": 41,
   "id": "4aa36697",
   "metadata": {},
   "outputs": [
    {
     "data": {
      "text/plain": [
       "3"
      ]
     },
     "execution_count": 41,
     "metadata": {},
     "output_type": "execute_result"
    }
   ],
   "source": [
    "data.duplicated().sum()"
   ]
  },
  {
   "cell_type": "markdown",
   "id": "a853455f",
   "metadata": {},
   "source": [
    "- Có 3 cột bị lặp dữ liệu"
   ]
  },
  {
   "cell_type": "code",
   "execution_count": 42,
   "id": "e6769a20",
   "metadata": {
    "scrolled": true
   },
   "outputs": [
    {
     "data": {
      "text/html": [
       "<div>\n",
       "<style scoped>\n",
       "    .dataframe tbody tr th:only-of-type {\n",
       "        vertical-align: middle;\n",
       "    }\n",
       "\n",
       "    .dataframe tbody tr th {\n",
       "        vertical-align: top;\n",
       "    }\n",
       "\n",
       "    .dataframe thead th {\n",
       "        text-align: right;\n",
       "    }\n",
       "</style>\n",
       "<table border=\"1\" class=\"dataframe\">\n",
       "  <thead>\n",
       "    <tr style=\"text-align: right;\">\n",
       "      <th></th>\n",
       "      <th>City</th>\n",
       "      <th>Year</th>\n",
       "      <th>Sport</th>\n",
       "      <th>Discipline</th>\n",
       "      <th>Event</th>\n",
       "      <th>Athlete</th>\n",
       "      <th>Gender</th>\n",
       "      <th>Country_Code</th>\n",
       "      <th>Country</th>\n",
       "      <th>Event_gender</th>\n",
       "      <th>Medal</th>\n",
       "    </tr>\n",
       "  </thead>\n",
       "  <tbody>\n",
       "    <tr>\n",
       "      <th>463</th>\n",
       "      <td>Montreal</td>\n",
       "      <td>1976.0</td>\n",
       "      <td>Canoe / Kayak</td>\n",
       "      <td>Canoe / Kayak F</td>\n",
       "      <td>K-1 500m (kayak single)</td>\n",
       "      <td>KORSHUNOVA, Tatyana</td>\n",
       "      <td>Women</td>\n",
       "      <td>URS</td>\n",
       "      <td>Soviet Union</td>\n",
       "      <td>W</td>\n",
       "      <td>Silver</td>\n",
       "    </tr>\n",
       "    <tr>\n",
       "      <th>464</th>\n",
       "      <td>Montreal</td>\n",
       "      <td>1976.0</td>\n",
       "      <td>Canoe / Kayak</td>\n",
       "      <td>Canoe / Kayak F</td>\n",
       "      <td>K-1 500m (kayak single)</td>\n",
       "      <td>KORSHUNOVA, Tatyana</td>\n",
       "      <td>Women</td>\n",
       "      <td>URS</td>\n",
       "      <td>Soviet Union</td>\n",
       "      <td>W</td>\n",
       "      <td>Silver</td>\n",
       "    </tr>\n",
       "    <tr>\n",
       "      <th>2205</th>\n",
       "      <td>Moscow</td>\n",
       "      <td>1980.0</td>\n",
       "      <td>Hockey</td>\n",
       "      <td>Hockey</td>\n",
       "      <td>hockey</td>\n",
       "      <td>SINGH, Singh</td>\n",
       "      <td>Men</td>\n",
       "      <td>IND</td>\n",
       "      <td>India</td>\n",
       "      <td>M</td>\n",
       "      <td>Gold</td>\n",
       "    </tr>\n",
       "  </tbody>\n",
       "</table>\n",
       "</div>"
      ],
      "text/plain": [
       "          City    Year          Sport       Discipline  \\\n",
       "463   Montreal  1976.0  Canoe / Kayak  Canoe / Kayak F   \n",
       "464   Montreal  1976.0  Canoe / Kayak  Canoe / Kayak F   \n",
       "2205    Moscow  1980.0         Hockey           Hockey   \n",
       "\n",
       "                        Event              Athlete Gender Country_Code  \\\n",
       "463   K-1 500m (kayak single)  KORSHUNOVA, Tatyana  Women          URS   \n",
       "464   K-1 500m (kayak single)  KORSHUNOVA, Tatyana  Women          URS   \n",
       "2205                   hockey         SINGH, Singh    Men          IND   \n",
       "\n",
       "           Country Event_gender   Medal  \n",
       "463   Soviet Union            W  Silver  \n",
       "464   Soviet Union            W  Silver  \n",
       "2205         India            M    Gold  "
      ]
     },
     "execution_count": 42,
     "metadata": {},
     "output_type": "execute_result"
    }
   ],
   "source": [
    "data[data.duplicated()]"
   ]
  },
  {
   "cell_type": "code",
   "execution_count": 43,
   "id": "eb717f03",
   "metadata": {
    "scrolled": true
   },
   "outputs": [
    {
     "data": {
      "text/html": [
       "<div>\n",
       "<style scoped>\n",
       "    .dataframe tbody tr th:only-of-type {\n",
       "        vertical-align: middle;\n",
       "    }\n",
       "\n",
       "    .dataframe tbody tr th {\n",
       "        vertical-align: top;\n",
       "    }\n",
       "\n",
       "    .dataframe thead th {\n",
       "        text-align: right;\n",
       "    }\n",
       "</style>\n",
       "<table border=\"1\" class=\"dataframe\">\n",
       "  <thead>\n",
       "    <tr style=\"text-align: right;\">\n",
       "      <th></th>\n",
       "      <th>City</th>\n",
       "      <th>Year</th>\n",
       "      <th>Sport</th>\n",
       "      <th>Discipline</th>\n",
       "      <th>Event</th>\n",
       "      <th>Athlete</th>\n",
       "      <th>Gender</th>\n",
       "      <th>Country_Code</th>\n",
       "      <th>Country</th>\n",
       "      <th>Event_gender</th>\n",
       "      <th>Medal</th>\n",
       "    </tr>\n",
       "  </thead>\n",
       "  <tbody>\n",
       "    <tr>\n",
       "      <th>463</th>\n",
       "      <td>Montreal</td>\n",
       "      <td>1976.0</td>\n",
       "      <td>Canoe / Kayak</td>\n",
       "      <td>Canoe / Kayak F</td>\n",
       "      <td>K-1 500m (kayak single)</td>\n",
       "      <td>KORSHUNOVA, Tatyana</td>\n",
       "      <td>Women</td>\n",
       "      <td>URS</td>\n",
       "      <td>Soviet Union</td>\n",
       "      <td>W</td>\n",
       "      <td>Silver</td>\n",
       "    </tr>\n",
       "    <tr>\n",
       "      <th>464</th>\n",
       "      <td>Montreal</td>\n",
       "      <td>1976.0</td>\n",
       "      <td>Canoe / Kayak</td>\n",
       "      <td>Canoe / Kayak F</td>\n",
       "      <td>K-1 500m (kayak single)</td>\n",
       "      <td>KORSHUNOVA, Tatyana</td>\n",
       "      <td>Women</td>\n",
       "      <td>URS</td>\n",
       "      <td>Soviet Union</td>\n",
       "      <td>W</td>\n",
       "      <td>Silver</td>\n",
       "    </tr>\n",
       "    <tr>\n",
       "      <th>2205</th>\n",
       "      <td>Moscow</td>\n",
       "      <td>1980.0</td>\n",
       "      <td>Hockey</td>\n",
       "      <td>Hockey</td>\n",
       "      <td>hockey</td>\n",
       "      <td>SINGH, Singh</td>\n",
       "      <td>Men</td>\n",
       "      <td>IND</td>\n",
       "      <td>India</td>\n",
       "      <td>M</td>\n",
       "      <td>Gold</td>\n",
       "    </tr>\n",
       "  </tbody>\n",
       "</table>\n",
       "</div>"
      ],
      "text/plain": [
       "          City    Year          Sport       Discipline  \\\n",
       "463   Montreal  1976.0  Canoe / Kayak  Canoe / Kayak F   \n",
       "464   Montreal  1976.0  Canoe / Kayak  Canoe / Kayak F   \n",
       "2205    Moscow  1980.0         Hockey           Hockey   \n",
       "\n",
       "                        Event              Athlete Gender Country_Code  \\\n",
       "463   K-1 500m (kayak single)  KORSHUNOVA, Tatyana  Women          URS   \n",
       "464   K-1 500m (kayak single)  KORSHUNOVA, Tatyana  Women          URS   \n",
       "2205                   hockey         SINGH, Singh    Men          IND   \n",
       "\n",
       "           Country Event_gender   Medal  \n",
       "463   Soviet Union            W  Silver  \n",
       "464   Soviet Union            W  Silver  \n",
       "2205         India            M    Gold  "
      ]
     },
     "execution_count": 43,
     "metadata": {},
     "output_type": "execute_result"
    }
   ],
   "source": [
    "data[data.duplicated()]"
   ]
  },
  {
   "cell_type": "markdown",
   "id": "7e9d64d5",
   "metadata": {},
   "source": [
    "- Dữ liệu bị lặp taị năm 1976 \n",
    "\n",
    "  => Giaỉ pháp: Xóa 1 dòng\n",
    "- Tại năm 1980 bị lặp môn thi \"Hockey\" taị cột Sport và Event  \n",
    "\n",
    "  => Giaỉ pháp: Thay thế \"Hockey\" taị cột Sport và Event bằng giá trị đứng trước nó."
   ]
  },
  {
   "cell_type": "markdown",
   "id": "b5ad4c41",
   "metadata": {},
   "source": [
    "# 2.Xử lí dữ liệu "
   ]
  },
  {
   "cell_type": "markdown",
   "id": "672b6dda",
   "metadata": {},
   "source": [
    "## 2.1 Xử lí dữ liệu thiếu  "
   ]
  },
  {
   "cell_type": "markdown",
   "id": "752d615f",
   "metadata": {},
   "source": [
    "- Cột 'Year' đang ở dạng float nên ta sẽ ép kiểu về số nguyên "
   ]
  },
  {
   "cell_type": "code",
   "execution_count": 44,
   "id": "56d8d826",
   "metadata": {
    "collapsed": true
   },
   "outputs": [
    {
     "ename": "IntCastingNaNError",
     "evalue": "Cannot convert non-finite values (NA or inf) to integer",
     "output_type": "error",
     "traceback": [
      "\u001b[1;31m---------------------------------------------------------------------------\u001b[0m",
      "\u001b[1;31mIntCastingNaNError\u001b[0m                        Traceback (most recent call last)",
      "Input \u001b[1;32mIn [44]\u001b[0m, in \u001b[0;36m<cell line: 1>\u001b[1;34m()\u001b[0m\n\u001b[1;32m----> 1\u001b[0m data[\u001b[38;5;124m'\u001b[39m\u001b[38;5;124mYear\u001b[39m\u001b[38;5;124m'\u001b[39m] \u001b[38;5;241m=\u001b[39m \u001b[43mdata\u001b[49m\u001b[43m[\u001b[49m\u001b[38;5;124;43m'\u001b[39;49m\u001b[38;5;124;43mYear\u001b[39;49m\u001b[38;5;124;43m'\u001b[39;49m\u001b[43m]\u001b[49m\u001b[38;5;241;43m.\u001b[39;49m\u001b[43mastype\u001b[49m\u001b[43m(\u001b[49m\u001b[38;5;124;43m'\u001b[39;49m\u001b[38;5;124;43mint64\u001b[39;49m\u001b[38;5;124;43m'\u001b[39;49m\u001b[43m)\u001b[49m\n\u001b[0;32m      2\u001b[0m data[\u001b[38;5;124m'\u001b[39m\u001b[38;5;124mYear\u001b[39m\u001b[38;5;124m'\u001b[39m]\n",
      "File \u001b[1;32m~\\anaconda3\\lib\\site-packages\\pandas\\core\\generic.py:5912\u001b[0m, in \u001b[0;36mNDFrame.astype\u001b[1;34m(self, dtype, copy, errors)\u001b[0m\n\u001b[0;32m   5905\u001b[0m     results \u001b[38;5;241m=\u001b[39m [\n\u001b[0;32m   5906\u001b[0m         \u001b[38;5;28mself\u001b[39m\u001b[38;5;241m.\u001b[39miloc[:, i]\u001b[38;5;241m.\u001b[39mastype(dtype, copy\u001b[38;5;241m=\u001b[39mcopy)\n\u001b[0;32m   5907\u001b[0m         \u001b[38;5;28;01mfor\u001b[39;00m i \u001b[38;5;129;01min\u001b[39;00m \u001b[38;5;28mrange\u001b[39m(\u001b[38;5;28mlen\u001b[39m(\u001b[38;5;28mself\u001b[39m\u001b[38;5;241m.\u001b[39mcolumns))\n\u001b[0;32m   5908\u001b[0m     ]\n\u001b[0;32m   5910\u001b[0m \u001b[38;5;28;01melse\u001b[39;00m:\n\u001b[0;32m   5911\u001b[0m     \u001b[38;5;66;03m# else, only a single dtype is given\u001b[39;00m\n\u001b[1;32m-> 5912\u001b[0m     new_data \u001b[38;5;241m=\u001b[39m \u001b[38;5;28;43mself\u001b[39;49m\u001b[38;5;241;43m.\u001b[39;49m\u001b[43m_mgr\u001b[49m\u001b[38;5;241;43m.\u001b[39;49m\u001b[43mastype\u001b[49m\u001b[43m(\u001b[49m\u001b[43mdtype\u001b[49m\u001b[38;5;241;43m=\u001b[39;49m\u001b[43mdtype\u001b[49m\u001b[43m,\u001b[49m\u001b[43m \u001b[49m\u001b[43mcopy\u001b[49m\u001b[38;5;241;43m=\u001b[39;49m\u001b[43mcopy\u001b[49m\u001b[43m,\u001b[49m\u001b[43m \u001b[49m\u001b[43merrors\u001b[49m\u001b[38;5;241;43m=\u001b[39;49m\u001b[43merrors\u001b[49m\u001b[43m)\u001b[49m\n\u001b[0;32m   5913\u001b[0m     \u001b[38;5;28;01mreturn\u001b[39;00m \u001b[38;5;28mself\u001b[39m\u001b[38;5;241m.\u001b[39m_constructor(new_data)\u001b[38;5;241m.\u001b[39m__finalize__(\u001b[38;5;28mself\u001b[39m, method\u001b[38;5;241m=\u001b[39m\u001b[38;5;124m\"\u001b[39m\u001b[38;5;124mastype\u001b[39m\u001b[38;5;124m\"\u001b[39m)\n\u001b[0;32m   5915\u001b[0m \u001b[38;5;66;03m# GH 33113: handle empty frame or series\u001b[39;00m\n",
      "File \u001b[1;32m~\\anaconda3\\lib\\site-packages\\pandas\\core\\internals\\managers.py:419\u001b[0m, in \u001b[0;36mBaseBlockManager.astype\u001b[1;34m(self, dtype, copy, errors)\u001b[0m\n\u001b[0;32m    418\u001b[0m \u001b[38;5;28;01mdef\u001b[39;00m \u001b[38;5;21mastype\u001b[39m(\u001b[38;5;28mself\u001b[39m: T, dtype, copy: \u001b[38;5;28mbool\u001b[39m \u001b[38;5;241m=\u001b[39m \u001b[38;5;28;01mFalse\u001b[39;00m, errors: \u001b[38;5;28mstr\u001b[39m \u001b[38;5;241m=\u001b[39m \u001b[38;5;124m\"\u001b[39m\u001b[38;5;124mraise\u001b[39m\u001b[38;5;124m\"\u001b[39m) \u001b[38;5;241m-\u001b[39m\u001b[38;5;241m>\u001b[39m T:\n\u001b[1;32m--> 419\u001b[0m     \u001b[38;5;28;01mreturn\u001b[39;00m \u001b[38;5;28;43mself\u001b[39;49m\u001b[38;5;241;43m.\u001b[39;49m\u001b[43mapply\u001b[49m\u001b[43m(\u001b[49m\u001b[38;5;124;43m\"\u001b[39;49m\u001b[38;5;124;43mastype\u001b[39;49m\u001b[38;5;124;43m\"\u001b[39;49m\u001b[43m,\u001b[49m\u001b[43m \u001b[49m\u001b[43mdtype\u001b[49m\u001b[38;5;241;43m=\u001b[39;49m\u001b[43mdtype\u001b[49m\u001b[43m,\u001b[49m\u001b[43m \u001b[49m\u001b[43mcopy\u001b[49m\u001b[38;5;241;43m=\u001b[39;49m\u001b[43mcopy\u001b[49m\u001b[43m,\u001b[49m\u001b[43m \u001b[49m\u001b[43merrors\u001b[49m\u001b[38;5;241;43m=\u001b[39;49m\u001b[43merrors\u001b[49m\u001b[43m)\u001b[49m\n",
      "File \u001b[1;32m~\\anaconda3\\lib\\site-packages\\pandas\\core\\internals\\managers.py:304\u001b[0m, in \u001b[0;36mBaseBlockManager.apply\u001b[1;34m(self, f, align_keys, ignore_failures, **kwargs)\u001b[0m\n\u001b[0;32m    302\u001b[0m         applied \u001b[38;5;241m=\u001b[39m b\u001b[38;5;241m.\u001b[39mapply(f, \u001b[38;5;241m*\u001b[39m\u001b[38;5;241m*\u001b[39mkwargs)\n\u001b[0;32m    303\u001b[0m     \u001b[38;5;28;01melse\u001b[39;00m:\n\u001b[1;32m--> 304\u001b[0m         applied \u001b[38;5;241m=\u001b[39m \u001b[38;5;28mgetattr\u001b[39m(b, f)(\u001b[38;5;241m*\u001b[39m\u001b[38;5;241m*\u001b[39mkwargs)\n\u001b[0;32m    305\u001b[0m \u001b[38;5;28;01mexcept\u001b[39;00m (\u001b[38;5;167;01mTypeError\u001b[39;00m, \u001b[38;5;167;01mNotImplementedError\u001b[39;00m):\n\u001b[0;32m    306\u001b[0m     \u001b[38;5;28;01mif\u001b[39;00m \u001b[38;5;129;01mnot\u001b[39;00m ignore_failures:\n",
      "File \u001b[1;32m~\\anaconda3\\lib\\site-packages\\pandas\\core\\internals\\blocks.py:580\u001b[0m, in \u001b[0;36mBlock.astype\u001b[1;34m(self, dtype, copy, errors)\u001b[0m\n\u001b[0;32m    562\u001b[0m \u001b[38;5;124;03m\"\"\"\u001b[39;00m\n\u001b[0;32m    563\u001b[0m \u001b[38;5;124;03mCoerce to the new dtype.\u001b[39;00m\n\u001b[0;32m    564\u001b[0m \n\u001b[1;32m   (...)\u001b[0m\n\u001b[0;32m    576\u001b[0m \u001b[38;5;124;03mBlock\u001b[39;00m\n\u001b[0;32m    577\u001b[0m \u001b[38;5;124;03m\"\"\"\u001b[39;00m\n\u001b[0;32m    578\u001b[0m values \u001b[38;5;241m=\u001b[39m \u001b[38;5;28mself\u001b[39m\u001b[38;5;241m.\u001b[39mvalues\n\u001b[1;32m--> 580\u001b[0m new_values \u001b[38;5;241m=\u001b[39m \u001b[43mastype_array_safe\u001b[49m\u001b[43m(\u001b[49m\u001b[43mvalues\u001b[49m\u001b[43m,\u001b[49m\u001b[43m \u001b[49m\u001b[43mdtype\u001b[49m\u001b[43m,\u001b[49m\u001b[43m \u001b[49m\u001b[43mcopy\u001b[49m\u001b[38;5;241;43m=\u001b[39;49m\u001b[43mcopy\u001b[49m\u001b[43m,\u001b[49m\u001b[43m \u001b[49m\u001b[43merrors\u001b[49m\u001b[38;5;241;43m=\u001b[39;49m\u001b[43merrors\u001b[49m\u001b[43m)\u001b[49m\n\u001b[0;32m    582\u001b[0m new_values \u001b[38;5;241m=\u001b[39m maybe_coerce_values(new_values)\n\u001b[0;32m    583\u001b[0m newb \u001b[38;5;241m=\u001b[39m \u001b[38;5;28mself\u001b[39m\u001b[38;5;241m.\u001b[39mmake_block(new_values)\n",
      "File \u001b[1;32m~\\anaconda3\\lib\\site-packages\\pandas\\core\\dtypes\\cast.py:1292\u001b[0m, in \u001b[0;36mastype_array_safe\u001b[1;34m(values, dtype, copy, errors)\u001b[0m\n\u001b[0;32m   1289\u001b[0m     dtype \u001b[38;5;241m=\u001b[39m dtype\u001b[38;5;241m.\u001b[39mnumpy_dtype\n\u001b[0;32m   1291\u001b[0m \u001b[38;5;28;01mtry\u001b[39;00m:\n\u001b[1;32m-> 1292\u001b[0m     new_values \u001b[38;5;241m=\u001b[39m \u001b[43mastype_array\u001b[49m\u001b[43m(\u001b[49m\u001b[43mvalues\u001b[49m\u001b[43m,\u001b[49m\u001b[43m \u001b[49m\u001b[43mdtype\u001b[49m\u001b[43m,\u001b[49m\u001b[43m \u001b[49m\u001b[43mcopy\u001b[49m\u001b[38;5;241;43m=\u001b[39;49m\u001b[43mcopy\u001b[49m\u001b[43m)\u001b[49m\n\u001b[0;32m   1293\u001b[0m \u001b[38;5;28;01mexcept\u001b[39;00m (\u001b[38;5;167;01mValueError\u001b[39;00m, \u001b[38;5;167;01mTypeError\u001b[39;00m):\n\u001b[0;32m   1294\u001b[0m     \u001b[38;5;66;03m# e.g. astype_nansafe can fail on object-dtype of strings\u001b[39;00m\n\u001b[0;32m   1295\u001b[0m     \u001b[38;5;66;03m#  trying to convert to float\u001b[39;00m\n\u001b[0;32m   1296\u001b[0m     \u001b[38;5;28;01mif\u001b[39;00m errors \u001b[38;5;241m==\u001b[39m \u001b[38;5;124m\"\u001b[39m\u001b[38;5;124mignore\u001b[39m\u001b[38;5;124m\"\u001b[39m:\n",
      "File \u001b[1;32m~\\anaconda3\\lib\\site-packages\\pandas\\core\\dtypes\\cast.py:1237\u001b[0m, in \u001b[0;36mastype_array\u001b[1;34m(values, dtype, copy)\u001b[0m\n\u001b[0;32m   1234\u001b[0m     values \u001b[38;5;241m=\u001b[39m values\u001b[38;5;241m.\u001b[39mastype(dtype, copy\u001b[38;5;241m=\u001b[39mcopy)\n\u001b[0;32m   1236\u001b[0m \u001b[38;5;28;01melse\u001b[39;00m:\n\u001b[1;32m-> 1237\u001b[0m     values \u001b[38;5;241m=\u001b[39m \u001b[43mastype_nansafe\u001b[49m\u001b[43m(\u001b[49m\u001b[43mvalues\u001b[49m\u001b[43m,\u001b[49m\u001b[43m \u001b[49m\u001b[43mdtype\u001b[49m\u001b[43m,\u001b[49m\u001b[43m \u001b[49m\u001b[43mcopy\u001b[49m\u001b[38;5;241;43m=\u001b[39;49m\u001b[43mcopy\u001b[49m\u001b[43m)\u001b[49m\n\u001b[0;32m   1239\u001b[0m \u001b[38;5;66;03m# in pandas we don't store numpy str dtypes, so convert to object\u001b[39;00m\n\u001b[0;32m   1240\u001b[0m \u001b[38;5;28;01mif\u001b[39;00m \u001b[38;5;28misinstance\u001b[39m(dtype, np\u001b[38;5;241m.\u001b[39mdtype) \u001b[38;5;129;01mand\u001b[39;00m \u001b[38;5;28missubclass\u001b[39m(values\u001b[38;5;241m.\u001b[39mdtype\u001b[38;5;241m.\u001b[39mtype, \u001b[38;5;28mstr\u001b[39m):\n",
      "File \u001b[1;32m~\\anaconda3\\lib\\site-packages\\pandas\\core\\dtypes\\cast.py:1148\u001b[0m, in \u001b[0;36mastype_nansafe\u001b[1;34m(arr, dtype, copy, skipna)\u001b[0m\n\u001b[0;32m   1145\u001b[0m     \u001b[38;5;28;01mraise\u001b[39;00m \u001b[38;5;167;01mTypeError\u001b[39;00m(\u001b[38;5;124mf\u001b[39m\u001b[38;5;124m\"\u001b[39m\u001b[38;5;124mcannot astype a timedelta from [\u001b[39m\u001b[38;5;132;01m{\u001b[39;00marr\u001b[38;5;241m.\u001b[39mdtype\u001b[38;5;132;01m}\u001b[39;00m\u001b[38;5;124m] to [\u001b[39m\u001b[38;5;132;01m{\u001b[39;00mdtype\u001b[38;5;132;01m}\u001b[39;00m\u001b[38;5;124m]\u001b[39m\u001b[38;5;124m\"\u001b[39m)\n\u001b[0;32m   1147\u001b[0m \u001b[38;5;28;01melif\u001b[39;00m np\u001b[38;5;241m.\u001b[39missubdtype(arr\u001b[38;5;241m.\u001b[39mdtype, np\u001b[38;5;241m.\u001b[39mfloating) \u001b[38;5;129;01mand\u001b[39;00m np\u001b[38;5;241m.\u001b[39missubdtype(dtype, np\u001b[38;5;241m.\u001b[39minteger):\n\u001b[1;32m-> 1148\u001b[0m     \u001b[38;5;28;01mreturn\u001b[39;00m \u001b[43mastype_float_to_int_nansafe\u001b[49m\u001b[43m(\u001b[49m\u001b[43marr\u001b[49m\u001b[43m,\u001b[49m\u001b[43m \u001b[49m\u001b[43mdtype\u001b[49m\u001b[43m,\u001b[49m\u001b[43m \u001b[49m\u001b[43mcopy\u001b[49m\u001b[43m)\u001b[49m\n\u001b[0;32m   1150\u001b[0m \u001b[38;5;28;01melif\u001b[39;00m is_object_dtype(arr\u001b[38;5;241m.\u001b[39mdtype):\n\u001b[0;32m   1151\u001b[0m \n\u001b[0;32m   1152\u001b[0m     \u001b[38;5;66;03m# work around NumPy brokenness, #1987\u001b[39;00m\n\u001b[0;32m   1153\u001b[0m     \u001b[38;5;28;01mif\u001b[39;00m np\u001b[38;5;241m.\u001b[39missubdtype(dtype\u001b[38;5;241m.\u001b[39mtype, np\u001b[38;5;241m.\u001b[39minteger):\n",
      "File \u001b[1;32m~\\anaconda3\\lib\\site-packages\\pandas\\core\\dtypes\\cast.py:1193\u001b[0m, in \u001b[0;36mastype_float_to_int_nansafe\u001b[1;34m(values, dtype, copy)\u001b[0m\n\u001b[0;32m   1189\u001b[0m \u001b[38;5;124;03m\"\"\"\u001b[39;00m\n\u001b[0;32m   1190\u001b[0m \u001b[38;5;124;03mastype with a check preventing converting NaN to an meaningless integer value.\u001b[39;00m\n\u001b[0;32m   1191\u001b[0m \u001b[38;5;124;03m\"\"\"\u001b[39;00m\n\u001b[0;32m   1192\u001b[0m \u001b[38;5;28;01mif\u001b[39;00m \u001b[38;5;129;01mnot\u001b[39;00m np\u001b[38;5;241m.\u001b[39misfinite(values)\u001b[38;5;241m.\u001b[39mall():\n\u001b[1;32m-> 1193\u001b[0m     \u001b[38;5;28;01mraise\u001b[39;00m IntCastingNaNError(\n\u001b[0;32m   1194\u001b[0m         \u001b[38;5;124m\"\u001b[39m\u001b[38;5;124mCannot convert non-finite values (NA or inf) to integer\u001b[39m\u001b[38;5;124m\"\u001b[39m\n\u001b[0;32m   1195\u001b[0m     )\n\u001b[0;32m   1196\u001b[0m \u001b[38;5;28;01mreturn\u001b[39;00m values\u001b[38;5;241m.\u001b[39mastype(dtype, copy\u001b[38;5;241m=\u001b[39mcopy)\n",
      "\u001b[1;31mIntCastingNaNError\u001b[0m: Cannot convert non-finite values (NA or inf) to integer"
     ]
    }
   ],
   "source": [
    "\n",
    "data['Year'] = data['Year'].astype('int64')\n",
    "data['Year'] "
   ]
  },
  {
   "cell_type": "code",
   "execution_count": null,
   "id": "ff5d7c86",
   "metadata": {},
   "outputs": [],
   "source": [
    "data['Year'].value_counts()"
   ]
  },
  {
   "cell_type": "code",
   "execution_count": 19,
   "id": "654ca5b1",
   "metadata": {},
   "outputs": [],
   "source": [
    "def update_city(data,nam=0,city=''):\n",
    "    data[data['Year'] == nam].City.fillna(city, inplace=True)\n",
    "# City là noiw tổ chức Olympic nên mỗi năm chỉ tổ chức ở 1 thành phố nên ta lọc được thành phố theo năm và \n",
    "#lấy mode() để lấy được tên nước vì ko biết lấy tên nước ra như nao"
   ]
  },
  {
   "cell_type": "code",
   "execution_count": 20,
   "id": "00879daf",
   "metadata": {},
   "outputs": [],
   "source": [
    "for i in range (1976,2009,4):\n",
    "    city = data[data['Year'] == i].City.mode()[0]\n",
    "    update_city(data,i,city)"
   ]
  },
  {
   "cell_type": "code",
   "execution_count": 22,
   "id": "8d84eeb8",
   "metadata": {},
   "outputs": [
    {
     "data": {
      "text/plain": [
       "City            76\n",
       "Year            24\n",
       "Sport            0\n",
       "Discipline       0\n",
       "Event            1\n",
       "Athlete          0\n",
       "Gender           1\n",
       "Country_Code     0\n",
       "Country         79\n",
       "Event_gender     1\n",
       "Medal           46\n",
       "dtype: int64"
      ]
     },
     "execution_count": 22,
     "metadata": {},
     "output_type": "execute_result"
    }
   ],
   "source": [
    "data.isnull().sum()"
   ]
  },
  {
   "cell_type": "code",
   "execution_count": 50,
   "id": "d6821700",
   "metadata": {
    "scrolled": true
   },
   "outputs": [
    {
     "data": {
      "text/plain": [
       "76"
      ]
     },
     "execution_count": 50,
     "metadata": {},
     "output_type": "execute_result"
    }
   ],
   "source": [
    "data.City.isnull().sum()"
   ]
  },
  {
   "cell_type": "markdown",
   "id": "68ad7983",
   "metadata": {},
   "source": [
    "#### Sửa cột Country "
   ]
  },
  {
   "cell_type": "code",
   "execution_count": 5,
   "id": "880416f9",
   "metadata": {},
   "outputs": [
    {
     "data": {
      "text/plain": [
       "array(['USA', 'GDR', 'FIN', 'POL', 'FRG', 'DEN', 'SUI', 'HUN', 'AUS',\n",
       "       'URS', 'KOR', 'GRE', 'TCH', 'BRA', 'YUG', 'SWE', 'CHN', 'GER',\n",
       "       'EUN', 'FRA', 'ROU', 'NOR', 'JPN', 'ESP', 'ITA', 'CZE', 'RUS',\n",
       "       'NGR', 'RSA', 'LTU', 'CUB'], dtype=object)"
      ]
     },
     "execution_count": 5,
     "metadata": {},
     "output_type": "execute_result"
    }
   ],
   "source": [
    "x= data[data.Country.isnull()]['Country_Code'].unique()\n",
    "x"
   ]
  },
  {
   "cell_type": "code",
   "execution_count": 21,
   "id": "e748a7ae",
   "metadata": {},
   "outputs": [],
   "source": [
    "def update_country(data,country_code=''):\n",
    "    data[data['Country_Code'] == country_code].Country.fillna(data[data['Country_Code'] == country_code].Country.mode()[0],\n",
    "                                                              inplace=True)"
   ]
  },
  {
   "cell_type": "code",
   "execution_count": 22,
   "id": "f970011d",
   "metadata": {},
   "outputs": [],
   "source": [
    "for i in x:\n",
    "    a =data[data['Country_Code'] == i].Country\n",
    "    a.fillna(a.mode()[0])"
   ]
  },
  {
   "cell_type": "code",
   "execution_count": 23,
   "id": "a2ae4447",
   "metadata": {},
   "outputs": [
    {
     "data": {
      "text/plain": [
       "11"
      ]
     },
     "execution_count": 23,
     "metadata": {},
     "output_type": "execute_result"
    }
   ],
   "source": [
    "data[data['Country_Code'] == 'USA'].Country.isnull().sum()"
   ]
  },
  {
   "cell_type": "code",
   "execution_count": null,
   "id": "790fd5fe",
   "metadata": {},
   "outputs": [],
   "source": []
  },
  {
   "cell_type": "code",
   "execution_count": 13,
   "id": "b1b4280e",
   "metadata": {},
   "outputs": [
    {
     "data": {
      "text/plain": [
       "'United States'"
      ]
     },
     "execution_count": 13,
     "metadata": {},
     "output_type": "execute_result"
    }
   ],
   "source": [
    "data[data['Country_Code'] == 'USA'].Country.mode()[0]"
   ]
  },
  {
   "cell_type": "code",
   "execution_count": 88,
   "id": "fef6c60c",
   "metadata": {},
   "outputs": [
    {
     "data": {
      "text/plain": [
       "China          2107\n",
       "Athens         1998\n",
       "Sydney         1991\n",
       "Atlanta        1850\n",
       "Barcelona      1695\n",
       "Seoul          1541\n",
       "Los Angeles    1454\n",
       "Moscow         1372\n",
       "Montreal       1285\n",
       "Russia           14\n",
       "Canada           10\n",
       "Name: City, dtype: int64"
      ]
     },
     "execution_count": 88,
     "metadata": {},
     "output_type": "execute_result"
    }
   ],
   "source": [
    "data.City.value_counts()"
   ]
  },
  {
   "cell_type": "code",
   "execution_count": 19,
   "id": "1421ff64",
   "metadata": {},
   "outputs": [
    {
     "data": {
      "text/plain": [
       "0        1976.0\n",
       "1        1976.0\n",
       "2        1976.0\n",
       "3        1976.0\n",
       "4        1976.0\n",
       "          ...  \n",
       "15312    2008.0\n",
       "15313    2008.0\n",
       "15314    2008.0\n",
       "15315    2008.0\n",
       "15316    2008.0\n",
       "Name: Year, Length: 15317, dtype: float64"
      ]
     },
     "execution_count": 19,
     "metadata": {},
     "output_type": "execute_result"
    }
   ],
   "source": [
    "data['Year'].fillna(method = 'ffill')"
   ]
  },
  {
   "cell_type": "code",
   "execution_count": 20,
   "id": "92c57b0a",
   "metadata": {},
   "outputs": [
    {
     "data": {
      "text/plain": [
       "0        3m springboard\n",
       "1        3m springboard\n",
       "2        3m springboard\n",
       "3        3m springboard\n",
       "4          10m platform\n",
       "              ...      \n",
       "15312         66 - 74kg\n",
       "15313         66 - 74kg\n",
       "15314         55 - 60kg\n",
       "15315         60 - 66kg\n",
       "15316        96 - 120kg\n",
       "Name: Event, Length: 15317, dtype: object"
      ]
     },
     "execution_count": 20,
     "metadata": {},
     "output_type": "execute_result"
    }
   ],
   "source": [
    "data['Event'].fillna(method = 'ffill')"
   ]
  },
  {
   "cell_type": "code",
   "execution_count": 21,
   "id": "71f74395",
   "metadata": {},
   "outputs": [
    {
     "data": {
      "text/plain": [
       "0        Women\n",
       "1          Men\n",
       "2          Men\n",
       "3          Men\n",
       "4        Women\n",
       "         ...  \n",
       "15312      Men\n",
       "15313      Men\n",
       "15314      Men\n",
       "15315      Men\n",
       "15316      Men\n",
       "Name: Gender, Length: 15317, dtype: object"
      ]
     },
     "execution_count": 21,
     "metadata": {},
     "output_type": "execute_result"
    }
   ],
   "source": [
    "data['Gender'].fillna(method = 'ffill')"
   ]
  },
  {
   "cell_type": "code",
   "execution_count": 23,
   "id": "03b0830e",
   "metadata": {},
   "outputs": [
    {
     "data": {
      "text/plain": [
       "'Gold'"
      ]
     },
     "execution_count": 23,
     "metadata": {},
     "output_type": "execute_result"
    }
   ],
   "source": [
    "x = random.choice(data['Medal'].fillna(data['Medal'].mode()))\n",
    "x"
   ]
  },
  {
   "cell_type": "code",
   "execution_count": 24,
   "id": "1dea4756",
   "metadata": {},
   "outputs": [
    {
     "data": {
      "text/plain": [
       "City            76\n",
       "Year            24\n",
       "Sport            0\n",
       "Discipline       0\n",
       "Event            1\n",
       "Athlete          0\n",
       "Gender           1\n",
       "Country_Code     0\n",
       "Country         79\n",
       "Event_gender     1\n",
       "Medal           46\n",
       "dtype: int64"
      ]
     },
     "execution_count": 24,
     "metadata": {},
     "output_type": "execute_result"
    }
   ],
   "source": [
    "data.isnull().sum()"
   ]
  },
  {
   "cell_type": "code",
   "execution_count": 25,
   "id": "96a0fa74",
   "metadata": {},
   "outputs": [
    {
     "data": {
      "text/plain": [
       "0        Montreal\n",
       "1        Montreal\n",
       "2        Montreal\n",
       "3        Montreal\n",
       "4        Montreal\n",
       "           ...   \n",
       "15312       China\n",
       "15313       China\n",
       "15314       China\n",
       "15315       China\n",
       "15316       China\n",
       "Name: City, Length: 15317, dtype: object"
      ]
     },
     "execution_count": 25,
     "metadata": {},
     "output_type": "execute_result"
    }
   ],
   "source": [
    "data['City'].fillna(data['City'].mode())"
   ]
  },
  {
   "cell_type": "code",
   "execution_count": 26,
   "id": "09077f9e",
   "metadata": {},
   "outputs": [
    {
     "data": {
      "text/plain": [
       "City\n",
       "China          2031\n",
       "Athens         1998\n",
       "Sydney         1991\n",
       "Atlanta        1850\n",
       "Barcelona      1695\n",
       "Seoul          1541\n",
       "Los Angeles    1454\n",
       "Moscow         1372\n",
       "Montreal       1285\n",
       "Russia           14\n",
       "Canada           10\n",
       "dtype: int64"
      ]
     },
     "execution_count": 26,
     "metadata": {},
     "output_type": "execute_result"
    }
   ],
   "source": [
    "data.value_counts(\"City\")"
   ]
  },
  {
   "cell_type": "code",
   "execution_count": 27,
   "id": "7f13c7ba",
   "metadata": {},
   "outputs": [
    {
     "data": {
      "text/plain": [
       "0        Montreal\n",
       "1        Montreal\n",
       "2        Montreal\n",
       "3        Montreal\n",
       "4        Montreal\n",
       "           ...   \n",
       "15312       China\n",
       "15313       China\n",
       "15314       China\n",
       "15315       China\n",
       "15316       China\n",
       "Name: City, Length: 15317, dtype: object"
      ]
     },
     "execution_count": 27,
     "metadata": {},
     "output_type": "execute_result"
    }
   ],
   "source": [
    "data['City'].fillna(method = 'ffill')"
   ]
  },
  {
   "cell_type": "code",
   "execution_count": 28,
   "id": "f9b55ae7",
   "metadata": {},
   "outputs": [
    {
     "data": {
      "text/plain": [
       "City            76\n",
       "Year            24\n",
       "Sport            0\n",
       "Discipline       0\n",
       "Event            1\n",
       "Athlete          0\n",
       "Gender           1\n",
       "Country_Code     0\n",
       "Country         79\n",
       "Event_gender     1\n",
       "Medal           46\n",
       "dtype: int64"
      ]
     },
     "execution_count": 28,
     "metadata": {},
     "output_type": "execute_result"
    }
   ],
   "source": [
    "data.isnull().sum()"
   ]
  },
  {
   "cell_type": "markdown",
   "id": "7e004eec",
   "metadata": {},
   "source": [
    "## 2.2 Xử lí dữ liệu lặp "
   ]
  },
  {
   "cell_type": "code",
   "execution_count": 90,
   "id": "6e1ac25d",
   "metadata": {},
   "outputs": [],
   "source": [
    "data.drop_duplicates(keep='last',ignore_index=False,inplace = True)"
   ]
  },
  {
   "cell_type": "code",
   "execution_count": 93,
   "id": "9617e891",
   "metadata": {},
   "outputs": [
    {
     "data": {
      "text/plain": [
       "0"
      ]
     },
     "execution_count": 93,
     "metadata": {},
     "output_type": "execute_result"
    }
   ],
   "source": [
    "data.duplicated().sum()"
   ]
  },
  {
   "cell_type": "code",
   "execution_count": null,
   "id": "4274f5bd",
   "metadata": {},
   "outputs": [],
   "source": []
  },
  {
   "cell_type": "code",
   "execution_count": null,
   "id": "dc6695c2",
   "metadata": {},
   "outputs": [],
   "source": []
  },
  {
   "cell_type": "code",
   "execution_count": null,
   "id": "d168fd84",
   "metadata": {},
   "outputs": [],
   "source": []
  },
  {
   "cell_type": "code",
   "execution_count": null,
   "id": "d2b6a896",
   "metadata": {},
   "outputs": [],
   "source": []
  },
  {
   "cell_type": "code",
   "execution_count": null,
   "id": "433a00c0",
   "metadata": {},
   "outputs": [],
   "source": []
  },
  {
   "cell_type": "code",
   "execution_count": null,
   "id": "23e686fb",
   "metadata": {},
   "outputs": [],
   "source": []
  },
  {
   "cell_type": "code",
   "execution_count": null,
   "id": "933bef49",
   "metadata": {},
   "outputs": [],
   "source": []
  },
  {
   "cell_type": "code",
   "execution_count": null,
   "id": "21247731",
   "metadata": {},
   "outputs": [],
   "source": []
  }
 ],
 "metadata": {
  "kernelspec": {
   "display_name": "Python 3 (ipykernel)",
   "language": "python",
   "name": "python3"
  },
  "language_info": {
   "codemirror_mode": {
    "name": "ipython",
    "version": 3
   },
   "file_extension": ".py",
   "mimetype": "text/x-python",
   "name": "python",
   "nbconvert_exporter": "python",
   "pygments_lexer": "ipython3",
   "version": "3.9.12"
  }
 },
 "nbformat": 4,
 "nbformat_minor": 5
}
