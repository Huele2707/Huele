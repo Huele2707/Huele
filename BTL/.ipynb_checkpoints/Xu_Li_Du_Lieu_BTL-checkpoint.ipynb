{
 "cells": [
  {
   "cell_type": "code",
   "execution_count": 1,
   "id": "ea1270de",
   "metadata": {},
   "outputs": [],
   "source": [
    "# Data Manipulation and numerical Calculations\n",
    "import pandas as pd\n",
    "import numpy as np\n",
    "import random\n",
    "\n",
    "# Data visualizations\n",
    "import matplotlib.pyplot as plt\n",
    "import seaborn as sns\n",
    "\n",
    "#to ignore warnings\n",
    "import warnings\n",
    "warnings.filterwarnings('ignore')"
   ]
  },
  {
   "cell_type": "code",
   "execution_count": 2,
   "id": "e0de2b2b",
   "metadata": {},
   "outputs": [
    {
     "name": "stdout",
     "output_type": "stream",
     "text": [
      "C:\\Users\\Admin\\Documents\\Nhập môn khoa học dữ liệu\\BTL\n"
     ]
    }
   ],
   "source": [
    "%cd \"C:\\Users\\Admin\\Documents\\Nhập môn khoa học dữ liệu\\BTL\""
   ]
  },
  {
   "cell_type": "code",
   "execution_count": 3,
   "id": "39ebe34c",
   "metadata": {},
   "outputs": [],
   "source": [
    "data = pd.read_csv(\"./Summer-Olympic-medals-1976-to-2008.csv\",encoding='latin-1')"
   ]
  },
  {
   "cell_type": "code",
   "execution_count": 4,
   "id": "bd9ae966",
   "metadata": {},
   "outputs": [
    {
     "data": {
      "text/html": [
       "<div>\n",
       "<style scoped>\n",
       "    .dataframe tbody tr th:only-of-type {\n",
       "        vertical-align: middle;\n",
       "    }\n",
       "\n",
       "    .dataframe tbody tr th {\n",
       "        vertical-align: top;\n",
       "    }\n",
       "\n",
       "    .dataframe thead th {\n",
       "        text-align: right;\n",
       "    }\n",
       "</style>\n",
       "<table border=\"1\" class=\"dataframe\">\n",
       "  <thead>\n",
       "    <tr style=\"text-align: right;\">\n",
       "      <th></th>\n",
       "      <th>City</th>\n",
       "      <th>Year</th>\n",
       "      <th>Sport</th>\n",
       "      <th>Discipline</th>\n",
       "      <th>Event</th>\n",
       "      <th>Athlete</th>\n",
       "      <th>Gender</th>\n",
       "      <th>Country_Code</th>\n",
       "      <th>Country</th>\n",
       "      <th>Event_gender</th>\n",
       "      <th>Medal</th>\n",
       "    </tr>\n",
       "  </thead>\n",
       "  <tbody>\n",
       "    <tr>\n",
       "      <th>0</th>\n",
       "      <td>Montreal</td>\n",
       "      <td>1976.0</td>\n",
       "      <td>Aquatics</td>\n",
       "      <td>Diving</td>\n",
       "      <td>3m springboard</td>\n",
       "      <td>KÖHLER, Christa</td>\n",
       "      <td>Women</td>\n",
       "      <td>GDR</td>\n",
       "      <td>East Germany</td>\n",
       "      <td>W</td>\n",
       "      <td>Silver</td>\n",
       "    </tr>\n",
       "    <tr>\n",
       "      <th>1</th>\n",
       "      <td>Montreal</td>\n",
       "      <td>1976.0</td>\n",
       "      <td>Aquatics</td>\n",
       "      <td>Diving</td>\n",
       "      <td>3m springboard</td>\n",
       "      <td>KOSENKOV, Aleksandr</td>\n",
       "      <td>Men</td>\n",
       "      <td>URS</td>\n",
       "      <td>Soviet Union</td>\n",
       "      <td>M</td>\n",
       "      <td>Bronze</td>\n",
       "    </tr>\n",
       "    <tr>\n",
       "      <th>2</th>\n",
       "      <td>Montreal</td>\n",
       "      <td>1976.0</td>\n",
       "      <td>Aquatics</td>\n",
       "      <td>Diving</td>\n",
       "      <td>3m springboard</td>\n",
       "      <td>BOGGS, Philip George</td>\n",
       "      <td>Men</td>\n",
       "      <td>USA</td>\n",
       "      <td>United States</td>\n",
       "      <td>M</td>\n",
       "      <td>Gold</td>\n",
       "    </tr>\n",
       "    <tr>\n",
       "      <th>3</th>\n",
       "      <td>Montreal</td>\n",
       "      <td>1976.0</td>\n",
       "      <td>Aquatics</td>\n",
       "      <td>Diving</td>\n",
       "      <td>3m springboard</td>\n",
       "      <td>CAGNOTTO, Giorgio Franco</td>\n",
       "      <td>Men</td>\n",
       "      <td>ITA</td>\n",
       "      <td>Italy</td>\n",
       "      <td>M</td>\n",
       "      <td>Silver</td>\n",
       "    </tr>\n",
       "    <tr>\n",
       "      <th>4</th>\n",
       "      <td>Montreal</td>\n",
       "      <td>1976.0</td>\n",
       "      <td>Aquatics</td>\n",
       "      <td>Diving</td>\n",
       "      <td>10m platform</td>\n",
       "      <td>WILSON, Deborah Keplar</td>\n",
       "      <td>Women</td>\n",
       "      <td>USA</td>\n",
       "      <td>United States</td>\n",
       "      <td>W</td>\n",
       "      <td>Bronze</td>\n",
       "    </tr>\n",
       "    <tr>\n",
       "      <th>5</th>\n",
       "      <td>Montreal</td>\n",
       "      <td>1976.0</td>\n",
       "      <td>Aquatics</td>\n",
       "      <td>Diving</td>\n",
       "      <td>10m platform</td>\n",
       "      <td>LOUGANIS, Gregory</td>\n",
       "      <td>Men</td>\n",
       "      <td>USA</td>\n",
       "      <td>United States</td>\n",
       "      <td>M</td>\n",
       "      <td>Silver</td>\n",
       "    </tr>\n",
       "    <tr>\n",
       "      <th>6</th>\n",
       "      <td>NaN</td>\n",
       "      <td>1976.0</td>\n",
       "      <td>Aquatics</td>\n",
       "      <td>Diving</td>\n",
       "      <td>10m platform</td>\n",
       "      <td>VAYTSEKHOVSKAYA, Elena</td>\n",
       "      <td>Women</td>\n",
       "      <td>URS</td>\n",
       "      <td>Soviet Union</td>\n",
       "      <td>W</td>\n",
       "      <td>Gold</td>\n",
       "    </tr>\n",
       "    <tr>\n",
       "      <th>7</th>\n",
       "      <td>Montreal</td>\n",
       "      <td>1976.0</td>\n",
       "      <td>Aquatics</td>\n",
       "      <td>Diving</td>\n",
       "      <td>3m springboard</td>\n",
       "      <td>POTTER-MCINGVALE, Cynthia</td>\n",
       "      <td>Women</td>\n",
       "      <td>USA</td>\n",
       "      <td>United States</td>\n",
       "      <td>W</td>\n",
       "      <td>Bronze</td>\n",
       "    </tr>\n",
       "    <tr>\n",
       "      <th>8</th>\n",
       "      <td>Montreal</td>\n",
       "      <td>1976.0</td>\n",
       "      <td>Aquatics</td>\n",
       "      <td>Diving</td>\n",
       "      <td>10m platform</td>\n",
       "      <td>DIBIASI, Klaus</td>\n",
       "      <td>Men</td>\n",
       "      <td>ITA</td>\n",
       "      <td>Italy</td>\n",
       "      <td>M</td>\n",
       "      <td>NaN</td>\n",
       "    </tr>\n",
       "    <tr>\n",
       "      <th>9</th>\n",
       "      <td>Montreal</td>\n",
       "      <td>1976.0</td>\n",
       "      <td>Aquatics</td>\n",
       "      <td>Diving</td>\n",
       "      <td>10m platform</td>\n",
       "      <td>ALEINIK, Vladimir</td>\n",
       "      <td>Men</td>\n",
       "      <td>URS</td>\n",
       "      <td>Soviet Union</td>\n",
       "      <td>M</td>\n",
       "      <td>Bronze</td>\n",
       "    </tr>\n",
       "  </tbody>\n",
       "</table>\n",
       "</div>"
      ],
      "text/plain": [
       "       City    Year     Sport Discipline           Event  \\\n",
       "0  Montreal  1976.0  Aquatics     Diving  3m springboard   \n",
       "1  Montreal  1976.0  Aquatics     Diving  3m springboard   \n",
       "2  Montreal  1976.0  Aquatics     Diving  3m springboard   \n",
       "3  Montreal  1976.0  Aquatics     Diving  3m springboard   \n",
       "4  Montreal  1976.0  Aquatics     Diving    10m platform   \n",
       "5  Montreal  1976.0  Aquatics     Diving    10m platform   \n",
       "6       NaN  1976.0  Aquatics     Diving    10m platform   \n",
       "7  Montreal  1976.0  Aquatics     Diving  3m springboard   \n",
       "8  Montreal  1976.0  Aquatics     Diving    10m platform   \n",
       "9  Montreal  1976.0  Aquatics     Diving    10m platform   \n",
       "\n",
       "                     Athlete Gender Country_Code        Country Event_gender  \\\n",
       "0            KÖHLER, Christa  Women          GDR   East Germany            W   \n",
       "1        KOSENKOV, Aleksandr    Men          URS   Soviet Union            M   \n",
       "2       BOGGS, Philip George    Men          USA  United States            M   \n",
       "3   CAGNOTTO, Giorgio Franco    Men          ITA          Italy            M   \n",
       "4     WILSON, Deborah Keplar  Women          USA  United States            W   \n",
       "5          LOUGANIS, Gregory    Men          USA  United States            M   \n",
       "6     VAYTSEKHOVSKAYA, Elena  Women          URS   Soviet Union            W   \n",
       "7  POTTER-MCINGVALE, Cynthia  Women          USA  United States            W   \n",
       "8             DIBIASI, Klaus    Men          ITA          Italy            M   \n",
       "9          ALEINIK, Vladimir    Men          URS   Soviet Union            M   \n",
       "\n",
       "    Medal  \n",
       "0  Silver  \n",
       "1  Bronze  \n",
       "2    Gold  \n",
       "3  Silver  \n",
       "4  Bronze  \n",
       "5  Silver  \n",
       "6    Gold  \n",
       "7  Bronze  \n",
       "8     NaN  \n",
       "9  Bronze  "
      ]
     },
     "execution_count": 4,
     "metadata": {},
     "output_type": "execute_result"
    }
   ],
   "source": [
    "data.head(10)"
   ]
  },
  {
   "cell_type": "markdown",
   "id": "7d5e863c",
   "metadata": {},
   "source": [
    "City - Thành phố nơi tổ chức Olympic\n",
    "\n",
    "Year - Năm tổ chức\n",
    "\n",
    "Sport - Thể loại thể thao (eg. Aquatics: môn dưới nước, \n",
    "Atheletics: điền kinh, ...)\n",
    "\n",
    "Discipline - Môn thi đấu ứng với thể loại (eg. Diving: nhảy cầu, Swimming: bơi etc.)\n",
    "\n",
    "Event - Hạng mục thi đấu (eg. 3m springboard: nhảy cầu 3m, 10m platform etc.)\n",
    "\n",
    "Athlete - Tên vận động viên giành huy chương\n",
    "\n",
    "Gender - Giới tính\n",
    "\n",
    "Country_Code - Mã quốc gia 3 ký tự\n",
    "\n",
    "Country - Quốc tịch của vận động viên\n",
    "\n",
    "Event_gender - Giới tính vận động viên khi tham gia tranh tài \n",
    "(Male, Female or Common Event)\n",
    "\n",
    "Medal - Huy chương (eg. Bronze, Silver, Gold)"
   ]
  },
  {
   "cell_type": "code",
   "execution_count": 5,
   "id": "69b79777",
   "metadata": {},
   "outputs": [
    {
     "data": {
      "text/plain": [
       "(15317, 11)"
      ]
     },
     "execution_count": 5,
     "metadata": {},
     "output_type": "execute_result"
    }
   ],
   "source": [
    "data.shape"
   ]
  },
  {
   "cell_type": "markdown",
   "id": "6e9a52e1",
   "metadata": {},
   "source": [
    "- Dữ liệu\n",
    " + 15317 dòng\n",
    " + 11 cột "
   ]
  },
  {
   "cell_type": "markdown",
   "id": "205af376",
   "metadata": {},
   "source": [
    "# 1. Xử lí dữ liệu"
   ]
  },
  {
   "cell_type": "markdown",
   "id": "b80b2a3b",
   "metadata": {},
   "source": [
    "1. Kiểm tra vấn đề dữ liệu\n",
    "Một số vấn đề dữ liệu ta sẽ thực hiện kiểm tra:\n",
    "\n",
    "Missing value\n",
    "\n",
    "Duplicated\n",
    "\n",
    "Lỗi logic\n",
    "\n",
    "Bất đồng bộ"
   ]
  },
  {
   "cell_type": "markdown",
   "id": "98e84bd7",
   "metadata": {},
   "source": [
    "### 1.1 Kiểm tra dữ liệu bị thiếu"
   ]
  },
  {
   "cell_type": "markdown",
   "id": "a4649266",
   "metadata": {},
   "source": [
    "#### a. Kiểm tra trên bảng"
   ]
  },
  {
   "cell_type": "code",
   "execution_count": 6,
   "id": "10c0053e",
   "metadata": {
    "scrolled": true
   },
   "outputs": [
    {
     "data": {
      "text/html": [
       "<div>\n",
       "<style scoped>\n",
       "    .dataframe tbody tr th:only-of-type {\n",
       "        vertical-align: middle;\n",
       "    }\n",
       "\n",
       "    .dataframe tbody tr th {\n",
       "        vertical-align: top;\n",
       "    }\n",
       "\n",
       "    .dataframe thead th {\n",
       "        text-align: right;\n",
       "    }\n",
       "</style>\n",
       "<table border=\"1\" class=\"dataframe\">\n",
       "  <thead>\n",
       "    <tr style=\"text-align: right;\">\n",
       "      <th></th>\n",
       "      <th>City</th>\n",
       "      <th>Year</th>\n",
       "      <th>Sport</th>\n",
       "      <th>Discipline</th>\n",
       "      <th>Event</th>\n",
       "      <th>Athlete</th>\n",
       "      <th>Gender</th>\n",
       "      <th>Country_Code</th>\n",
       "      <th>Country</th>\n",
       "      <th>Event_gender</th>\n",
       "      <th>Medal</th>\n",
       "    </tr>\n",
       "  </thead>\n",
       "  <tbody>\n",
       "    <tr>\n",
       "      <th>0</th>\n",
       "      <td>False</td>\n",
       "      <td>False</td>\n",
       "      <td>False</td>\n",
       "      <td>False</td>\n",
       "      <td>False</td>\n",
       "      <td>False</td>\n",
       "      <td>False</td>\n",
       "      <td>False</td>\n",
       "      <td>False</td>\n",
       "      <td>False</td>\n",
       "      <td>False</td>\n",
       "    </tr>\n",
       "    <tr>\n",
       "      <th>1</th>\n",
       "      <td>False</td>\n",
       "      <td>False</td>\n",
       "      <td>False</td>\n",
       "      <td>False</td>\n",
       "      <td>False</td>\n",
       "      <td>False</td>\n",
       "      <td>False</td>\n",
       "      <td>False</td>\n",
       "      <td>False</td>\n",
       "      <td>False</td>\n",
       "      <td>False</td>\n",
       "    </tr>\n",
       "    <tr>\n",
       "      <th>2</th>\n",
       "      <td>False</td>\n",
       "      <td>False</td>\n",
       "      <td>False</td>\n",
       "      <td>False</td>\n",
       "      <td>False</td>\n",
       "      <td>False</td>\n",
       "      <td>False</td>\n",
       "      <td>False</td>\n",
       "      <td>False</td>\n",
       "      <td>False</td>\n",
       "      <td>False</td>\n",
       "    </tr>\n",
       "    <tr>\n",
       "      <th>3</th>\n",
       "      <td>False</td>\n",
       "      <td>False</td>\n",
       "      <td>False</td>\n",
       "      <td>False</td>\n",
       "      <td>False</td>\n",
       "      <td>False</td>\n",
       "      <td>False</td>\n",
       "      <td>False</td>\n",
       "      <td>False</td>\n",
       "      <td>False</td>\n",
       "      <td>False</td>\n",
       "    </tr>\n",
       "    <tr>\n",
       "      <th>4</th>\n",
       "      <td>False</td>\n",
       "      <td>False</td>\n",
       "      <td>False</td>\n",
       "      <td>False</td>\n",
       "      <td>False</td>\n",
       "      <td>False</td>\n",
       "      <td>False</td>\n",
       "      <td>False</td>\n",
       "      <td>False</td>\n",
       "      <td>False</td>\n",
       "      <td>False</td>\n",
       "    </tr>\n",
       "    <tr>\n",
       "      <th>...</th>\n",
       "      <td>...</td>\n",
       "      <td>...</td>\n",
       "      <td>...</td>\n",
       "      <td>...</td>\n",
       "      <td>...</td>\n",
       "      <td>...</td>\n",
       "      <td>...</td>\n",
       "      <td>...</td>\n",
       "      <td>...</td>\n",
       "      <td>...</td>\n",
       "      <td>...</td>\n",
       "    </tr>\n",
       "    <tr>\n",
       "      <th>15312</th>\n",
       "      <td>False</td>\n",
       "      <td>False</td>\n",
       "      <td>False</td>\n",
       "      <td>False</td>\n",
       "      <td>False</td>\n",
       "      <td>False</td>\n",
       "      <td>False</td>\n",
       "      <td>False</td>\n",
       "      <td>False</td>\n",
       "      <td>False</td>\n",
       "      <td>False</td>\n",
       "    </tr>\n",
       "    <tr>\n",
       "      <th>15313</th>\n",
       "      <td>False</td>\n",
       "      <td>False</td>\n",
       "      <td>False</td>\n",
       "      <td>False</td>\n",
       "      <td>False</td>\n",
       "      <td>False</td>\n",
       "      <td>False</td>\n",
       "      <td>False</td>\n",
       "      <td>False</td>\n",
       "      <td>False</td>\n",
       "      <td>False</td>\n",
       "    </tr>\n",
       "    <tr>\n",
       "      <th>15314</th>\n",
       "      <td>False</td>\n",
       "      <td>False</td>\n",
       "      <td>False</td>\n",
       "      <td>False</td>\n",
       "      <td>False</td>\n",
       "      <td>False</td>\n",
       "      <td>False</td>\n",
       "      <td>False</td>\n",
       "      <td>False</td>\n",
       "      <td>False</td>\n",
       "      <td>False</td>\n",
       "    </tr>\n",
       "    <tr>\n",
       "      <th>15315</th>\n",
       "      <td>False</td>\n",
       "      <td>False</td>\n",
       "      <td>False</td>\n",
       "      <td>False</td>\n",
       "      <td>False</td>\n",
       "      <td>False</td>\n",
       "      <td>False</td>\n",
       "      <td>False</td>\n",
       "      <td>False</td>\n",
       "      <td>False</td>\n",
       "      <td>True</td>\n",
       "    </tr>\n",
       "    <tr>\n",
       "      <th>15316</th>\n",
       "      <td>False</td>\n",
       "      <td>False</td>\n",
       "      <td>False</td>\n",
       "      <td>False</td>\n",
       "      <td>False</td>\n",
       "      <td>False</td>\n",
       "      <td>False</td>\n",
       "      <td>False</td>\n",
       "      <td>False</td>\n",
       "      <td>False</td>\n",
       "      <td>False</td>\n",
       "    </tr>\n",
       "  </tbody>\n",
       "</table>\n",
       "<p>15317 rows × 11 columns</p>\n",
       "</div>"
      ],
      "text/plain": [
       "        City   Year  Sport  Discipline  Event  Athlete  Gender  Country_Code  \\\n",
       "0      False  False  False       False  False    False   False         False   \n",
       "1      False  False  False       False  False    False   False         False   \n",
       "2      False  False  False       False  False    False   False         False   \n",
       "3      False  False  False       False  False    False   False         False   \n",
       "4      False  False  False       False  False    False   False         False   \n",
       "...      ...    ...    ...         ...    ...      ...     ...           ...   \n",
       "15312  False  False  False       False  False    False   False         False   \n",
       "15313  False  False  False       False  False    False   False         False   \n",
       "15314  False  False  False       False  False    False   False         False   \n",
       "15315  False  False  False       False  False    False   False         False   \n",
       "15316  False  False  False       False  False    False   False         False   \n",
       "\n",
       "       Country  Event_gender  Medal  \n",
       "0        False         False  False  \n",
       "1        False         False  False  \n",
       "2        False         False  False  \n",
       "3        False         False  False  \n",
       "4        False         False  False  \n",
       "...        ...           ...    ...  \n",
       "15312    False         False  False  \n",
       "15313    False         False  False  \n",
       "15314    False         False  False  \n",
       "15315    False         False   True  \n",
       "15316    False         False  False  \n",
       "\n",
       "[15317 rows x 11 columns]"
      ]
     },
     "execution_count": 6,
     "metadata": {},
     "output_type": "execute_result"
    }
   ],
   "source": [
    "data.isnull()"
   ]
  },
  {
   "cell_type": "code",
   "execution_count": 9,
   "id": "adee1740",
   "metadata": {},
   "outputs": [
    {
     "name": "stdout",
     "output_type": "stream",
     "text": [
      "<class 'pandas.core.frame.DataFrame'>\n",
      "RangeIndex: 15317 entries, 0 to 15316\n",
      "Data columns (total 11 columns):\n",
      " #   Column        Non-Null Count  Dtype  \n",
      "---  ------        --------------  -----  \n",
      " 0   City          15241 non-null  object \n",
      " 1   Year          15293 non-null  float64\n",
      " 2   Sport         15317 non-null  object \n",
      " 3   Discipline    15317 non-null  object \n",
      " 4   Event         15316 non-null  object \n",
      " 5   Athlete       15317 non-null  object \n",
      " 6   Gender        15316 non-null  object \n",
      " 7   Country_Code  15317 non-null  object \n",
      " 8   Country       15238 non-null  object \n",
      " 9   Event_gender  15316 non-null  object \n",
      " 10  Medal         15271 non-null  object \n",
      "dtypes: float64(1), object(10)\n",
      "memory usage: 1.3+ MB\n"
     ]
    }
   ],
   "source": [
    "data.info()"
   ]
  },
  {
   "cell_type": "markdown",
   "id": "30df8b23",
   "metadata": {},
   "source": [
    "**Một số thông tin thu được sau khi thực hiện kiếm tra:**\n",
    "- Các cột City,Year,Country,Event_gender,Medal xuất  hiện giá trị bị thiếu\n",
    "- Các cột có kiểu dữ liêu định lượng là:Year\n",
    "- Các cột có kiểu dữ liệu định tính: City,Sport,Discipline,Event,Athlete,Gender,Country_Code,Country,Event_gender,Medal "
   ]
  },
  {
   "cell_type": "markdown",
   "id": "f99ee1b6",
   "metadata": {},
   "source": [
    "**Đếm số lượng missing value trong 1 cột**"
   ]
  },
  {
   "cell_type": "code",
   "execution_count": 10,
   "id": "e7534857",
   "metadata": {},
   "outputs": [
    {
     "data": {
      "text/plain": [
       "City            76\n",
       "Year            24\n",
       "Sport            0\n",
       "Discipline       0\n",
       "Event            1\n",
       "Athlete          0\n",
       "Gender           1\n",
       "Country_Code     0\n",
       "Country         79\n",
       "Event_gender     1\n",
       "Medal           46\n",
       "dtype: int64"
      ]
     },
     "execution_count": 10,
     "metadata": {},
     "output_type": "execute_result"
    }
   ],
   "source": [
    "data.isnull().sum()"
   ]
  },
  {
   "cell_type": "code",
   "execution_count": 8,
   "id": "425ae12c",
   "metadata": {},
   "outputs": [
    {
     "data": {
      "text/plain": [
       "City            0.496181\n",
       "Year            0.156689\n",
       "Sport           0.000000\n",
       "Discipline      0.000000\n",
       "Event           0.006529\n",
       "Athlete         0.000000\n",
       "Gender          0.006529\n",
       "Country_Code    0.000000\n",
       "Country         0.515767\n",
       "Event_gender    0.006529\n",
       "Medal           0.300320\n",
       "dtype: float64"
      ]
     },
     "execution_count": 8,
     "metadata": {},
     "output_type": "execute_result"
    }
   ],
   "source": [
    "(data.isnull().sum()/(len(data)))*100"
   ]
  },
  {
   "cell_type": "markdown",
   "id": "db7eca11",
   "metadata": {},
   "source": [
    "**Một số thông tin thu được sau khi thực hiện kiếm tra:**\n",
    "- Cột City bị thiếu 76 dữ liệu\n",
    "\n",
    "        => Giải pháp: Tính toán tỉ lệ giá trị bị thiếu trên tổng quan sát của mỗi cột. Có thể thấy dữ liệu tại cột City gặp vấn đề đến ~50% quan sát gặp vấn đề bị thiếu \n",
    "        => Thay thế bằng các gía trị xuất hiện nhiều nhất.\n",
    "- Cột Year  bị thiếu 24 dữ liệu\n",
    "\n",
    "        => Giải pháp: Bị mất gần 16% dữ liệu => Thay thế bằng các gía trị đứng trước nó.\n",
    "- Cột Event bị thiếu 1 dữ liệu\n",
    "\n",
    "        => Giải pháp: Bị mất gần 1% dữ liệu => Thay thế bằng các gía trị đứng trước nó.\n",
    "- Cột Gender bị thiếu 1 dữ liệu\n",
    "\n",
    "        => Giải pháp: Bị mất gần 1% dữ liệu => Thay thế bằng các gía trị đứng trước nó.\n",
    "- Cột Country bị thiếu 79 dữ liệu\n",
    "\n",
    "        => Giải pháp: Bị mất gần 52% dữ liệu => Thay thế bằng các gía trị xuất hiện nhiều nhất.\n",
    "- Cột Medal bị thiếu 46 dữ liệu\n",
    "\n",
    "        => Giải pháp: Bị mất 30% dữ liệu => Thay thế bằng các gía trị xuất hiện nhiều nhất."
   ]
  },
  {
   "cell_type": "markdown",
   "id": "53ee6419",
   "metadata": {},
   "source": [
    "### 1.2. Kiểm tra dữ liệu bị lặp"
   ]
  },
  {
   "cell_type": "code",
   "execution_count": 41,
   "id": "4aa36697",
   "metadata": {},
   "outputs": [
    {
     "data": {
      "text/plain": [
       "3"
      ]
     },
     "execution_count": 41,
     "metadata": {},
     "output_type": "execute_result"
    }
   ],
   "source": [
    "data.duplicated().sum()"
   ]
  },
  {
   "cell_type": "markdown",
   "id": "a853455f",
   "metadata": {},
   "source": [
    "- Có 3 cột bị lặp dữ liệu"
   ]
  },
  {
   "cell_type": "code",
   "execution_count": 42,
   "id": "eb717f03",
   "metadata": {},
   "outputs": [
    {
     "data": {
      "text/html": [
       "<div>\n",
       "<style scoped>\n",
       "    .dataframe tbody tr th:only-of-type {\n",
       "        vertical-align: middle;\n",
       "    }\n",
       "\n",
       "    .dataframe tbody tr th {\n",
       "        vertical-align: top;\n",
       "    }\n",
       "\n",
       "    .dataframe thead th {\n",
       "        text-align: right;\n",
       "    }\n",
       "</style>\n",
       "<table border=\"1\" class=\"dataframe\">\n",
       "  <thead>\n",
       "    <tr style=\"text-align: right;\">\n",
       "      <th></th>\n",
       "      <th>City</th>\n",
       "      <th>Year</th>\n",
       "      <th>Sport</th>\n",
       "      <th>Discipline</th>\n",
       "      <th>Event</th>\n",
       "      <th>Athlete</th>\n",
       "      <th>Gender</th>\n",
       "      <th>Country_Code</th>\n",
       "      <th>Country</th>\n",
       "      <th>Event_gender</th>\n",
       "      <th>Medal</th>\n",
       "    </tr>\n",
       "  </thead>\n",
       "  <tbody>\n",
       "    <tr>\n",
       "      <th>463</th>\n",
       "      <td>Montreal</td>\n",
       "      <td>1976.0</td>\n",
       "      <td>Canoe / Kayak</td>\n",
       "      <td>Canoe / Kayak F</td>\n",
       "      <td>K-1 500m (kayak single)</td>\n",
       "      <td>KORSHUNOVA, Tatyana</td>\n",
       "      <td>Women</td>\n",
       "      <td>URS</td>\n",
       "      <td>Soviet Union</td>\n",
       "      <td>W</td>\n",
       "      <td>Silver</td>\n",
       "    </tr>\n",
       "    <tr>\n",
       "      <th>464</th>\n",
       "      <td>Montreal</td>\n",
       "      <td>1976.0</td>\n",
       "      <td>Canoe / Kayak</td>\n",
       "      <td>Canoe / Kayak F</td>\n",
       "      <td>K-1 500m (kayak single)</td>\n",
       "      <td>KORSHUNOVA, Tatyana</td>\n",
       "      <td>Women</td>\n",
       "      <td>URS</td>\n",
       "      <td>Soviet Union</td>\n",
       "      <td>W</td>\n",
       "      <td>Silver</td>\n",
       "    </tr>\n",
       "    <tr>\n",
       "      <th>2205</th>\n",
       "      <td>Moscow</td>\n",
       "      <td>1980.0</td>\n",
       "      <td>Hockey</td>\n",
       "      <td>Hockey</td>\n",
       "      <td>hockey</td>\n",
       "      <td>SINGH, Singh</td>\n",
       "      <td>Men</td>\n",
       "      <td>IND</td>\n",
       "      <td>India</td>\n",
       "      <td>M</td>\n",
       "      <td>Gold</td>\n",
       "    </tr>\n",
       "  </tbody>\n",
       "</table>\n",
       "</div>"
      ],
      "text/plain": [
       "          City    Year          Sport       Discipline  \\\n",
       "463   Montreal  1976.0  Canoe / Kayak  Canoe / Kayak F   \n",
       "464   Montreal  1976.0  Canoe / Kayak  Canoe / Kayak F   \n",
       "2205    Moscow  1980.0         Hockey           Hockey   \n",
       "\n",
       "                        Event              Athlete Gender Country_Code  \\\n",
       "463   K-1 500m (kayak single)  KORSHUNOVA, Tatyana  Women          URS   \n",
       "464   K-1 500m (kayak single)  KORSHUNOVA, Tatyana  Women          URS   \n",
       "2205                   hockey         SINGH, Singh    Men          IND   \n",
       "\n",
       "           Country Event_gender   Medal  \n",
       "463   Soviet Union            W  Silver  \n",
       "464   Soviet Union            W  Silver  \n",
       "2205         India            M    Gold  "
      ]
     },
     "execution_count": 42,
     "metadata": {},
     "output_type": "execute_result"
    }
   ],
   "source": [
    "data[data.duplicated()]"
   ]
  },
  {
   "cell_type": "markdown",
   "id": "7e9d64d5",
   "metadata": {},
   "source": [
    "- Dữ liệu bị lặp taị năm 1976 \n",
    "\n",
    "  => Giaỉ pháp: Xóa 1 dòng\n",
    "- Tại năm 1980 bị lặp môn thi \"Hockey\" taị cột Sport và Event  \n",
    "\n",
    "  => Giaỉ pháp: Thay thế \"Hockey\"taịi cột Sport và Event bằng giá trị đứng trước nó."
   ]
  },
  {
   "cell_type": "markdown",
   "id": "b5ad4c41",
   "metadata": {},
   "source": [
    "# 2.Xử lí dữ liệu "
   ]
  },
  {
   "cell_type": "markdown",
   "id": "672b6dda",
   "metadata": {},
   "source": [
    "## 2.1 Xử lí dữ liệu thiếu  "
   ]
  },
  {
   "cell_type": "code",
   "execution_count": 29,
   "id": "0367d06a",
   "metadata": {},
   "outputs": [
    {
     "data": {
      "text/plain": [
       "'Atlanta'"
      ]
     },
     "execution_count": 29,
     "metadata": {},
     "output_type": "execute_result"
    }
   ],
   "source": [
    "x = random.choice(data['City'].fillna(data['City'].mode()))\n",
    "x"
   ]
  },
  {
   "cell_type": "code",
   "execution_count": 30,
   "id": "1421ff64",
   "metadata": {},
   "outputs": [
    {
     "data": {
      "text/plain": [
       "0        1976.0\n",
       "1        1976.0\n",
       "2        1976.0\n",
       "3        1976.0\n",
       "4        1976.0\n",
       "          ...  \n",
       "15312    2008.0\n",
       "15313    2008.0\n",
       "15314    2008.0\n",
       "15315    2008.0\n",
       "15316    2008.0\n",
       "Name: Year, Length: 15317, dtype: float64"
      ]
     },
     "execution_count": 30,
     "metadata": {},
     "output_type": "execute_result"
    }
   ],
   "source": [
    "data['Year'].fillna(method = 'ffill')"
   ]
  },
  {
   "cell_type": "code",
   "execution_count": 31,
   "id": "92c57b0a",
   "metadata": {},
   "outputs": [
    {
     "data": {
      "text/plain": [
       "0        3m springboard\n",
       "1        3m springboard\n",
       "2        3m springboard\n",
       "3        3m springboard\n",
       "4          10m platform\n",
       "              ...      \n",
       "15312         66 - 74kg\n",
       "15313         66 - 74kg\n",
       "15314         55 - 60kg\n",
       "15315         60 - 66kg\n",
       "15316        96 - 120kg\n",
       "Name: Event, Length: 15317, dtype: object"
      ]
     },
     "execution_count": 31,
     "metadata": {},
     "output_type": "execute_result"
    }
   ],
   "source": [
    "data['Event'].fillna(method = 'ffill')"
   ]
  },
  {
   "cell_type": "code",
   "execution_count": 32,
   "id": "71f74395",
   "metadata": {},
   "outputs": [
    {
     "data": {
      "text/plain": [
       "0        Women\n",
       "1          Men\n",
       "2          Men\n",
       "3          Men\n",
       "4        Women\n",
       "         ...  \n",
       "15312      Men\n",
       "15313      Men\n",
       "15314      Men\n",
       "15315      Men\n",
       "15316      Men\n",
       "Name: Gender, Length: 15317, dtype: object"
      ]
     },
     "execution_count": 32,
     "metadata": {},
     "output_type": "execute_result"
    }
   ],
   "source": [
    "data['Gender'].fillna(method = 'ffill')"
   ]
  },
  {
   "cell_type": "code",
   "execution_count": 35,
   "id": "3b20cd36",
   "metadata": {},
   "outputs": [
    {
     "data": {
      "text/plain": [
       "'Russia'"
      ]
     },
     "execution_count": 35,
     "metadata": {},
     "output_type": "execute_result"
    }
   ],
   "source": [
    "x = random.choice(data['Country'].fillna(data['Country'].mode()))\n",
    "x"
   ]
  },
  {
   "cell_type": "code",
   "execution_count": 37,
   "id": "03b0830e",
   "metadata": {},
   "outputs": [
    {
     "data": {
      "text/plain": [
       "'Bronze'"
      ]
     },
     "execution_count": 37,
     "metadata": {},
     "output_type": "execute_result"
    }
   ],
   "source": [
    "x = random.choice(data['Medal'].fillna(data['Medal'].mode()))\n",
    "x"
   ]
  },
  {
   "cell_type": "code",
   "execution_count": 38,
   "id": "1dea4756",
   "metadata": {},
   "outputs": [
    {
     "data": {
      "text/plain": [
       "City            76\n",
       "Year            24\n",
       "Sport            0\n",
       "Discipline       0\n",
       "Event            1\n",
       "Athlete          0\n",
       "Gender           1\n",
       "Country_Code     0\n",
       "Country         79\n",
       "Event_gender     1\n",
       "Medal           46\n",
       "dtype: int64"
      ]
     },
     "execution_count": 38,
     "metadata": {},
     "output_type": "execute_result"
    }
   ],
   "source": [
    "data.isnull().sum()"
   ]
  },
  {
   "cell_type": "code",
   "execution_count": null,
   "id": "96a0fa74",
   "metadata": {},
   "outputs": [],
   "source": [
    "data['City'].fillna(data['City'].mode())"
   ]
  },
  {
   "cell_type": "code",
   "execution_count": 35,
   "id": "09077f9e",
   "metadata": {},
   "outputs": [
    {
     "data": {
      "text/plain": [
       "City\n",
       "Beijing        2042\n",
       "Sydney         2015\n",
       "Athens         1998\n",
       "Atlanta        1859\n",
       "Barcelona      1705\n",
       "Seoul          1546\n",
       "Los Angeles    1459\n",
       "Moscow         1387\n",
       "Montreal       1305\n",
       "dtype: int64"
      ]
     },
     "execution_count": 35,
     "metadata": {},
     "output_type": "execute_result"
    }
   ],
   "source": [
    "data.value_counts(\"City\")"
   ]
  },
  {
   "cell_type": "code",
   "execution_count": 16,
   "id": "7f13c7ba",
   "metadata": {},
   "outputs": [
    {
     "data": {
      "text/plain": [
       "0        Montreal\n",
       "1        Montreal\n",
       "2        Montreal\n",
       "3        Montreal\n",
       "4        Montreal\n",
       "           ...   \n",
       "15312       China\n",
       "15313       China\n",
       "15314       China\n",
       "15315       China\n",
       "15316       China\n",
       "Name: City, Length: 15317, dtype: object"
      ]
     },
     "execution_count": 16,
     "metadata": {},
     "output_type": "execute_result"
    }
   ],
   "source": [
    "data['City'].fillna(method = 'ffill')"
   ]
  },
  {
   "cell_type": "code",
   "execution_count": 17,
   "id": "f9b55ae7",
   "metadata": {},
   "outputs": [
    {
     "data": {
      "text/plain": [
       "City            76\n",
       "Year            24\n",
       "Sport            0\n",
       "Discipline       0\n",
       "Event            1\n",
       "Athlete          0\n",
       "Gender           1\n",
       "Country_Code     0\n",
       "Country         79\n",
       "Event_gender     1\n",
       "Medal           46\n",
       "dtype: int64"
      ]
     },
     "execution_count": 17,
     "metadata": {},
     "output_type": "execute_result"
    }
   ],
   "source": [
    "data.isnull().sum()"
   ]
  },
  {
   "cell_type": "markdown",
   "id": "7e004eec",
   "metadata": {},
   "source": [
    "## 2.2 Xử lí dữ liệu lặp "
   ]
  },
  {
   "cell_type": "code",
   "execution_count": 49,
   "id": "6e1ac25d",
   "metadata": {},
   "outputs": [
    {
     "data": {
      "text/html": [
       "<div>\n",
       "<style scoped>\n",
       "    .dataframe tbody tr th:only-of-type {\n",
       "        vertical-align: middle;\n",
       "    }\n",
       "\n",
       "    .dataframe tbody tr th {\n",
       "        vertical-align: top;\n",
       "    }\n",
       "\n",
       "    .dataframe thead th {\n",
       "        text-align: right;\n",
       "    }\n",
       "</style>\n",
       "<table border=\"1\" class=\"dataframe\">\n",
       "  <thead>\n",
       "    <tr style=\"text-align: right;\">\n",
       "      <th></th>\n",
       "      <th>City</th>\n",
       "      <th>Year</th>\n",
       "      <th>Sport</th>\n",
       "      <th>Discipline</th>\n",
       "      <th>Event</th>\n",
       "      <th>Athlete</th>\n",
       "      <th>Gender</th>\n",
       "      <th>Country_Code</th>\n",
       "      <th>Country</th>\n",
       "      <th>Event_gender</th>\n",
       "      <th>Medal</th>\n",
       "    </tr>\n",
       "  </thead>\n",
       "  <tbody>\n",
       "    <tr>\n",
       "      <th>0</th>\n",
       "      <td>Montreal</td>\n",
       "      <td>1976.0</td>\n",
       "      <td>Aquatics</td>\n",
       "      <td>Diving</td>\n",
       "      <td>3m springboard</td>\n",
       "      <td>KÖHLER, Christa</td>\n",
       "      <td>Women</td>\n",
       "      <td>GDR</td>\n",
       "      <td>East Germany</td>\n",
       "      <td>W</td>\n",
       "      <td>Silver</td>\n",
       "    </tr>\n",
       "    <tr>\n",
       "      <th>1</th>\n",
       "      <td>Montreal</td>\n",
       "      <td>1976.0</td>\n",
       "      <td>Aquatics</td>\n",
       "      <td>Diving</td>\n",
       "      <td>3m springboard</td>\n",
       "      <td>KOSENKOV, Aleksandr</td>\n",
       "      <td>Men</td>\n",
       "      <td>URS</td>\n",
       "      <td>Soviet Union</td>\n",
       "      <td>M</td>\n",
       "      <td>Bronze</td>\n",
       "    </tr>\n",
       "    <tr>\n",
       "      <th>2</th>\n",
       "      <td>Montreal</td>\n",
       "      <td>1976.0</td>\n",
       "      <td>Aquatics</td>\n",
       "      <td>Diving</td>\n",
       "      <td>3m springboard</td>\n",
       "      <td>BOGGS, Philip George</td>\n",
       "      <td>Men</td>\n",
       "      <td>USA</td>\n",
       "      <td>United States</td>\n",
       "      <td>M</td>\n",
       "      <td>Gold</td>\n",
       "    </tr>\n",
       "    <tr>\n",
       "      <th>3</th>\n",
       "      <td>Montreal</td>\n",
       "      <td>1976.0</td>\n",
       "      <td>Aquatics</td>\n",
       "      <td>Diving</td>\n",
       "      <td>3m springboard</td>\n",
       "      <td>CAGNOTTO, Giorgio Franco</td>\n",
       "      <td>Men</td>\n",
       "      <td>ITA</td>\n",
       "      <td>Italy</td>\n",
       "      <td>M</td>\n",
       "      <td>Silver</td>\n",
       "    </tr>\n",
       "    <tr>\n",
       "      <th>4</th>\n",
       "      <td>Montreal</td>\n",
       "      <td>1976.0</td>\n",
       "      <td>Aquatics</td>\n",
       "      <td>Diving</td>\n",
       "      <td>10m platform</td>\n",
       "      <td>WILSON, Deborah Keplar</td>\n",
       "      <td>Women</td>\n",
       "      <td>USA</td>\n",
       "      <td>United States</td>\n",
       "      <td>W</td>\n",
       "      <td>Bronze</td>\n",
       "    </tr>\n",
       "    <tr>\n",
       "      <th>...</th>\n",
       "      <td>...</td>\n",
       "      <td>...</td>\n",
       "      <td>...</td>\n",
       "      <td>...</td>\n",
       "      <td>...</td>\n",
       "      <td>...</td>\n",
       "      <td>...</td>\n",
       "      <td>...</td>\n",
       "      <td>...</td>\n",
       "      <td>...</td>\n",
       "      <td>...</td>\n",
       "    </tr>\n",
       "    <tr>\n",
       "      <th>15312</th>\n",
       "      <td>China</td>\n",
       "      <td>2008.0</td>\n",
       "      <td>Wrestling</td>\n",
       "      <td>Wrestling Gre-R</td>\n",
       "      <td>66 - 74kg</td>\n",
       "      <td>GUENOT, Christophe</td>\n",
       "      <td>Men</td>\n",
       "      <td>FRA</td>\n",
       "      <td>France</td>\n",
       "      <td>M</td>\n",
       "      <td>Bronze</td>\n",
       "    </tr>\n",
       "    <tr>\n",
       "      <th>15313</th>\n",
       "      <td>China</td>\n",
       "      <td>2008.0</td>\n",
       "      <td>Wrestling</td>\n",
       "      <td>Wrestling Gre-R</td>\n",
       "      <td>66 - 74kg</td>\n",
       "      <td>KVIRKELIA, Manuchar</td>\n",
       "      <td>Men</td>\n",
       "      <td>GEO</td>\n",
       "      <td>Georgia</td>\n",
       "      <td>M</td>\n",
       "      <td>Gold</td>\n",
       "    </tr>\n",
       "    <tr>\n",
       "      <th>15314</th>\n",
       "      <td>China</td>\n",
       "      <td>2008.0</td>\n",
       "      <td>Wrestling</td>\n",
       "      <td>Wrestling Gre-R</td>\n",
       "      <td>55 - 60kg</td>\n",
       "      <td>RAHIMOV, Vitaliy</td>\n",
       "      <td>Men</td>\n",
       "      <td>AZE</td>\n",
       "      <td>Azerbaijan</td>\n",
       "      <td>M</td>\n",
       "      <td>Silver</td>\n",
       "    </tr>\n",
       "    <tr>\n",
       "      <th>15315</th>\n",
       "      <td>China</td>\n",
       "      <td>2008.0</td>\n",
       "      <td>Wrestling</td>\n",
       "      <td>Wrestling Gre-R</td>\n",
       "      <td>60 - 66kg</td>\n",
       "      <td>GUENOT, Steeve</td>\n",
       "      <td>Men</td>\n",
       "      <td>FRA</td>\n",
       "      <td>France</td>\n",
       "      <td>M</td>\n",
       "      <td>NaN</td>\n",
       "    </tr>\n",
       "    <tr>\n",
       "      <th>15316</th>\n",
       "      <td>China</td>\n",
       "      <td>2008.0</td>\n",
       "      <td>Wrestling</td>\n",
       "      <td>Wrestling Gre-R</td>\n",
       "      <td>96 - 120kg</td>\n",
       "      <td>LOPEZ, Mijain</td>\n",
       "      <td>Men</td>\n",
       "      <td>CUB</td>\n",
       "      <td>Cuba</td>\n",
       "      <td>M</td>\n",
       "      <td>Gold</td>\n",
       "    </tr>\n",
       "  </tbody>\n",
       "</table>\n",
       "<p>15314 rows × 11 columns</p>\n",
       "</div>"
      ],
      "text/plain": [
       "           City    Year      Sport       Discipline           Event  \\\n",
       "0      Montreal  1976.0   Aquatics           Diving  3m springboard   \n",
       "1      Montreal  1976.0   Aquatics           Diving  3m springboard   \n",
       "2      Montreal  1976.0   Aquatics           Diving  3m springboard   \n",
       "3      Montreal  1976.0   Aquatics           Diving  3m springboard   \n",
       "4      Montreal  1976.0   Aquatics           Diving    10m platform   \n",
       "...         ...     ...        ...              ...             ...   \n",
       "15312     China  2008.0  Wrestling  Wrestling Gre-R       66 - 74kg   \n",
       "15313     China  2008.0  Wrestling  Wrestling Gre-R       66 - 74kg   \n",
       "15314     China  2008.0  Wrestling  Wrestling Gre-R       55 - 60kg   \n",
       "15315     China  2008.0  Wrestling  Wrestling Gre-R       60 - 66kg   \n",
       "15316     China  2008.0  Wrestling  Wrestling Gre-R      96 - 120kg   \n",
       "\n",
       "                        Athlete Gender Country_Code        Country  \\\n",
       "0               KÖHLER, Christa  Women          GDR   East Germany   \n",
       "1           KOSENKOV, Aleksandr    Men          URS   Soviet Union   \n",
       "2          BOGGS, Philip George    Men          USA  United States   \n",
       "3      CAGNOTTO, Giorgio Franco    Men          ITA          Italy   \n",
       "4        WILSON, Deborah Keplar  Women          USA  United States   \n",
       "...                         ...    ...          ...            ...   \n",
       "15312        GUENOT, Christophe    Men          FRA         France   \n",
       "15313       KVIRKELIA, Manuchar    Men          GEO        Georgia   \n",
       "15314          RAHIMOV, Vitaliy    Men          AZE     Azerbaijan   \n",
       "15315            GUENOT, Steeve    Men          FRA         France   \n",
       "15316             LOPEZ, Mijain    Men          CUB           Cuba   \n",
       "\n",
       "      Event_gender   Medal  \n",
       "0                W  Silver  \n",
       "1                M  Bronze  \n",
       "2                M    Gold  \n",
       "3                M  Silver  \n",
       "4                W  Bronze  \n",
       "...            ...     ...  \n",
       "15312            M  Bronze  \n",
       "15313            M    Gold  \n",
       "15314            M  Silver  \n",
       "15315            M     NaN  \n",
       "15316            M    Gold  \n",
       "\n",
       "[15314 rows x 11 columns]"
      ]
     },
     "execution_count": 49,
     "metadata": {},
     "output_type": "execute_result"
    }
   ],
   "source": [
    "data.drop_duplicates(keep='last',ignore_index=False)"
   ]
  },
  {
   "cell_type": "code",
   "execution_count": null,
   "id": "774631fb",
   "metadata": {},
   "outputs": [],
   "source": []
  }
 ],
 "metadata": {
  "kernelspec": {
   "display_name": "Python 3 (ipykernel)",
   "language": "python",
   "name": "python3"
  },
  "language_info": {
   "codemirror_mode": {
    "name": "ipython",
    "version": 3
   },
   "file_extension": ".py",
   "mimetype": "text/x-python",
   "name": "python",
   "nbconvert_exporter": "python",
   "pygments_lexer": "ipython3",
   "version": "3.9.12"
  }
 },
 "nbformat": 4,
 "nbformat_minor": 5
}
