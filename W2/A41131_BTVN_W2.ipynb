{
 "cells": [
  {
   "cell_type": "markdown",
   "id": "a684a1cb",
   "metadata": {},
   "source": [
    "# Bài tập về nhà tuần 2\n",
    "\n",
    "\n"
   ]
  },
  {
   "cell_type": "markdown",
   "id": "5e17c0bd",
   "metadata": {},
   "source": [
    "## Bài 1: Tự xây dựng hàm xử lý:\n",
    "\n",
    "- a. Xây dựng 1 hàm trả về danh sách mảng gồm n phần tử. Trong đó, các phần tử nào bị duplicated với nhau được đánh dấu là True.\n",
    "\n",
    "- b. Xây dựng 1 hàm trả về danh sách mảng chứa các vị trí dữ liệu bị missing value. \n",
    "\n",
    "- c. Xây dựng hàm kiểm tra về bất đồng bộ dữ liệu. \n",
    "    \n",
    "    + **Mục tiêu chính:** Phát hiện được vấn đề chênh lệch kích thước, format \n",
    "    + **Nâng cao(cộng điểm):** Phát hiện kiểm tra xem có ký tự đặc biệt nào ngoài các ký tự có thể giá trị đó. Ví dụ phát hiện tồn tại A@1232, 113462A.\n",
    "\n",
    "- d. Xây dựng hàm xử lý vấn đề bất đồng bộ"
   ]
  },
  {
   "cell_type": "code",
   "execution_count": 18,
   "id": "0cd9f9ff",
   "metadata": {},
   "outputs": [],
   "source": [
    "import pandas as pd\n",
    "import numpy as np"
   ]
  },
  {
   "cell_type": "code",
   "execution_count": 129,
   "id": "5ba46cda",
   "metadata": {},
   "outputs": [],
   "source": [
    "data = pd.DataFrame(\n",
    "    {\n",
    "        'MSV':['A43471','40401','A39380','A38843','A41131','A30426','A30479','A33541','A30012','A31111','A42356','A43321','A35614','A43211','40401'],\n",
    "         'DiemQT':[1,7,6,7,5,10,6,7,9,5,1,6,8,6,5],\n",
    "        'GioiTinh':['Nam','Nam','Nu','Nam','Nu','Nam','Nam','Nam',0,1,1,0,1,0,5]\n",
    "    }\n",
    ")"
   ]
  },
  {
   "cell_type": "markdown",
   "id": "618ba5c8",
   "metadata": {},
   "source": [
    "# Bài 1"
   ]
  },
  {
   "cell_type": "markdown",
   "id": "f2bcdd68",
   "metadata": {},
   "source": [
    "### a.Xây dựng 1 hàm trả về danh sách mảng gồm n phần tử. Trong đó, các phần tử nào bị duplicated với nhau được đánh dấu là True."
   ]
  },
  {
   "cell_type": "code",
   "execution_count": 130,
   "id": "39c27b5f",
   "metadata": {},
   "outputs": [],
   "source": [
    "def duplicated(a):\n",
    "    dup_a = np.zeros(len(a),dtype=bool)\n",
    "    for i in range(len(a)-1):\n",
    "        for j in range(i+1,len(a)):\n",
    "            if i != j and a[i] == a[j]:\n",
    "                dup_a[j] = True\n",
    "                dup_a[i] = True\n",
    "    return dup_a"
   ]
  },
  {
   "cell_type": "code",
   "execution_count": 131,
   "id": "5014f15c",
   "metadata": {},
   "outputs": [
    {
     "data": {
      "text/plain": [
       "0     False\n",
       "1     False\n",
       "2     False\n",
       "3     False\n",
       "4     False\n",
       "5     False\n",
       "6     False\n",
       "7     False\n",
       "8     False\n",
       "9     False\n",
       "10    False\n",
       "11    False\n",
       "12    False\n",
       "13    False\n",
       "14    False\n",
       "dtype: bool"
      ]
     },
     "execution_count": 131,
     "metadata": {},
     "output_type": "execute_result"
    }
   ],
   "source": [
    "data.duplicated()"
   ]
  },
  {
   "cell_type": "code",
   "execution_count": 132,
   "id": "82625bba",
   "metadata": {},
   "outputs": [
    {
     "data": {
      "text/plain": [
       "array([False,  True, False, False, False, False, False, False, False,\n",
       "       False, False, False, False, False,  True])"
      ]
     },
     "execution_count": 132,
     "metadata": {},
     "output_type": "execute_result"
    }
   ],
   "source": [
    "duplicated(data.MSV)"
   ]
  },
  {
   "cell_type": "code",
   "execution_count": 133,
   "id": "49cc9815",
   "metadata": {},
   "outputs": [
    {
     "data": {
      "text/plain": [
       "array([ True,  True,  True,  True,  True, False,  True,  True, False,\n",
       "        True,  True,  True, False,  True,  True])"
      ]
     },
     "execution_count": 133,
     "metadata": {},
     "output_type": "execute_result"
    }
   ],
   "source": [
    "duplicated(data.DiemQT)"
   ]
  },
  {
   "cell_type": "code",
   "execution_count": 134,
   "id": "9718d593",
   "metadata": {},
   "outputs": [
    {
     "data": {
      "text/plain": [
       "array([ True,  True,  True,  True,  True,  True,  True,  True,  True,\n",
       "        True,  True,  True,  True,  True, False])"
      ]
     },
     "execution_count": 134,
     "metadata": {},
     "output_type": "execute_result"
    }
   ],
   "source": [
    "duplicated(data.GioiTinh)"
   ]
  },
  {
   "cell_type": "markdown",
   "id": "609e2b0f",
   "metadata": {},
   "source": [
    "### b. Xây dựng 1 hàm trả về danh sách mảng chứa các vị trí dữ liệu bị missing value"
   ]
  },
  {
   "cell_type": "code",
   "execution_count": 135,
   "id": "2d0d116a",
   "metadata": {},
   "outputs": [],
   "source": [
    "def missing(n):\n",
    "    a =[]\n",
    "    for x in n:\n",
    "        for i in range(len(n)):\n",
    "            if n[x][i] == None or n[x][i] != n[x][i] :\n",
    "                a = np.append(a,i)\n",
    "    return a"
   ]
  },
  {
   "cell_type": "code",
   "execution_count": 136,
   "id": "96564665",
   "metadata": {},
   "outputs": [
    {
     "data": {
      "text/plain": [
       "[]"
      ]
     },
     "execution_count": 136,
     "metadata": {},
     "output_type": "execute_result"
    }
   ],
   "source": [
    "missing(data)"
   ]
  },
  {
   "cell_type": "markdown",
   "id": "2bc00890",
   "metadata": {},
   "source": [
    "### c. Xây dựng hàm kiểm tra về bất đồng bộ dữ liệu.\n",
    "\n",
    "Mục tiêu chính: Phát hiện được vấn đề chênh lệch kích thước, format\n",
    "\n",
    "Nâng cao(cộng điểm): Phát hiện kiểm tra xem có ký tự đặc biệt nào ngoài các ký tự có thể giá trị đó. Ví dụ phát hiện tồn tại A@1232, 113462A."
   ]
  },
  {
   "cell_type": "code",
   "execution_count": 149,
   "id": "59aa889f",
   "metadata": {},
   "outputs": [],
   "source": [
    "def batdong(a):\n",
    "    \n",
    "    bd = np.ones(len(a), dtype= bool)\n",
    "    for i in range(len(a)-1):\n",
    "        khac = 0\n",
    "        cung = 0\n",
    "        for j in range(i+1,len(a)):\n",
    "            if type(a[i]) != type(a[j]) or len(a[i]) != len(a[j]):\n",
    "                   khac += 1\n",
    "            else: \n",
    "                   cung += 1\n",
    "        if khac > cung:\n",
    "            bd[i] = False\n",
    "    return bd\n",
    "                   "
   ]
  },
  {
   "cell_type": "code",
   "execution_count": 150,
   "id": "75edd62a",
   "metadata": {},
   "outputs": [
    {
     "data": {
      "text/plain": [
       "array([ True, False,  True,  True,  True,  True,  True,  True,  True,\n",
       "        True,  True,  True,  True, False,  True])"
      ]
     },
     "execution_count": 150,
     "metadata": {},
     "output_type": "execute_result"
    }
   ],
   "source": [
    "batdong(data.MSV)"
   ]
  },
  {
   "cell_type": "markdown",
   "id": "2a826c56",
   "metadata": {},
   "source": [
    "### d. Xây dựng hàm xử lý vấn đề bất đồng bộ"
   ]
  },
  {
   "cell_type": "code",
   "execution_count": null,
   "id": "49a94258",
   "metadata": {},
   "outputs": [],
   "source": [
    "def xuli(n)\n",
    "    a=[]\n",
    "    l=0\n",
    "    for x in n:\n",
    "        for i in range(len(n)):\n",
    "            if (len(n[x][i] < l):\n",
    "                n[x][i] "
   ]
  },
  {
   "cell_type": "code",
   "execution_count": 153,
   "id": "a9cb9f1d",
   "metadata": {
    "scrolled": false
   },
   "outputs": [
    {
     "name": "stderr",
     "output_type": "stream",
     "text": [
      "C:\\Users\\Admin\\AppData\\Local\\Temp\\ipykernel_6024\\2951563593.py:4: SettingWithCopyWarning: \n",
      "A value is trying to be set on a copy of a slice from a DataFrame\n",
      "\n",
      "See the caveats in the documentation: https://pandas.pydata.org/pandas-docs/stable/user_guide/indexing.html#returning-a-view-versus-a-copy\n",
      "  data['MSV'][i] = 'A' + data['MSV'][i]\n"
     ]
    }
   ],
   "source": [
    "for i in range (len(data)-1):\n",
    "    if (len(data['MSV'][i]) < 6): \n",
    "        if \"A\" not in data['MSV'][i]:\n",
    "            data['MSV'][i] = 'A' + data['MSV'][i]"
   ]
  },
  {
   "cell_type": "markdown",
   "id": "145fe09c",
   "metadata": {},
   "source": [
    "\n",
    "\n",
    "## Bài 2\n",
    "\n",
    "Dữ liệu mô tả về số lượng dân số của các nước trên toàn thế giới từ năm 1960-2021. Thực hiện một số yêu cầu sau:\n",
    "\n",
    "+ Phát hiện các vấn đề của tập dữ liệu. Lưu ý, dùng Markdown để diễn giải các lỗi gặp phải.\n",
    "+ Đề xuất phương pháp xử lý với các vấn đề đó. Dùng markdown giải thích phương pháp xử lý, nguyên do lựa chọn phương pháp đó.\n",
    "+ Sử dụng hàm ở Bài 1 để thử nghiệm với dữ liệu bài 2"
   ]
  },
  {
   "cell_type": "code",
   "execution_count": 123,
   "id": "8d458416",
   "metadata": {},
   "outputs": [
    {
     "name": "stdout",
     "output_type": "stream",
     "text": [
      "C:\\Users\\Admin\\Documents\\Nhập môn khoa học dữ liệu\\W2\n"
     ]
    }
   ],
   "source": [
    "%cd \"C:\\Users\\Admin\\Documents\\Nhập môn khoa học dữ liệu\\W2\""
   ]
  },
  {
   "cell_type": "code",
   "execution_count": 124,
   "id": "9a03d8b1",
   "metadata": {},
   "outputs": [],
   "source": [
    "df = pd.read_csv('data_btvn.csv')"
   ]
  },
  {
   "cell_type": "code",
   "execution_count": 146,
   "id": "51e99dd9",
   "metadata": {},
   "outputs": [
    {
     "data": {
      "text/html": [
       "<div>\n",
       "<style scoped>\n",
       "    .dataframe tbody tr th:only-of-type {\n",
       "        vertical-align: middle;\n",
       "    }\n",
       "\n",
       "    .dataframe tbody tr th {\n",
       "        vertical-align: top;\n",
       "    }\n",
       "\n",
       "    .dataframe thead th {\n",
       "        text-align: right;\n",
       "    }\n",
       "</style>\n",
       "<table border=\"1\" class=\"dataframe\">\n",
       "  <thead>\n",
       "    <tr style=\"text-align: right;\">\n",
       "      <th></th>\n",
       "      <th>Country Name</th>\n",
       "      <th>Country Code</th>\n",
       "      <th>1960</th>\n",
       "      <th>1961</th>\n",
       "      <th>1962</th>\n",
       "      <th>1963</th>\n",
       "      <th>1964</th>\n",
       "      <th>1965</th>\n",
       "      <th>1966</th>\n",
       "      <th>1967</th>\n",
       "      <th>...</th>\n",
       "      <th>2012</th>\n",
       "      <th>2013</th>\n",
       "      <th>2014</th>\n",
       "      <th>2015</th>\n",
       "      <th>2016</th>\n",
       "      <th>2017</th>\n",
       "      <th>2018</th>\n",
       "      <th>2019</th>\n",
       "      <th>2020</th>\n",
       "      <th>2021</th>\n",
       "    </tr>\n",
       "  </thead>\n",
       "  <tbody>\n",
       "    <tr>\n",
       "      <th>0</th>\n",
       "      <td>Aruba</td>\n",
       "      <td>ABW</td>\n",
       "      <td>54208.0</td>\n",
       "      <td>55434.0</td>\n",
       "      <td>56234.0</td>\n",
       "      <td>56699.0</td>\n",
       "      <td>57029.0</td>\n",
       "      <td>57357.0</td>\n",
       "      <td>57702.0</td>\n",
       "      <td>58044.0</td>\n",
       "      <td>...</td>\n",
       "      <td>102565.0</td>\n",
       "      <td>103165.0</td>\n",
       "      <td>103776.0</td>\n",
       "      <td>104339.0</td>\n",
       "      <td>104865.0</td>\n",
       "      <td>105361.0</td>\n",
       "      <td>105846.0</td>\n",
       "      <td>106310.0</td>\n",
       "      <td>106766.0</td>\n",
       "      <td>107195.0</td>\n",
       "    </tr>\n",
       "    <tr>\n",
       "      <th>1</th>\n",
       "      <td>Africa Eastern and Southern</td>\n",
       "      <td>AFE</td>\n",
       "      <td>130836765.0</td>\n",
       "      <td>134159786.0</td>\n",
       "      <td>137614644.0</td>\n",
       "      <td>141202036.0</td>\n",
       "      <td>144920186.0</td>\n",
       "      <td>148769974.0</td>\n",
       "      <td>152752671.0</td>\n",
       "      <td>156876454.0</td>\n",
       "      <td>...</td>\n",
       "      <td>547482863.0</td>\n",
       "      <td>562601578.0</td>\n",
       "      <td>578075373.0</td>\n",
       "      <td>593871847.0</td>\n",
       "      <td>609978946.0</td>\n",
       "      <td>626392880.0</td>\n",
       "      <td>643090131.0</td>\n",
       "      <td>660046272.0</td>\n",
       "      <td>677243299.0</td>\n",
       "      <td>694665117.0</td>\n",
       "    </tr>\n",
       "    <tr>\n",
       "      <th>2</th>\n",
       "      <td>Afghanistan</td>\n",
       "      <td>AFG</td>\n",
       "      <td>8996967.0</td>\n",
       "      <td>9169406.0</td>\n",
       "      <td>9351442.0</td>\n",
       "      <td>9543200.0</td>\n",
       "      <td>9744772.0</td>\n",
       "      <td>9956318.0</td>\n",
       "      <td>10174840.0</td>\n",
       "      <td>10399936.0</td>\n",
       "      <td>...</td>\n",
       "      <td>31161378.0</td>\n",
       "      <td>32269592.0</td>\n",
       "      <td>33370804.0</td>\n",
       "      <td>34413603.0</td>\n",
       "      <td>35383028.0</td>\n",
       "      <td>36296111.0</td>\n",
       "      <td>37171922.0</td>\n",
       "      <td>38041757.0</td>\n",
       "      <td>38928341.0</td>\n",
       "      <td>39835428.0</td>\n",
       "    </tr>\n",
       "    <tr>\n",
       "      <th>3</th>\n",
       "      <td>Africa Western and Central</td>\n",
       "      <td>AFW</td>\n",
       "      <td>96396419.0</td>\n",
       "      <td>98407221.0</td>\n",
       "      <td>100506960.0</td>\n",
       "      <td>102691339.0</td>\n",
       "      <td>104953470.0</td>\n",
       "      <td>107289875.0</td>\n",
       "      <td>109701811.0</td>\n",
       "      <td>112195950.0</td>\n",
       "      <td>...</td>\n",
       "      <td>370243017.0</td>\n",
       "      <td>380437896.0</td>\n",
       "      <td>390882979.0</td>\n",
       "      <td>401586651.0</td>\n",
       "      <td>412551299.0</td>\n",
       "      <td>423769930.0</td>\n",
       "      <td>435229381.0</td>\n",
       "      <td>446911598.0</td>\n",
       "      <td>458803476.0</td>\n",
       "      <td>470898870.0</td>\n",
       "    </tr>\n",
       "    <tr>\n",
       "      <th>4</th>\n",
       "      <td>Angola</td>\n",
       "      <td>AGO</td>\n",
       "      <td>5454938.0</td>\n",
       "      <td>5531451.0</td>\n",
       "      <td>5608499.0</td>\n",
       "      <td>5679409.0</td>\n",
       "      <td>5734995.0</td>\n",
       "      <td>5770573.0</td>\n",
       "      <td>5781305.0</td>\n",
       "      <td>5774440.0</td>\n",
       "      <td>...</td>\n",
       "      <td>25107925.0</td>\n",
       "      <td>26015786.0</td>\n",
       "      <td>26941773.0</td>\n",
       "      <td>27884380.0</td>\n",
       "      <td>28842482.0</td>\n",
       "      <td>29816769.0</td>\n",
       "      <td>30809787.0</td>\n",
       "      <td>31825299.0</td>\n",
       "      <td>32866268.0</td>\n",
       "      <td>33933611.0</td>\n",
       "    </tr>\n",
       "    <tr>\n",
       "      <th>...</th>\n",
       "      <td>...</td>\n",
       "      <td>...</td>\n",
       "      <td>...</td>\n",
       "      <td>...</td>\n",
       "      <td>...</td>\n",
       "      <td>...</td>\n",
       "      <td>...</td>\n",
       "      <td>...</td>\n",
       "      <td>...</td>\n",
       "      <td>...</td>\n",
       "      <td>...</td>\n",
       "      <td>...</td>\n",
       "      <td>...</td>\n",
       "      <td>...</td>\n",
       "      <td>...</td>\n",
       "      <td>...</td>\n",
       "      <td>...</td>\n",
       "      <td>...</td>\n",
       "      <td>...</td>\n",
       "      <td>...</td>\n",
       "      <td>...</td>\n",
       "    </tr>\n",
       "    <tr>\n",
       "      <th>261</th>\n",
       "      <td>Kosovo</td>\n",
       "      <td>XKX</td>\n",
       "      <td>947000.0</td>\n",
       "      <td>966000.0</td>\n",
       "      <td>994000.0</td>\n",
       "      <td>1022000.0</td>\n",
       "      <td>1050000.0</td>\n",
       "      <td>1078000.0</td>\n",
       "      <td>1106000.0</td>\n",
       "      <td>1135000.0</td>\n",
       "      <td>...</td>\n",
       "      <td>1807106.0</td>\n",
       "      <td>1818117.0</td>\n",
       "      <td>1812771.0</td>\n",
       "      <td>1788196.0</td>\n",
       "      <td>1777557.0</td>\n",
       "      <td>1791003.0</td>\n",
       "      <td>1797085.0</td>\n",
       "      <td>1788878.0</td>\n",
       "      <td>1790133.0</td>\n",
       "      <td>1806279.0</td>\n",
       "    </tr>\n",
       "    <tr>\n",
       "      <th>262</th>\n",
       "      <td>Yemen, Rep.</td>\n",
       "      <td>YEM</td>\n",
       "      <td>5315351.0</td>\n",
       "      <td>5393034.0</td>\n",
       "      <td>5473671.0</td>\n",
       "      <td>5556767.0</td>\n",
       "      <td>5641598.0</td>\n",
       "      <td>5727745.0</td>\n",
       "      <td>5816241.0</td>\n",
       "      <td>5907873.0</td>\n",
       "      <td>...</td>\n",
       "      <td>24473176.0</td>\n",
       "      <td>25147112.0</td>\n",
       "      <td>25823488.0</td>\n",
       "      <td>26497881.0</td>\n",
       "      <td>27168210.0</td>\n",
       "      <td>27834811.0</td>\n",
       "      <td>28498683.0</td>\n",
       "      <td>29161922.0</td>\n",
       "      <td>29825968.0</td>\n",
       "      <td>30490639.0</td>\n",
       "    </tr>\n",
       "    <tr>\n",
       "      <th>263</th>\n",
       "      <td>South Africa</td>\n",
       "      <td>ZAF</td>\n",
       "      <td>17099836.0</td>\n",
       "      <td>17524533.0</td>\n",
       "      <td>17965733.0</td>\n",
       "      <td>18423157.0</td>\n",
       "      <td>18896303.0</td>\n",
       "      <td>19384838.0</td>\n",
       "      <td>19888259.0</td>\n",
       "      <td>20406863.0</td>\n",
       "      <td>...</td>\n",
       "      <td>52832659.0</td>\n",
       "      <td>53687125.0</td>\n",
       "      <td>54544184.0</td>\n",
       "      <td>55386369.0</td>\n",
       "      <td>56207649.0</td>\n",
       "      <td>57009751.0</td>\n",
       "      <td>57792520.0</td>\n",
       "      <td>58558267.0</td>\n",
       "      <td>59308690.0</td>\n",
       "      <td>60041996.0</td>\n",
       "    </tr>\n",
       "    <tr>\n",
       "      <th>264</th>\n",
       "      <td>Zambia</td>\n",
       "      <td>ZMB</td>\n",
       "      <td>3070780.0</td>\n",
       "      <td>3164330.0</td>\n",
       "      <td>3260645.0</td>\n",
       "      <td>3360099.0</td>\n",
       "      <td>3463211.0</td>\n",
       "      <td>3570466.0</td>\n",
       "      <td>3681953.0</td>\n",
       "      <td>3797877.0</td>\n",
       "      <td>...</td>\n",
       "      <td>14465148.0</td>\n",
       "      <td>14926551.0</td>\n",
       "      <td>15399793.0</td>\n",
       "      <td>15879370.0</td>\n",
       "      <td>16363449.0</td>\n",
       "      <td>16853608.0</td>\n",
       "      <td>17351714.0</td>\n",
       "      <td>17861034.0</td>\n",
       "      <td>18383956.0</td>\n",
       "      <td>18920657.0</td>\n",
       "    </tr>\n",
       "    <tr>\n",
       "      <th>265</th>\n",
       "      <td>Zimbabwe</td>\n",
       "      <td>ZWE</td>\n",
       "      <td>3776679.0</td>\n",
       "      <td>3905038.0</td>\n",
       "      <td>4039209.0</td>\n",
       "      <td>4178726.0</td>\n",
       "      <td>4322854.0</td>\n",
       "      <td>4471178.0</td>\n",
       "      <td>4623340.0</td>\n",
       "      <td>4779825.0</td>\n",
       "      <td>...</td>\n",
       "      <td>13115149.0</td>\n",
       "      <td>13350378.0</td>\n",
       "      <td>13586710.0</td>\n",
       "      <td>13814642.0</td>\n",
       "      <td>14030338.0</td>\n",
       "      <td>14236599.0</td>\n",
       "      <td>14438812.0</td>\n",
       "      <td>14645473.0</td>\n",
       "      <td>14862927.0</td>\n",
       "      <td>15092171.0</td>\n",
       "    </tr>\n",
       "  </tbody>\n",
       "</table>\n",
       "<p>266 rows × 64 columns</p>\n",
       "</div>"
      ],
      "text/plain": [
       "                    Country Name Country Code         1960         1961  \\\n",
       "0                          Aruba          ABW      54208.0      55434.0   \n",
       "1    Africa Eastern and Southern          AFE  130836765.0  134159786.0   \n",
       "2                    Afghanistan          AFG    8996967.0    9169406.0   \n",
       "3     Africa Western and Central          AFW   96396419.0   98407221.0   \n",
       "4                         Angola          AGO    5454938.0    5531451.0   \n",
       "..                           ...          ...          ...          ...   \n",
       "261                       Kosovo          XKX     947000.0     966000.0   \n",
       "262                  Yemen, Rep.          YEM    5315351.0    5393034.0   \n",
       "263                 South Africa          ZAF   17099836.0   17524533.0   \n",
       "264                       Zambia          ZMB    3070780.0    3164330.0   \n",
       "265                     Zimbabwe          ZWE    3776679.0    3905038.0   \n",
       "\n",
       "            1962         1963         1964         1965         1966  \\\n",
       "0        56234.0      56699.0      57029.0      57357.0      57702.0   \n",
       "1    137614644.0  141202036.0  144920186.0  148769974.0  152752671.0   \n",
       "2      9351442.0    9543200.0    9744772.0    9956318.0   10174840.0   \n",
       "3    100506960.0  102691339.0  104953470.0  107289875.0  109701811.0   \n",
       "4      5608499.0    5679409.0    5734995.0    5770573.0    5781305.0   \n",
       "..           ...          ...          ...          ...          ...   \n",
       "261     994000.0    1022000.0    1050000.0    1078000.0    1106000.0   \n",
       "262    5473671.0    5556767.0    5641598.0    5727745.0    5816241.0   \n",
       "263   17965733.0   18423157.0   18896303.0   19384838.0   19888259.0   \n",
       "264    3260645.0    3360099.0    3463211.0    3570466.0    3681953.0   \n",
       "265    4039209.0    4178726.0    4322854.0    4471178.0    4623340.0   \n",
       "\n",
       "            1967  ...         2012         2013         2014         2015  \\\n",
       "0        58044.0  ...     102565.0     103165.0     103776.0     104339.0   \n",
       "1    156876454.0  ...  547482863.0  562601578.0  578075373.0  593871847.0   \n",
       "2     10399936.0  ...   31161378.0   32269592.0   33370804.0   34413603.0   \n",
       "3    112195950.0  ...  370243017.0  380437896.0  390882979.0  401586651.0   \n",
       "4      5774440.0  ...   25107925.0   26015786.0   26941773.0   27884380.0   \n",
       "..           ...  ...          ...          ...          ...          ...   \n",
       "261    1135000.0  ...    1807106.0    1818117.0    1812771.0    1788196.0   \n",
       "262    5907873.0  ...   24473176.0   25147112.0   25823488.0   26497881.0   \n",
       "263   20406863.0  ...   52832659.0   53687125.0   54544184.0   55386369.0   \n",
       "264    3797877.0  ...   14465148.0   14926551.0   15399793.0   15879370.0   \n",
       "265    4779825.0  ...   13115149.0   13350378.0   13586710.0   13814642.0   \n",
       "\n",
       "            2016         2017         2018         2019         2020  \\\n",
       "0       104865.0     105361.0     105846.0     106310.0     106766.0   \n",
       "1    609978946.0  626392880.0  643090131.0  660046272.0  677243299.0   \n",
       "2     35383028.0   36296111.0   37171922.0   38041757.0   38928341.0   \n",
       "3    412551299.0  423769930.0  435229381.0  446911598.0  458803476.0   \n",
       "4     28842482.0   29816769.0   30809787.0   31825299.0   32866268.0   \n",
       "..           ...          ...          ...          ...          ...   \n",
       "261    1777557.0    1791003.0    1797085.0    1788878.0    1790133.0   \n",
       "262   27168210.0   27834811.0   28498683.0   29161922.0   29825968.0   \n",
       "263   56207649.0   57009751.0   57792520.0   58558267.0   59308690.0   \n",
       "264   16363449.0   16853608.0   17351714.0   17861034.0   18383956.0   \n",
       "265   14030338.0   14236599.0   14438812.0   14645473.0   14862927.0   \n",
       "\n",
       "            2021  \n",
       "0       107195.0  \n",
       "1    694665117.0  \n",
       "2     39835428.0  \n",
       "3    470898870.0  \n",
       "4     33933611.0  \n",
       "..           ...  \n",
       "261    1806279.0  \n",
       "262   30490639.0  \n",
       "263   60041996.0  \n",
       "264   18920657.0  \n",
       "265   15092171.0  \n",
       "\n",
       "[266 rows x 64 columns]"
      ]
     },
     "execution_count": 146,
     "metadata": {},
     "output_type": "execute_result"
    }
   ],
   "source": [
    "df"
   ]
  },
  {
   "cell_type": "code",
   "execution_count": 126,
   "id": "11215906",
   "metadata": {
    "scrolled": true
   },
   "outputs": [
    {
     "data": {
      "text/plain": [
       "0"
      ]
     },
     "execution_count": 126,
     "metadata": {},
     "output_type": "execute_result"
    }
   ],
   "source": [
    "duplicated(df['Country Name']).sum()"
   ]
  },
  {
   "cell_type": "code",
   "execution_count": 127,
   "id": "00ae0a23",
   "metadata": {},
   "outputs": [
    {
     "data": {
      "text/plain": [
       "0"
      ]
     },
     "execution_count": 127,
     "metadata": {},
     "output_type": "execute_result"
    }
   ],
   "source": [
    "duplicated(df['Country Code']).sum()"
   ]
  },
  {
   "cell_type": "markdown",
   "id": "c929a794",
   "metadata": {},
   "source": [
    "- Không bị missing value"
   ]
  },
  {
   "cell_type": "code",
   "execution_count": 128,
   "id": "ec2c7d5a",
   "metadata": {},
   "outputs": [
    {
     "data": {
      "text/plain": [
       "110.0    62\n",
       "196.0    30\n",
       "69.0     10\n",
       "127.0     3\n",
       "dtype: int64"
      ]
     },
     "execution_count": 128,
     "metadata": {},
     "output_type": "execute_result"
    }
   ],
   "source": [
    "pd.DataFrame(missing(df)).value_counts()"
   ]
  },
  {
   "cell_type": "markdown",
   "id": "44e4fcc7",
   "metadata": {},
   "source": [
    "- Tại vị trí 110 bị trống 62/64 cột \n",
    "\n",
    "    Giải pháp: Xoá cột ấy đi> \n",
    "\n",
    "    Nguyên do: Vì bị trống quá 50%\n",
    "    \n",
    "\n",
    "- Tại vị trí 196 bị trống 30/64 cột \n",
    "\n",
    "    Giải pháp: Xoá cột đi\n",
    "\n",
    "    Nguyên do: Vì bị trống quá 50%\n",
    "    \n",
    "\n",
    "- Tại vị trí 69 bị trống 10/64 cột\n",
    "\n",
    "    Giải pháp: Thêm mean \n",
    "\n",
    "    Nguyên do: Vì bị trống ít\n",
    "    \n",
    "\n",
    "- Tại vị trí 127 bị trống 3/64 cột\n",
    "\n",
    "    Giải pháp: Thêm mean\n",
    "\n",
    "    Nguyên do: Vì bị trống ít"
   ]
  },
  {
   "cell_type": "code",
   "execution_count": 151,
   "id": "63dc8d28",
   "metadata": {},
   "outputs": [
    {
     "data": {
      "text/plain": [
       "1"
      ]
     },
     "execution_count": 151,
     "metadata": {},
     "output_type": "execute_result"
    }
   ],
   "source": [
    "batdong(df['Country Name']).sum()"
   ]
  },
  {
   "cell_type": "markdown",
   "id": "a30c7e54",
   "metadata": {},
   "source": [
    "Không đồng bộ dữ liệu Country Name"
   ]
  },
  {
   "cell_type": "code",
   "execution_count": null,
   "id": "fcc7ba57",
   "metadata": {},
   "outputs": [],
   "source": []
  }
 ],
 "metadata": {
  "kernelspec": {
   "display_name": "Python 3 (ipykernel)",
   "language": "python",
   "name": "python3"
  },
  "language_info": {
   "codemirror_mode": {
    "name": "ipython",
    "version": 3
   },
   "file_extension": ".py",
   "mimetype": "text/x-python",
   "name": "python",
   "nbconvert_exporter": "python",
   "pygments_lexer": "ipython3",
   "version": "3.9.12"
  }
 },
 "nbformat": 4,
 "nbformat_minor": 5
}
