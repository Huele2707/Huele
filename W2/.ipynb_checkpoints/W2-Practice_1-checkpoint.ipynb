{
 "cells": [
  {
   "cell_type": "markdown",
   "id": "5a36bb58",
   "metadata": {},
   "source": [
    "# Thực hành tuần 2 - Introduction to Data Science\n",
    "\n",
    "**Preprocess the data**\n",
    "\n",
    "1 - Ingestion data\n",
    "\n",
    "\n",
    "2 - Find the problems\n",
    "\n",
    "+ Missing values\n",
    "+ duplicated\n",
    "+ Bất đồng bộ về kiểu dữ liệu\n",
    "+ Outliers ()\n",
    "+ Logic\n",
    "\n",
    "3 - Clean\n",
    "\n",
    "\n",
    "-> EDA"
   ]
  },
  {
   "cell_type": "code",
   "execution_count": 1,
   "id": "ed9b2852",
   "metadata": {},
   "outputs": [],
   "source": [
    "import pandas as pd\n",
    "import numpy as np"
   ]
  },
  {
   "cell_type": "code",
   "execution_count": 2,
   "id": "aca34bdb",
   "metadata": {},
   "outputs": [],
   "source": [
    "# Khởi tạo dữ liệu\n",
    "data = pd.DataFrame(\n",
    "    {'date':['01/01/2022','02/01/2022','03/01/2022','04/01/2022','05/01/2022','06/01/2022','06/01/2022'],\n",
    "     'volumes_max':[120,123,102,None,111,None,124],\n",
    "     'volumes':[120,130,102,None,111,None,124],\n",
    "     'temperature':[22,23,21,36,None,31,25]\n",
    "    }\n",
    ")"
   ]
  },
  {
   "cell_type": "code",
   "execution_count": 3,
   "id": "6eec4987",
   "metadata": {},
   "outputs": [
    {
     "data": {
      "text/html": [
       "<div>\n",
       "<style scoped>\n",
       "    .dataframe tbody tr th:only-of-type {\n",
       "        vertical-align: middle;\n",
       "    }\n",
       "\n",
       "    .dataframe tbody tr th {\n",
       "        vertical-align: top;\n",
       "    }\n",
       "\n",
       "    .dataframe thead th {\n",
       "        text-align: right;\n",
       "    }\n",
       "</style>\n",
       "<table border=\"1\" class=\"dataframe\">\n",
       "  <thead>\n",
       "    <tr style=\"text-align: right;\">\n",
       "      <th></th>\n",
       "      <th>date</th>\n",
       "      <th>volumes_max</th>\n",
       "      <th>volumes</th>\n",
       "      <th>temperature</th>\n",
       "    </tr>\n",
       "  </thead>\n",
       "  <tbody>\n",
       "    <tr>\n",
       "      <th>0</th>\n",
       "      <td>01/01/2022</td>\n",
       "      <td>120.0</td>\n",
       "      <td>120.0</td>\n",
       "      <td>22.0</td>\n",
       "    </tr>\n",
       "    <tr>\n",
       "      <th>1</th>\n",
       "      <td>02/01/2022</td>\n",
       "      <td>123.0</td>\n",
       "      <td>130.0</td>\n",
       "      <td>23.0</td>\n",
       "    </tr>\n",
       "    <tr>\n",
       "      <th>2</th>\n",
       "      <td>03/01/2022</td>\n",
       "      <td>102.0</td>\n",
       "      <td>102.0</td>\n",
       "      <td>21.0</td>\n",
       "    </tr>\n",
       "    <tr>\n",
       "      <th>3</th>\n",
       "      <td>04/01/2022</td>\n",
       "      <td>NaN</td>\n",
       "      <td>NaN</td>\n",
       "      <td>36.0</td>\n",
       "    </tr>\n",
       "    <tr>\n",
       "      <th>4</th>\n",
       "      <td>05/01/2022</td>\n",
       "      <td>111.0</td>\n",
       "      <td>111.0</td>\n",
       "      <td>NaN</td>\n",
       "    </tr>\n",
       "    <tr>\n",
       "      <th>5</th>\n",
       "      <td>06/01/2022</td>\n",
       "      <td>NaN</td>\n",
       "      <td>NaN</td>\n",
       "      <td>31.0</td>\n",
       "    </tr>\n",
       "    <tr>\n",
       "      <th>6</th>\n",
       "      <td>06/01/2022</td>\n",
       "      <td>124.0</td>\n",
       "      <td>124.0</td>\n",
       "      <td>25.0</td>\n",
       "    </tr>\n",
       "  </tbody>\n",
       "</table>\n",
       "</div>"
      ],
      "text/plain": [
       "         date  volumes_max  volumes  temperature\n",
       "0  01/01/2022        120.0    120.0         22.0\n",
       "1  02/01/2022        123.0    130.0         23.0\n",
       "2  03/01/2022        102.0    102.0         21.0\n",
       "3  04/01/2022          NaN      NaN         36.0\n",
       "4  05/01/2022        111.0    111.0          NaN\n",
       "5  06/01/2022          NaN      NaN         31.0\n",
       "6  06/01/2022        124.0    124.0         25.0"
      ]
     },
     "execution_count": 3,
     "metadata": {},
     "output_type": "execute_result"
    }
   ],
   "source": [
    "data"
   ]
  },
  {
   "cell_type": "markdown",
   "id": "5a04d9f8",
   "metadata": {},
   "source": [
    "## 1. Kiểm tra vấn đề dữ liệu\n",
    "\n",
    "Một số vấn đề dữ liệu ta sẽ thực hiện kiểm tra:\n",
    "\n",
    "- Missing value\n",
    "- Duplicated\n",
    "- Lỗi logic\n",
    "- Bất đồng bộ"
   ]
  },
  {
   "cell_type": "markdown",
   "id": "e093b387",
   "metadata": {},
   "source": [
    "### 1.1 Kiểm tra dữ liệu bị thiếu"
   ]
  },
  {
   "cell_type": "markdown",
   "id": "20d67c9c",
   "metadata": {},
   "source": [
    "#### a. Kiểm tra trên 1 cột"
   ]
  },
  {
   "cell_type": "code",
   "execution_count": 4,
   "id": "68e4453d",
   "metadata": {},
   "outputs": [
    {
     "data": {
      "text/plain": [
       "0    False\n",
       "1    False\n",
       "2    False\n",
       "3    False\n",
       "4    False\n",
       "5    False\n",
       "6    False\n",
       "Name: date, dtype: bool"
      ]
     },
     "execution_count": 4,
     "metadata": {},
     "output_type": "execute_result"
    }
   ],
   "source": [
    "data['date'].isnull()"
   ]
  },
  {
   "cell_type": "markdown",
   "id": "3444b736",
   "metadata": {},
   "source": [
    "#### b. Kiểm tra trên bảng"
   ]
  },
  {
   "cell_type": "code",
   "execution_count": 5,
   "id": "ec1df50d",
   "metadata": {},
   "outputs": [
    {
     "data": {
      "text/html": [
       "<div>\n",
       "<style scoped>\n",
       "    .dataframe tbody tr th:only-of-type {\n",
       "        vertical-align: middle;\n",
       "    }\n",
       "\n",
       "    .dataframe tbody tr th {\n",
       "        vertical-align: top;\n",
       "    }\n",
       "\n",
       "    .dataframe thead th {\n",
       "        text-align: right;\n",
       "    }\n",
       "</style>\n",
       "<table border=\"1\" class=\"dataframe\">\n",
       "  <thead>\n",
       "    <tr style=\"text-align: right;\">\n",
       "      <th></th>\n",
       "      <th>date</th>\n",
       "      <th>volumes_max</th>\n",
       "      <th>volumes</th>\n",
       "      <th>temperature</th>\n",
       "    </tr>\n",
       "  </thead>\n",
       "  <tbody>\n",
       "    <tr>\n",
       "      <th>0</th>\n",
       "      <td>False</td>\n",
       "      <td>False</td>\n",
       "      <td>False</td>\n",
       "      <td>False</td>\n",
       "    </tr>\n",
       "    <tr>\n",
       "      <th>1</th>\n",
       "      <td>False</td>\n",
       "      <td>False</td>\n",
       "      <td>False</td>\n",
       "      <td>False</td>\n",
       "    </tr>\n",
       "    <tr>\n",
       "      <th>2</th>\n",
       "      <td>False</td>\n",
       "      <td>False</td>\n",
       "      <td>False</td>\n",
       "      <td>False</td>\n",
       "    </tr>\n",
       "    <tr>\n",
       "      <th>3</th>\n",
       "      <td>False</td>\n",
       "      <td>True</td>\n",
       "      <td>True</td>\n",
       "      <td>False</td>\n",
       "    </tr>\n",
       "    <tr>\n",
       "      <th>4</th>\n",
       "      <td>False</td>\n",
       "      <td>False</td>\n",
       "      <td>False</td>\n",
       "      <td>True</td>\n",
       "    </tr>\n",
       "    <tr>\n",
       "      <th>5</th>\n",
       "      <td>False</td>\n",
       "      <td>True</td>\n",
       "      <td>True</td>\n",
       "      <td>False</td>\n",
       "    </tr>\n",
       "    <tr>\n",
       "      <th>6</th>\n",
       "      <td>False</td>\n",
       "      <td>False</td>\n",
       "      <td>False</td>\n",
       "      <td>False</td>\n",
       "    </tr>\n",
       "  </tbody>\n",
       "</table>\n",
       "</div>"
      ],
      "text/plain": [
       "    date  volumes_max  volumes  temperature\n",
       "0  False        False    False        False\n",
       "1  False        False    False        False\n",
       "2  False        False    False        False\n",
       "3  False         True     True        False\n",
       "4  False        False    False         True\n",
       "5  False         True     True        False\n",
       "6  False        False    False        False"
      ]
     },
     "execution_count": 5,
     "metadata": {},
     "output_type": "execute_result"
    }
   ],
   "source": [
    "data.isnull()"
   ]
  },
  {
   "cell_type": "markdown",
   "id": "ae1bf3cd",
   "metadata": {},
   "source": [
    "**Đếm số lượng missing value trong 1 cột**"
   ]
  },
  {
   "cell_type": "code",
   "execution_count": 6,
   "id": "56467816",
   "metadata": {
    "scrolled": false
   },
   "outputs": [
    {
     "data": {
      "text/plain": [
       "date           0\n",
       "volumes_max    2\n",
       "volumes        2\n",
       "temperature    1\n",
       "dtype: int64"
      ]
     },
     "execution_count": 6,
     "metadata": {},
     "output_type": "execute_result"
    }
   ],
   "source": [
    "data.isnull().sum()"
   ]
  },
  {
   "cell_type": "markdown",
   "id": "456c4e4f",
   "metadata": {},
   "source": [
    "**Lưu ý:**\n",
    "- Liệu thực sự cột đó bị missing value?\n",
    "- Phương pháp xử lý dữ liệu đối với cột đó như nào?\n",
    "\n",
    "-> volume_max số lượng nước mưa tối đa. Liệu hôm đó không mưa sẽ được đại diện bằng giá trị nào\n",
    "\n",
    "-> Đưa ra phương pháp với cột temperature"
   ]
  },
  {
   "cell_type": "markdown",
   "id": "62337de0",
   "metadata": {},
   "source": [
    "### 1.2 Kiểm tra dữ liệu bị lặp"
   ]
  },
  {
   "cell_type": "markdown",
   "id": "cb24cd45",
   "metadata": {},
   "source": [
    "[**.duplicated( subset, keep )**](https://pandas.pydata.org/docs/reference/api/pandas.DataFrame.duplicated.html)\n",
    "\n",
    "- **subset:** Danh sách cột để so sánh\n",
    "- **keep:** \n",
    "\n",
    "    + 'first'(Mặc định): Đánh dấu tất cả bằng True, trừ lần xuất hiện đầu tiên \n",
    "    + 'last': Tương tự như first, trừ lần xuất hiện cuối cùng\n",
    "    + False: Tất cả là True"
   ]
  },
  {
   "cell_type": "markdown",
   "id": "77ec72c8",
   "metadata": {},
   "source": [
    "#### a. Kiểm tra xem có dòng nào giống nhau\n"
   ]
  },
  {
   "cell_type": "code",
   "execution_count": 7,
   "id": "1902d2d4",
   "metadata": {},
   "outputs": [
    {
     "data": {
      "text/plain": [
       "0    False\n",
       "1    False\n",
       "2    False\n",
       "3    False\n",
       "4    False\n",
       "5    False\n",
       "6    False\n",
       "dtype: bool"
      ]
     },
     "execution_count": 7,
     "metadata": {},
     "output_type": "execute_result"
    }
   ],
   "source": [
    "data.duplicated()"
   ]
  },
  {
   "cell_type": "markdown",
   "id": "7b3dcfb0",
   "metadata": {},
   "source": [
    "#### b. Kiểm tra xem tại một cột có dòng nào giống nhau\n"
   ]
  },
  {
   "cell_type": "code",
   "execution_count": 8,
   "id": "0585a36e",
   "metadata": {},
   "outputs": [
    {
     "data": {
      "text/plain": [
       "0    False\n",
       "1    False\n",
       "2    False\n",
       "3    False\n",
       "4    False\n",
       "5    False\n",
       "6     True\n",
       "dtype: bool"
      ]
     },
     "execution_count": 8,
     "metadata": {},
     "output_type": "execute_result"
    }
   ],
   "source": [
    "data.duplicated(subset = ['date'])"
   ]
  },
  {
   "cell_type": "code",
   "execution_count": 9,
   "id": "8be8308d",
   "metadata": {},
   "outputs": [
    {
     "data": {
      "text/html": [
       "<div>\n",
       "<style scoped>\n",
       "    .dataframe tbody tr th:only-of-type {\n",
       "        vertical-align: middle;\n",
       "    }\n",
       "\n",
       "    .dataframe tbody tr th {\n",
       "        vertical-align: top;\n",
       "    }\n",
       "\n",
       "    .dataframe thead th {\n",
       "        text-align: right;\n",
       "    }\n",
       "</style>\n",
       "<table border=\"1\" class=\"dataframe\">\n",
       "  <thead>\n",
       "    <tr style=\"text-align: right;\">\n",
       "      <th></th>\n",
       "      <th>date</th>\n",
       "      <th>volumes_max</th>\n",
       "      <th>volumes</th>\n",
       "      <th>temperature</th>\n",
       "    </tr>\n",
       "  </thead>\n",
       "  <tbody>\n",
       "    <tr>\n",
       "      <th>6</th>\n",
       "      <td>06/01/2022</td>\n",
       "      <td>124.0</td>\n",
       "      <td>124.0</td>\n",
       "      <td>25.0</td>\n",
       "    </tr>\n",
       "  </tbody>\n",
       "</table>\n",
       "</div>"
      ],
      "text/plain": [
       "         date  volumes_max  volumes  temperature\n",
       "6  06/01/2022        124.0    124.0         25.0"
      ]
     },
     "execution_count": 9,
     "metadata": {},
     "output_type": "execute_result"
    }
   ],
   "source": [
    "data[data.duplicated(subset = ['date'])]"
   ]
  },
  {
   "cell_type": "markdown",
   "id": "199c4ad2",
   "metadata": {},
   "source": [
    "Nhận xét: \n",
    "- Dữ liệu khảo sát theo cột ngày bị lặp lại tại ngày 06/01/2022"
   ]
  },
  {
   "cell_type": "markdown",
   "id": "521a2a9e",
   "metadata": {},
   "source": [
    "## 2. Làm sạch dữ liệu"
   ]
  },
  {
   "cell_type": "markdown",
   "id": "bd52a8c8",
   "metadata": {},
   "source": [
    "### 2.1 Dữ liệu bị thiếu\n",
    "\n"
   ]
  },
  {
   "cell_type": "markdown",
   "id": "f6f934e6",
   "metadata": {},
   "source": [
    "#### a. Thay thế bằng một giá trị cụ thể\n",
    "Hàm hỗ trợ gán giá trị cho missing value\n",
    "\n",
    "[**.fillna(value, method, inplace):**](https://pandas.pydata.org/docs/reference/api/pandas.DataFrame.fillna.html)\n",
    "\n",
    "- **value:** Giá trị được thay thế\n",
    "- **method:**\n",
    "    \n",
    "    + ‘backfill’/‘bfill’: Thay thế bằng giá trị đằng sau\n",
    "    + ‘pad’ / ‘ffill’: Thay thế bằng giá trị đằng trước\n",
    "    + None(Mặc định)\n",
    "    \n",
    "- **inplace:** \n",
    "    + False(Mặc định): Chỉ trả về DataFrame hoặc Series đã được thay đổi\n",
    "    + True: Thay đổi trực tiếp trên DataFrame và Series hiện tại"
   ]
  },
  {
   "cell_type": "markdown",
   "id": "d4fd68c8",
   "metadata": {},
   "source": [
    "**Thay thế bằng giá trị 0 cho một cột**"
   ]
  },
  {
   "cell_type": "code",
   "execution_count": 10,
   "id": "f9c6de07",
   "metadata": {
    "scrolled": false
   },
   "outputs": [
    {
     "data": {
      "text/plain": [
       "0    120.0\n",
       "1    130.0\n",
       "2    102.0\n",
       "3      0.0\n",
       "4    111.0\n",
       "5      0.0\n",
       "6    124.0\n",
       "Name: volumes, dtype: float64"
      ]
     },
     "execution_count": 10,
     "metadata": {},
     "output_type": "execute_result"
    }
   ],
   "source": [
    "data['volumes'].fillna(0)"
   ]
  },
  {
   "cell_type": "code",
   "execution_count": 11,
   "id": "e3edcc01",
   "metadata": {},
   "outputs": [
    {
     "data": {
      "text/plain": [
       "0    120.0\n",
       "1    130.0\n",
       "2    102.0\n",
       "3      NaN\n",
       "4    111.0\n",
       "5      NaN\n",
       "6    124.0\n",
       "Name: volumes, dtype: float64"
      ]
     },
     "execution_count": 11,
     "metadata": {},
     "output_type": "execute_result"
    }
   ],
   "source": [
    "data['volumes']"
   ]
  },
  {
   "cell_type": "code",
   "execution_count": 12,
   "id": "37b4d325",
   "metadata": {},
   "outputs": [],
   "source": [
    "data['volumes'].fillna(0,inplace = True)"
   ]
  },
  {
   "cell_type": "code",
   "execution_count": 13,
   "id": "8ba4c8d2",
   "metadata": {
    "scrolled": true
   },
   "outputs": [
    {
     "data": {
      "text/plain": [
       "0    120.0\n",
       "1    130.0\n",
       "2    102.0\n",
       "3      0.0\n",
       "4    111.0\n",
       "5      0.0\n",
       "6    124.0\n",
       "Name: volumes, dtype: float64"
      ]
     },
     "execution_count": 13,
     "metadata": {},
     "output_type": "execute_result"
    }
   ],
   "source": [
    "data['volumes']"
   ]
  },
  {
   "cell_type": "markdown",
   "id": "2f1d7d18",
   "metadata": {},
   "source": [
    "**Thay thế bằng giá trị đứng trước**"
   ]
  },
  {
   "cell_type": "code",
   "execution_count": 14,
   "id": "258a4fa7",
   "metadata": {},
   "outputs": [
    {
     "data": {
      "text/plain": [
       "0    120.0\n",
       "1    123.0\n",
       "2    102.0\n",
       "3      NaN\n",
       "4    111.0\n",
       "5      NaN\n",
       "6    124.0\n",
       "Name: volumes_max, dtype: float64"
      ]
     },
     "execution_count": 14,
     "metadata": {},
     "output_type": "execute_result"
    }
   ],
   "source": [
    "data['volumes_max']"
   ]
  },
  {
   "cell_type": "code",
   "execution_count": 15,
   "id": "0e7b6605",
   "metadata": {
    "scrolled": true
   },
   "outputs": [
    {
     "data": {
      "text/plain": [
       "0    120.0\n",
       "1    123.0\n",
       "2    102.0\n",
       "3    102.0\n",
       "4    111.0\n",
       "5    111.0\n",
       "6    124.0\n",
       "Name: volumes_max, dtype: float64"
      ]
     },
     "execution_count": 15,
     "metadata": {},
     "output_type": "execute_result"
    }
   ],
   "source": [
    "data['volumes_max'].fillna(method='ffill')"
   ]
  },
  {
   "cell_type": "code",
   "execution_count": 16,
   "id": "13873523",
   "metadata": {},
   "outputs": [
    {
     "data": {
      "text/plain": [
       "0    120.0\n",
       "1    123.0\n",
       "2    102.0\n",
       "3    116.0\n",
       "4    111.0\n",
       "5    116.0\n",
       "6    124.0\n",
       "Name: volumes_max, dtype: float64"
      ]
     },
     "execution_count": 16,
     "metadata": {},
     "output_type": "execute_result"
    }
   ],
   "source": [
    "data['volumes_max'].fillna(data['volumes_max'].mean())"
   ]
  },
  {
   "cell_type": "markdown",
   "id": "e6ab0c97",
   "metadata": {},
   "source": [
    "#### b. Loại bỏ dữ liệu bị thiếu\n",
    "[**.dropna(axis, how, subset, inplace)**](https://pandas.pydata.org/docs/reference/api/pandas.DataFrame.dropna.html/)\n",
    "\n",
    "- **axis:**\n",
    "    \n",
    "    + 0 hoăc index(Mặc định): Xóa các dòng missing value\n",
    "    + 1 hoặc columns: Xóa các cột missing value\n",
    "- **how:**\n",
    "\n",
    "    + 'any'(Mặc định): Nếu xuất hiện giá trị là N/A xóa bỏ dòng hoặc cột đó (Phụ thuộc vào axis)\n",
    "    + 'all': Nếu tất cả giá trị là N/A, xóa bỏ dòng hoặc cột đó.\n",
    "    \n",
    "- **inplace:** Tương tự fillna()\n"
   ]
  },
  {
   "cell_type": "code",
   "execution_count": 17,
   "id": "bf5e8114",
   "metadata": {},
   "outputs": [
    {
     "data": {
      "text/html": [
       "<div>\n",
       "<style scoped>\n",
       "    .dataframe tbody tr th:only-of-type {\n",
       "        vertical-align: middle;\n",
       "    }\n",
       "\n",
       "    .dataframe tbody tr th {\n",
       "        vertical-align: top;\n",
       "    }\n",
       "\n",
       "    .dataframe thead th {\n",
       "        text-align: right;\n",
       "    }\n",
       "</style>\n",
       "<table border=\"1\" class=\"dataframe\">\n",
       "  <thead>\n",
       "    <tr style=\"text-align: right;\">\n",
       "      <th></th>\n",
       "      <th>date</th>\n",
       "      <th>volumes_max</th>\n",
       "      <th>volumes</th>\n",
       "      <th>temperature</th>\n",
       "    </tr>\n",
       "  </thead>\n",
       "  <tbody>\n",
       "    <tr>\n",
       "      <th>0</th>\n",
       "      <td>01/01/2022</td>\n",
       "      <td>120.0</td>\n",
       "      <td>120.0</td>\n",
       "      <td>22.0</td>\n",
       "    </tr>\n",
       "    <tr>\n",
       "      <th>1</th>\n",
       "      <td>02/01/2022</td>\n",
       "      <td>123.0</td>\n",
       "      <td>130.0</td>\n",
       "      <td>23.0</td>\n",
       "    </tr>\n",
       "    <tr>\n",
       "      <th>2</th>\n",
       "      <td>03/01/2022</td>\n",
       "      <td>102.0</td>\n",
       "      <td>102.0</td>\n",
       "      <td>21.0</td>\n",
       "    </tr>\n",
       "    <tr>\n",
       "      <th>6</th>\n",
       "      <td>06/01/2022</td>\n",
       "      <td>124.0</td>\n",
       "      <td>124.0</td>\n",
       "      <td>25.0</td>\n",
       "    </tr>\n",
       "  </tbody>\n",
       "</table>\n",
       "</div>"
      ],
      "text/plain": [
       "         date  volumes_max  volumes  temperature\n",
       "0  01/01/2022        120.0    120.0         22.0\n",
       "1  02/01/2022        123.0    130.0         23.0\n",
       "2  03/01/2022        102.0    102.0         21.0\n",
       "6  06/01/2022        124.0    124.0         25.0"
      ]
     },
     "execution_count": 17,
     "metadata": {},
     "output_type": "execute_result"
    }
   ],
   "source": [
    "data.dropna() #axis =0"
   ]
  },
  {
   "cell_type": "code",
   "execution_count": 18,
   "id": "eb014306",
   "metadata": {},
   "outputs": [
    {
     "data": {
      "text/html": [
       "<div>\n",
       "<style scoped>\n",
       "    .dataframe tbody tr th:only-of-type {\n",
       "        vertical-align: middle;\n",
       "    }\n",
       "\n",
       "    .dataframe tbody tr th {\n",
       "        vertical-align: top;\n",
       "    }\n",
       "\n",
       "    .dataframe thead th {\n",
       "        text-align: right;\n",
       "    }\n",
       "</style>\n",
       "<table border=\"1\" class=\"dataframe\">\n",
       "  <thead>\n",
       "    <tr style=\"text-align: right;\">\n",
       "      <th></th>\n",
       "      <th>date</th>\n",
       "      <th>volumes</th>\n",
       "    </tr>\n",
       "  </thead>\n",
       "  <tbody>\n",
       "    <tr>\n",
       "      <th>0</th>\n",
       "      <td>01/01/2022</td>\n",
       "      <td>120.0</td>\n",
       "    </tr>\n",
       "    <tr>\n",
       "      <th>1</th>\n",
       "      <td>02/01/2022</td>\n",
       "      <td>130.0</td>\n",
       "    </tr>\n",
       "    <tr>\n",
       "      <th>2</th>\n",
       "      <td>03/01/2022</td>\n",
       "      <td>102.0</td>\n",
       "    </tr>\n",
       "    <tr>\n",
       "      <th>3</th>\n",
       "      <td>04/01/2022</td>\n",
       "      <td>0.0</td>\n",
       "    </tr>\n",
       "    <tr>\n",
       "      <th>4</th>\n",
       "      <td>05/01/2022</td>\n",
       "      <td>111.0</td>\n",
       "    </tr>\n",
       "    <tr>\n",
       "      <th>5</th>\n",
       "      <td>06/01/2022</td>\n",
       "      <td>0.0</td>\n",
       "    </tr>\n",
       "    <tr>\n",
       "      <th>6</th>\n",
       "      <td>06/01/2022</td>\n",
       "      <td>124.0</td>\n",
       "    </tr>\n",
       "  </tbody>\n",
       "</table>\n",
       "</div>"
      ],
      "text/plain": [
       "         date  volumes\n",
       "0  01/01/2022    120.0\n",
       "1  02/01/2022    130.0\n",
       "2  03/01/2022    102.0\n",
       "3  04/01/2022      0.0\n",
       "4  05/01/2022    111.0\n",
       "5  06/01/2022      0.0\n",
       "6  06/01/2022    124.0"
      ]
     },
     "execution_count": 18,
     "metadata": {},
     "output_type": "execute_result"
    }
   ],
   "source": [
    "data.dropna(axis = 1)"
   ]
  },
  {
   "cell_type": "markdown",
   "id": "6feab098",
   "metadata": {},
   "source": [
    "### 2.2 Dữ liệu bị lặp lại"
   ]
  },
  {
   "cell_type": "markdown",
   "id": "b4d2980e",
   "metadata": {},
   "source": [
    "#### Loại bỏ dữ liệu\n",
    "\n",
    "[**.drop_duplicates(subset, keep, inplace, ignore_index)**](https://pandas.pydata.org/docs/reference/api/pandas.DataFrame.drop_duplicates.html)\n",
    "\n",
    "- **subset:** Tập hợp danh sách các cột được xét làm định danh cho dữ liệu\n",
    "- **keep:** tương tự như duplicated\n",
    "- **inplace:** tương tự như trên\n",
    "- **ignore_index:** \n",
    "    \n",
    "    + False(Mặc định):  Sẽ không đánh lại index\n",
    "    + True: Ngược lại với False, các dòng sẽ được đánh lại bắt đầu từ 0\n"
   ]
  },
  {
   "cell_type": "code",
   "execution_count": 19,
   "id": "185cf7ba",
   "metadata": {},
   "outputs": [
    {
     "data": {
      "text/html": [
       "<div>\n",
       "<style scoped>\n",
       "    .dataframe tbody tr th:only-of-type {\n",
       "        vertical-align: middle;\n",
       "    }\n",
       "\n",
       "    .dataframe tbody tr th {\n",
       "        vertical-align: top;\n",
       "    }\n",
       "\n",
       "    .dataframe thead th {\n",
       "        text-align: right;\n",
       "    }\n",
       "</style>\n",
       "<table border=\"1\" class=\"dataframe\">\n",
       "  <thead>\n",
       "    <tr style=\"text-align: right;\">\n",
       "      <th></th>\n",
       "      <th>date</th>\n",
       "      <th>volumes_max</th>\n",
       "      <th>volumes</th>\n",
       "      <th>temperature</th>\n",
       "    </tr>\n",
       "  </thead>\n",
       "  <tbody>\n",
       "    <tr>\n",
       "      <th>0</th>\n",
       "      <td>01/01/2022</td>\n",
       "      <td>120.0</td>\n",
       "      <td>120.0</td>\n",
       "      <td>22.0</td>\n",
       "    </tr>\n",
       "    <tr>\n",
       "      <th>1</th>\n",
       "      <td>02/01/2022</td>\n",
       "      <td>123.0</td>\n",
       "      <td>130.0</td>\n",
       "      <td>23.0</td>\n",
       "    </tr>\n",
       "    <tr>\n",
       "      <th>2</th>\n",
       "      <td>03/01/2022</td>\n",
       "      <td>102.0</td>\n",
       "      <td>102.0</td>\n",
       "      <td>21.0</td>\n",
       "    </tr>\n",
       "    <tr>\n",
       "      <th>3</th>\n",
       "      <td>04/01/2022</td>\n",
       "      <td>NaN</td>\n",
       "      <td>0.0</td>\n",
       "      <td>36.0</td>\n",
       "    </tr>\n",
       "    <tr>\n",
       "      <th>4</th>\n",
       "      <td>05/01/2022</td>\n",
       "      <td>111.0</td>\n",
       "      <td>111.0</td>\n",
       "      <td>NaN</td>\n",
       "    </tr>\n",
       "    <tr>\n",
       "      <th>6</th>\n",
       "      <td>06/01/2022</td>\n",
       "      <td>124.0</td>\n",
       "      <td>124.0</td>\n",
       "      <td>25.0</td>\n",
       "    </tr>\n",
       "  </tbody>\n",
       "</table>\n",
       "</div>"
      ],
      "text/plain": [
       "         date  volumes_max  volumes  temperature\n",
       "0  01/01/2022        120.0    120.0         22.0\n",
       "1  02/01/2022        123.0    130.0         23.0\n",
       "2  03/01/2022        102.0    102.0         21.0\n",
       "3  04/01/2022          NaN      0.0         36.0\n",
       "4  05/01/2022        111.0    111.0          NaN\n",
       "6  06/01/2022        124.0    124.0         25.0"
      ]
     },
     "execution_count": 19,
     "metadata": {},
     "output_type": "execute_result"
    }
   ],
   "source": [
    "data.drop_duplicates(subset=['date'],keep='last',ignore_index=False)"
   ]
  },
  {
   "cell_type": "markdown",
   "id": "1298a950",
   "metadata": {},
   "source": [
    "### 2.3 Tích hợp các bảng dữ liệu"
   ]
  },
  {
   "cell_type": "markdown",
   "id": "66297346",
   "metadata": {},
   "source": [
    "**Bảng dữ liệu tương ứng**"
   ]
  },
  {
   "cell_type": "code",
   "execution_count": 20,
   "id": "bacbc760",
   "metadata": {},
   "outputs": [],
   "source": [
    "data1 = pd.DataFrame(\n",
    "    {'date':['01/01/2022','02/01/2022','03/01/2022','04/01/2022','05/01/2022','06/01/2022'],\n",
    "     'air':[22,23,21,36,31,25]\n",
    "    }\n",
    ")"
   ]
  },
  {
   "cell_type": "code",
   "execution_count": 21,
   "id": "5751eed5",
   "metadata": {},
   "outputs": [],
   "source": [
    "data2 = data.drop_duplicates(subset=['date']) # dữ liệu sau khi làm sạch"
   ]
  },
  {
   "cell_type": "code",
   "execution_count": 22,
   "id": "5ff3878a",
   "metadata": {
    "scrolled": true
   },
   "outputs": [
    {
     "data": {
      "text/html": [
       "<div>\n",
       "<style scoped>\n",
       "    .dataframe tbody tr th:only-of-type {\n",
       "        vertical-align: middle;\n",
       "    }\n",
       "\n",
       "    .dataframe tbody tr th {\n",
       "        vertical-align: top;\n",
       "    }\n",
       "\n",
       "    .dataframe thead th {\n",
       "        text-align: right;\n",
       "    }\n",
       "</style>\n",
       "<table border=\"1\" class=\"dataframe\">\n",
       "  <thead>\n",
       "    <tr style=\"text-align: right;\">\n",
       "      <th></th>\n",
       "      <th>date</th>\n",
       "      <th>air</th>\n",
       "    </tr>\n",
       "  </thead>\n",
       "  <tbody>\n",
       "    <tr>\n",
       "      <th>0</th>\n",
       "      <td>01/01/2022</td>\n",
       "      <td>22</td>\n",
       "    </tr>\n",
       "    <tr>\n",
       "      <th>1</th>\n",
       "      <td>02/01/2022</td>\n",
       "      <td>23</td>\n",
       "    </tr>\n",
       "    <tr>\n",
       "      <th>2</th>\n",
       "      <td>03/01/2022</td>\n",
       "      <td>21</td>\n",
       "    </tr>\n",
       "    <tr>\n",
       "      <th>3</th>\n",
       "      <td>04/01/2022</td>\n",
       "      <td>36</td>\n",
       "    </tr>\n",
       "    <tr>\n",
       "      <th>4</th>\n",
       "      <td>05/01/2022</td>\n",
       "      <td>31</td>\n",
       "    </tr>\n",
       "    <tr>\n",
       "      <th>5</th>\n",
       "      <td>06/01/2022</td>\n",
       "      <td>25</td>\n",
       "    </tr>\n",
       "  </tbody>\n",
       "</table>\n",
       "</div>"
      ],
      "text/plain": [
       "         date  air\n",
       "0  01/01/2022   22\n",
       "1  02/01/2022   23\n",
       "2  03/01/2022   21\n",
       "3  04/01/2022   36\n",
       "4  05/01/2022   31\n",
       "5  06/01/2022   25"
      ]
     },
     "execution_count": 22,
     "metadata": {},
     "output_type": "execute_result"
    }
   ],
   "source": [
    "data1"
   ]
  },
  {
   "cell_type": "code",
   "execution_count": 23,
   "id": "4494a41b",
   "metadata": {},
   "outputs": [
    {
     "data": {
      "text/html": [
       "<div>\n",
       "<style scoped>\n",
       "    .dataframe tbody tr th:only-of-type {\n",
       "        vertical-align: middle;\n",
       "    }\n",
       "\n",
       "    .dataframe tbody tr th {\n",
       "        vertical-align: top;\n",
       "    }\n",
       "\n",
       "    .dataframe thead th {\n",
       "        text-align: right;\n",
       "    }\n",
       "</style>\n",
       "<table border=\"1\" class=\"dataframe\">\n",
       "  <thead>\n",
       "    <tr style=\"text-align: right;\">\n",
       "      <th></th>\n",
       "      <th>date</th>\n",
       "      <th>volumes_max</th>\n",
       "      <th>volumes</th>\n",
       "      <th>temperature</th>\n",
       "    </tr>\n",
       "  </thead>\n",
       "  <tbody>\n",
       "    <tr>\n",
       "      <th>0</th>\n",
       "      <td>01/01/2022</td>\n",
       "      <td>120.0</td>\n",
       "      <td>120.0</td>\n",
       "      <td>22.0</td>\n",
       "    </tr>\n",
       "    <tr>\n",
       "      <th>1</th>\n",
       "      <td>02/01/2022</td>\n",
       "      <td>123.0</td>\n",
       "      <td>130.0</td>\n",
       "      <td>23.0</td>\n",
       "    </tr>\n",
       "    <tr>\n",
       "      <th>2</th>\n",
       "      <td>03/01/2022</td>\n",
       "      <td>102.0</td>\n",
       "      <td>102.0</td>\n",
       "      <td>21.0</td>\n",
       "    </tr>\n",
       "    <tr>\n",
       "      <th>3</th>\n",
       "      <td>04/01/2022</td>\n",
       "      <td>NaN</td>\n",
       "      <td>0.0</td>\n",
       "      <td>36.0</td>\n",
       "    </tr>\n",
       "    <tr>\n",
       "      <th>4</th>\n",
       "      <td>05/01/2022</td>\n",
       "      <td>111.0</td>\n",
       "      <td>111.0</td>\n",
       "      <td>NaN</td>\n",
       "    </tr>\n",
       "    <tr>\n",
       "      <th>5</th>\n",
       "      <td>06/01/2022</td>\n",
       "      <td>NaN</td>\n",
       "      <td>0.0</td>\n",
       "      <td>31.0</td>\n",
       "    </tr>\n",
       "  </tbody>\n",
       "</table>\n",
       "</div>"
      ],
      "text/plain": [
       "         date  volumes_max  volumes  temperature\n",
       "0  01/01/2022        120.0    120.0         22.0\n",
       "1  02/01/2022        123.0    130.0         23.0\n",
       "2  03/01/2022        102.0    102.0         21.0\n",
       "3  04/01/2022          NaN      0.0         36.0\n",
       "4  05/01/2022        111.0    111.0          NaN\n",
       "5  06/01/2022          NaN      0.0         31.0"
      ]
     },
     "execution_count": 23,
     "metadata": {},
     "output_type": "execute_result"
    }
   ],
   "source": [
    "data2"
   ]
  },
  {
   "cell_type": "markdown",
   "id": "1d359dbe",
   "metadata": {},
   "source": [
    "#### a. Kết hợp 2 bảng bằng hàm có sẵn\n",
    "\n"
   ]
  },
  {
   "cell_type": "markdown",
   "id": "cfa5a4e6",
   "metadata": {},
   "source": [
    "**Cách 1:**\n",
    "\n",
    "[**pd.merge(right, left, on)**](https://pandas.pydata.org/docs/reference/api/pandas.DataFrame.merge.html)\n",
    "\n",
    "- **right:** Bảng thứ nhất\n",
    "- **left:** Bảng thứ hai\n",
    "- **on(Mặc định là None):** Trong trường hợp là None, kết hợp dựa trên index của hai bảng với nhau. Nếu lựa chọn cột làm điểm chung sẽ kết hợp hai bảng theo cột đó "
   ]
  },
  {
   "cell_type": "code",
   "execution_count": 24,
   "id": "9e79a3be",
   "metadata": {
    "scrolled": false
   },
   "outputs": [
    {
     "data": {
      "text/html": [
       "<div>\n",
       "<style scoped>\n",
       "    .dataframe tbody tr th:only-of-type {\n",
       "        vertical-align: middle;\n",
       "    }\n",
       "\n",
       "    .dataframe tbody tr th {\n",
       "        vertical-align: top;\n",
       "    }\n",
       "\n",
       "    .dataframe thead th {\n",
       "        text-align: right;\n",
       "    }\n",
       "</style>\n",
       "<table border=\"1\" class=\"dataframe\">\n",
       "  <thead>\n",
       "    <tr style=\"text-align: right;\">\n",
       "      <th></th>\n",
       "      <th>date</th>\n",
       "      <th>air</th>\n",
       "      <th>volumes_max</th>\n",
       "      <th>volumes</th>\n",
       "      <th>temperature</th>\n",
       "    </tr>\n",
       "  </thead>\n",
       "  <tbody>\n",
       "    <tr>\n",
       "      <th>0</th>\n",
       "      <td>01/01/2022</td>\n",
       "      <td>22</td>\n",
       "      <td>120.0</td>\n",
       "      <td>120.0</td>\n",
       "      <td>22.0</td>\n",
       "    </tr>\n",
       "    <tr>\n",
       "      <th>1</th>\n",
       "      <td>02/01/2022</td>\n",
       "      <td>23</td>\n",
       "      <td>123.0</td>\n",
       "      <td>130.0</td>\n",
       "      <td>23.0</td>\n",
       "    </tr>\n",
       "    <tr>\n",
       "      <th>2</th>\n",
       "      <td>03/01/2022</td>\n",
       "      <td>21</td>\n",
       "      <td>102.0</td>\n",
       "      <td>102.0</td>\n",
       "      <td>21.0</td>\n",
       "    </tr>\n",
       "    <tr>\n",
       "      <th>3</th>\n",
       "      <td>04/01/2022</td>\n",
       "      <td>36</td>\n",
       "      <td>NaN</td>\n",
       "      <td>0.0</td>\n",
       "      <td>36.0</td>\n",
       "    </tr>\n",
       "    <tr>\n",
       "      <th>4</th>\n",
       "      <td>05/01/2022</td>\n",
       "      <td>31</td>\n",
       "      <td>111.0</td>\n",
       "      <td>111.0</td>\n",
       "      <td>NaN</td>\n",
       "    </tr>\n",
       "    <tr>\n",
       "      <th>5</th>\n",
       "      <td>06/01/2022</td>\n",
       "      <td>25</td>\n",
       "      <td>NaN</td>\n",
       "      <td>0.0</td>\n",
       "      <td>31.0</td>\n",
       "    </tr>\n",
       "  </tbody>\n",
       "</table>\n",
       "</div>"
      ],
      "text/plain": [
       "         date  air  volumes_max  volumes  temperature\n",
       "0  01/01/2022   22        120.0    120.0         22.0\n",
       "1  02/01/2022   23        123.0    130.0         23.0\n",
       "2  03/01/2022   21        102.0    102.0         21.0\n",
       "3  04/01/2022   36          NaN      0.0         36.0\n",
       "4  05/01/2022   31        111.0    111.0          NaN\n",
       "5  06/01/2022   25          NaN      0.0         31.0"
      ]
     },
     "execution_count": 24,
     "metadata": {},
     "output_type": "execute_result"
    }
   ],
   "source": [
    "pd.merge(right = data2,left = data1,on='date')"
   ]
  },
  {
   "cell_type": "markdown",
   "id": "27101c7e",
   "metadata": {},
   "source": [
    "**Cách 1:**\n",
    "\n",
    "[**.join(other, on)**](https://pandas.pydata.org/docs/reference/api/pandas.DataFrame.join.html)\n",
    "\n",
    "- **other:** Là bảng dữ liệu kết hợp với bảng hiện tại\n",
    "- **on(Mặc định là None):** Mô tả tên cột tại bảng hiện tại được kết hợp làm chỉ mục với index của bảng bổ sung"
   ]
  },
  {
   "cell_type": "code",
   "execution_count": 25,
   "id": "3e8d6518",
   "metadata": {},
   "outputs": [
    {
     "data": {
      "text/html": [
       "<div>\n",
       "<style scoped>\n",
       "    .dataframe tbody tr th:only-of-type {\n",
       "        vertical-align: middle;\n",
       "    }\n",
       "\n",
       "    .dataframe tbody tr th {\n",
       "        vertical-align: top;\n",
       "    }\n",
       "\n",
       "    .dataframe thead th {\n",
       "        text-align: right;\n",
       "    }\n",
       "</style>\n",
       "<table border=\"1\" class=\"dataframe\">\n",
       "  <thead>\n",
       "    <tr style=\"text-align: right;\">\n",
       "      <th></th>\n",
       "      <th>date</th>\n",
       "      <th>volumes_max</th>\n",
       "      <th>volumes</th>\n",
       "      <th>temperature</th>\n",
       "      <th>air</th>\n",
       "    </tr>\n",
       "  </thead>\n",
       "  <tbody>\n",
       "    <tr>\n",
       "      <th>0</th>\n",
       "      <td>01/01/2022</td>\n",
       "      <td>120.0</td>\n",
       "      <td>120.0</td>\n",
       "      <td>22.0</td>\n",
       "      <td>22</td>\n",
       "    </tr>\n",
       "    <tr>\n",
       "      <th>1</th>\n",
       "      <td>02/01/2022</td>\n",
       "      <td>123.0</td>\n",
       "      <td>130.0</td>\n",
       "      <td>23.0</td>\n",
       "      <td>23</td>\n",
       "    </tr>\n",
       "    <tr>\n",
       "      <th>2</th>\n",
       "      <td>03/01/2022</td>\n",
       "      <td>102.0</td>\n",
       "      <td>102.0</td>\n",
       "      <td>21.0</td>\n",
       "      <td>21</td>\n",
       "    </tr>\n",
       "    <tr>\n",
       "      <th>3</th>\n",
       "      <td>04/01/2022</td>\n",
       "      <td>NaN</td>\n",
       "      <td>0.0</td>\n",
       "      <td>36.0</td>\n",
       "      <td>36</td>\n",
       "    </tr>\n",
       "    <tr>\n",
       "      <th>4</th>\n",
       "      <td>05/01/2022</td>\n",
       "      <td>111.0</td>\n",
       "      <td>111.0</td>\n",
       "      <td>NaN</td>\n",
       "      <td>31</td>\n",
       "    </tr>\n",
       "    <tr>\n",
       "      <th>5</th>\n",
       "      <td>06/01/2022</td>\n",
       "      <td>NaN</td>\n",
       "      <td>0.0</td>\n",
       "      <td>31.0</td>\n",
       "      <td>25</td>\n",
       "    </tr>\n",
       "  </tbody>\n",
       "</table>\n",
       "</div>"
      ],
      "text/plain": [
       "         date  volumes_max  volumes  temperature  air\n",
       "0  01/01/2022        120.0    120.0         22.0   22\n",
       "1  02/01/2022        123.0    130.0         23.0   23\n",
       "2  03/01/2022        102.0    102.0         21.0   21\n",
       "3  04/01/2022          NaN      0.0         36.0   36\n",
       "4  05/01/2022        111.0    111.0          NaN   31\n",
       "5  06/01/2022          NaN      0.0         31.0   25"
      ]
     },
     "execution_count": 25,
     "metadata": {},
     "output_type": "execute_result"
    }
   ],
   "source": [
    "data2.join(data1.set_index('date'),on='date')"
   ]
  },
  {
   "cell_type": "markdown",
   "id": "e0e08f9e",
   "metadata": {},
   "source": [
    "#### b. Truy vấn SQL giữa các bảng"
   ]
  },
  {
   "cell_type": "code",
   "execution_count": 26,
   "id": "068fbdd9",
   "metadata": {},
   "outputs": [],
   "source": [
    "# Thực hành"
   ]
  },
  {
   "cell_type": "markdown",
   "id": "7900fac2",
   "metadata": {},
   "source": [
    "## 3. Ví dụ khác"
   ]
  },
  {
   "cell_type": "code",
   "execution_count": 27,
   "id": "ae47c63f",
   "metadata": {},
   "outputs": [],
   "source": [
    "data = pd.DataFrame(\n",
    "    {\n",
    "        'MSV':['A43471','40401','A39380','A38843','A41131','A30426','A30479','A33541','A30012','A31111','A42356','A43321','A35614','40401'],\n",
    "         'DiemQT':[1,7,6,7,5,10,6,7,9,5,1,None,8,6],\n",
    "        'GioiTinh':['Nam','Nam','Nu','Nam','Nu','Nam','Nam','Nam',0,1,1,0,1,0]\n",
    "    }\n",
    ")"
   ]
  },
  {
   "cell_type": "code",
   "execution_count": 28,
   "id": "afd08880",
   "metadata": {},
   "outputs": [
    {
     "data": {
      "text/html": [
       "<div>\n",
       "<style scoped>\n",
       "    .dataframe tbody tr th:only-of-type {\n",
       "        vertical-align: middle;\n",
       "    }\n",
       "\n",
       "    .dataframe tbody tr th {\n",
       "        vertical-align: top;\n",
       "    }\n",
       "\n",
       "    .dataframe thead th {\n",
       "        text-align: right;\n",
       "    }\n",
       "</style>\n",
       "<table border=\"1\" class=\"dataframe\">\n",
       "  <thead>\n",
       "    <tr style=\"text-align: right;\">\n",
       "      <th></th>\n",
       "      <th>MSV</th>\n",
       "      <th>DiemQT</th>\n",
       "      <th>GioiTinh</th>\n",
       "    </tr>\n",
       "  </thead>\n",
       "  <tbody>\n",
       "    <tr>\n",
       "      <th>0</th>\n",
       "      <td>A43471</td>\n",
       "      <td>1.0</td>\n",
       "      <td>Nam</td>\n",
       "    </tr>\n",
       "    <tr>\n",
       "      <th>1</th>\n",
       "      <td>40401</td>\n",
       "      <td>7.0</td>\n",
       "      <td>Nam</td>\n",
       "    </tr>\n",
       "    <tr>\n",
       "      <th>2</th>\n",
       "      <td>A39380</td>\n",
       "      <td>6.0</td>\n",
       "      <td>Nu</td>\n",
       "    </tr>\n",
       "    <tr>\n",
       "      <th>3</th>\n",
       "      <td>A38843</td>\n",
       "      <td>7.0</td>\n",
       "      <td>Nam</td>\n",
       "    </tr>\n",
       "    <tr>\n",
       "      <th>4</th>\n",
       "      <td>A41131</td>\n",
       "      <td>5.0</td>\n",
       "      <td>Nu</td>\n",
       "    </tr>\n",
       "    <tr>\n",
       "      <th>5</th>\n",
       "      <td>A30426</td>\n",
       "      <td>10.0</td>\n",
       "      <td>Nam</td>\n",
       "    </tr>\n",
       "    <tr>\n",
       "      <th>6</th>\n",
       "      <td>A30479</td>\n",
       "      <td>6.0</td>\n",
       "      <td>Nam</td>\n",
       "    </tr>\n",
       "    <tr>\n",
       "      <th>7</th>\n",
       "      <td>A33541</td>\n",
       "      <td>7.0</td>\n",
       "      <td>Nam</td>\n",
       "    </tr>\n",
       "    <tr>\n",
       "      <th>8</th>\n",
       "      <td>A30012</td>\n",
       "      <td>9.0</td>\n",
       "      <td>0</td>\n",
       "    </tr>\n",
       "    <tr>\n",
       "      <th>9</th>\n",
       "      <td>A31111</td>\n",
       "      <td>5.0</td>\n",
       "      <td>1</td>\n",
       "    </tr>\n",
       "    <tr>\n",
       "      <th>10</th>\n",
       "      <td>A42356</td>\n",
       "      <td>1.0</td>\n",
       "      <td>1</td>\n",
       "    </tr>\n",
       "    <tr>\n",
       "      <th>11</th>\n",
       "      <td>A43321</td>\n",
       "      <td>NaN</td>\n",
       "      <td>0</td>\n",
       "    </tr>\n",
       "    <tr>\n",
       "      <th>12</th>\n",
       "      <td>A35614</td>\n",
       "      <td>8.0</td>\n",
       "      <td>1</td>\n",
       "    </tr>\n",
       "    <tr>\n",
       "      <th>13</th>\n",
       "      <td>40401</td>\n",
       "      <td>6.0</td>\n",
       "      <td>0</td>\n",
       "    </tr>\n",
       "  </tbody>\n",
       "</table>\n",
       "</div>"
      ],
      "text/plain": [
       "       MSV  DiemQT GioiTinh\n",
       "0   A43471     1.0      Nam\n",
       "1    40401     7.0      Nam\n",
       "2   A39380     6.0       Nu\n",
       "3   A38843     7.0      Nam\n",
       "4   A41131     5.0       Nu\n",
       "5   A30426    10.0      Nam\n",
       "6   A30479     6.0      Nam\n",
       "7   A33541     7.0      Nam\n",
       "8   A30012     9.0        0\n",
       "9   A31111     5.0        1\n",
       "10  A42356     1.0        1\n",
       "11  A43321     NaN        0\n",
       "12  A35614     8.0        1\n",
       "13   40401     6.0        0"
      ]
     },
     "execution_count": 28,
     "metadata": {},
     "output_type": "execute_result"
    }
   ],
   "source": [
    "data"
   ]
  },
  {
   "cell_type": "code",
   "execution_count": 29,
   "id": "8ba18a4b",
   "metadata": {
    "scrolled": true
   },
   "outputs": [
    {
     "data": {
      "text/plain": [
       "MSV          object\n",
       "DiemQT      float64\n",
       "GioiTinh     object\n",
       "dtype: object"
      ]
     },
     "execution_count": 29,
     "metadata": {},
     "output_type": "execute_result"
    }
   ],
   "source": [
    "data.dtypes"
   ]
  },
  {
   "cell_type": "markdown",
   "id": "c32bafc6",
   "metadata": {},
   "source": [
    "### 3.1 Xử lý bất đồng bộ"
   ]
  },
  {
   "cell_type": "code",
   "execution_count": 30,
   "id": "ea80f1d0",
   "metadata": {
    "scrolled": true
   },
   "outputs": [
    {
     "data": {
      "text/plain": [
       "Nam    6\n",
       "0      3\n",
       "1      3\n",
       "Nu     2\n",
       "Name: GioiTinh, dtype: int64"
      ]
     },
     "execution_count": 30,
     "metadata": {},
     "output_type": "execute_result"
    }
   ],
   "source": [
    "data['GioiTinh'].value_counts()"
   ]
  },
  {
   "cell_type": "code",
   "execution_count": 31,
   "id": "570ababd",
   "metadata": {},
   "outputs": [
    {
     "data": {
      "text/plain": [
       "8     0\n",
       "11    0\n",
       "13    0\n",
       "Name: GioiTinh, dtype: object"
      ]
     },
     "execution_count": 31,
     "metadata": {},
     "output_type": "execute_result"
    }
   ],
   "source": [
    "data[data['GioiTinh']==0]['GioiTinh']"
   ]
  },
  {
   "cell_type": "code",
   "execution_count": 32,
   "id": "82882ef9",
   "metadata": {},
   "outputs": [],
   "source": [
    "data['GioiTinh']= data['GioiTinh'].replace(0,'Nu')"
   ]
  },
  {
   "cell_type": "code",
   "execution_count": 33,
   "id": "a430c98f",
   "metadata": {},
   "outputs": [
    {
     "data": {
      "text/html": [
       "<div>\n",
       "<style scoped>\n",
       "    .dataframe tbody tr th:only-of-type {\n",
       "        vertical-align: middle;\n",
       "    }\n",
       "\n",
       "    .dataframe tbody tr th {\n",
       "        vertical-align: top;\n",
       "    }\n",
       "\n",
       "    .dataframe thead th {\n",
       "        text-align: right;\n",
       "    }\n",
       "</style>\n",
       "<table border=\"1\" class=\"dataframe\">\n",
       "  <thead>\n",
       "    <tr style=\"text-align: right;\">\n",
       "      <th></th>\n",
       "      <th>MSV</th>\n",
       "      <th>DiemQT</th>\n",
       "      <th>GioiTinh</th>\n",
       "    </tr>\n",
       "  </thead>\n",
       "  <tbody>\n",
       "    <tr>\n",
       "      <th>0</th>\n",
       "      <td>A43471</td>\n",
       "      <td>1.0</td>\n",
       "      <td>Nam</td>\n",
       "    </tr>\n",
       "    <tr>\n",
       "      <th>1</th>\n",
       "      <td>40401</td>\n",
       "      <td>7.0</td>\n",
       "      <td>Nam</td>\n",
       "    </tr>\n",
       "    <tr>\n",
       "      <th>2</th>\n",
       "      <td>A39380</td>\n",
       "      <td>6.0</td>\n",
       "      <td>Nu</td>\n",
       "    </tr>\n",
       "    <tr>\n",
       "      <th>3</th>\n",
       "      <td>A38843</td>\n",
       "      <td>7.0</td>\n",
       "      <td>Nam</td>\n",
       "    </tr>\n",
       "    <tr>\n",
       "      <th>4</th>\n",
       "      <td>A41131</td>\n",
       "      <td>5.0</td>\n",
       "      <td>Nu</td>\n",
       "    </tr>\n",
       "    <tr>\n",
       "      <th>5</th>\n",
       "      <td>A30426</td>\n",
       "      <td>10.0</td>\n",
       "      <td>Nam</td>\n",
       "    </tr>\n",
       "    <tr>\n",
       "      <th>6</th>\n",
       "      <td>A30479</td>\n",
       "      <td>6.0</td>\n",
       "      <td>Nam</td>\n",
       "    </tr>\n",
       "    <tr>\n",
       "      <th>7</th>\n",
       "      <td>A33541</td>\n",
       "      <td>7.0</td>\n",
       "      <td>Nam</td>\n",
       "    </tr>\n",
       "    <tr>\n",
       "      <th>8</th>\n",
       "      <td>A30012</td>\n",
       "      <td>9.0</td>\n",
       "      <td>Nu</td>\n",
       "    </tr>\n",
       "    <tr>\n",
       "      <th>9</th>\n",
       "      <td>A31111</td>\n",
       "      <td>5.0</td>\n",
       "      <td>1</td>\n",
       "    </tr>\n",
       "    <tr>\n",
       "      <th>10</th>\n",
       "      <td>A42356</td>\n",
       "      <td>1.0</td>\n",
       "      <td>1</td>\n",
       "    </tr>\n",
       "    <tr>\n",
       "      <th>11</th>\n",
       "      <td>A43321</td>\n",
       "      <td>NaN</td>\n",
       "      <td>Nu</td>\n",
       "    </tr>\n",
       "    <tr>\n",
       "      <th>12</th>\n",
       "      <td>A35614</td>\n",
       "      <td>8.0</td>\n",
       "      <td>1</td>\n",
       "    </tr>\n",
       "    <tr>\n",
       "      <th>13</th>\n",
       "      <td>40401</td>\n",
       "      <td>6.0</td>\n",
       "      <td>Nu</td>\n",
       "    </tr>\n",
       "  </tbody>\n",
       "</table>\n",
       "</div>"
      ],
      "text/plain": [
       "       MSV  DiemQT GioiTinh\n",
       "0   A43471     1.0      Nam\n",
       "1    40401     7.0      Nam\n",
       "2   A39380     6.0       Nu\n",
       "3   A38843     7.0      Nam\n",
       "4   A41131     5.0       Nu\n",
       "5   A30426    10.0      Nam\n",
       "6   A30479     6.0      Nam\n",
       "7   A33541     7.0      Nam\n",
       "8   A30012     9.0       Nu\n",
       "9   A31111     5.0        1\n",
       "10  A42356     1.0        1\n",
       "11  A43321     NaN       Nu\n",
       "12  A35614     8.0        1\n",
       "13   40401     6.0       Nu"
      ]
     },
     "execution_count": 33,
     "metadata": {},
     "output_type": "execute_result"
    }
   ],
   "source": [
    "data"
   ]
  }
 ],
 "metadata": {
  "kernelspec": {
   "display_name": "Python 3 (ipykernel)",
   "language": "python",
   "name": "python3"
  },
  "language_info": {
   "codemirror_mode": {
    "name": "ipython",
    "version": 3
   },
   "file_extension": ".py",
   "mimetype": "text/x-python",
   "name": "python",
   "nbconvert_exporter": "python",
   "pygments_lexer": "ipython3",
   "version": "3.9.12"
  }
 },
 "nbformat": 4,
 "nbformat_minor": 5
}
