{
 "cells": [
  {
   "cell_type": "code",
   "execution_count": 2,
   "id": "141858e6",
   "metadata": {},
   "outputs": [],
   "source": [
    "import numpy as np"
   ]
  },
  {
   "cell_type": "code",
   "execution_count": 2,
   "id": "71ed3147",
   "metadata": {},
   "outputs": [],
   "source": [
    "x = np.array([12,13,14,21,17,20,99,1,15,23])"
   ]
  },
  {
   "cell_type": "code",
   "execution_count": 6,
   "id": "3df05b99",
   "metadata": {},
   "outputs": [
    {
     "data": {
      "text/plain": [
       "16.0"
      ]
     },
     "execution_count": 6,
     "metadata": {},
     "output_type": "execute_result"
    }
   ],
   "source": [
    "#Trung vi\n",
    "np.median(x)"
   ]
  },
  {
   "cell_type": "code",
   "execution_count": 10,
   "id": "429ef9b3",
   "metadata": {},
   "outputs": [
    {
     "data": {
      "text/plain": [
       "23.5"
      ]
     },
     "execution_count": 10,
     "metadata": {},
     "output_type": "execute_result"
    }
   ],
   "source": [
    "#Kỳ vọng\n",
    "np.mean(x)"
   ]
  },
  {
   "cell_type": "code",
   "execution_count": 12,
   "id": "e726d2d9",
   "metadata": {},
   "outputs": [
    {
     "data": {
      "text/plain": [
       "667.25"
      ]
     },
     "execution_count": 12,
     "metadata": {},
     "output_type": "execute_result"
    }
   ],
   "source": [
    "#Phuong sai\n",
    "np.var(x)"
   ]
  },
  {
   "cell_type": "code",
   "execution_count": 22,
   "id": "655f9f70",
   "metadata": {},
   "outputs": [
    {
     "data": {
      "text/plain": [
       "25.83118270617898"
      ]
     },
     "execution_count": 22,
     "metadata": {},
     "output_type": "execute_result"
    }
   ],
   "source": [
    "#Độ lệch chuẩn\n",
    "np.std(x)"
   ]
  },
  {
   "cell_type": "code",
   "execution_count": 3,
   "id": "7cb6479d",
   "metadata": {},
   "outputs": [],
   "source": [
    "x = np.array([12,13,14,21,17,20,1,15,23])"
   ]
  },
  {
   "cell_type": "code",
   "execution_count": 4,
   "id": "8fda769a",
   "metadata": {},
   "outputs": [
    {
     "data": {
      "text/plain": [
       "15.11111111111111"
      ]
     },
     "execution_count": 4,
     "metadata": {},
     "output_type": "execute_result"
    }
   ],
   "source": [
    "#Kỳ vọng\n",
    "np.mean(x)"
   ]
  },
  {
   "cell_type": "code",
   "execution_count": 5,
   "id": "6c70e44d",
   "metadata": {},
   "outputs": [
    {
     "data": {
      "text/plain": [
       "37.65432098765432"
      ]
     },
     "execution_count": 5,
     "metadata": {},
     "output_type": "execute_result"
    }
   ],
   "source": [
    "#Phuong sai\n",
    "np.var(x)"
   ]
  },
  {
   "cell_type": "code",
   "execution_count": 6,
   "id": "9bbe79c7",
   "metadata": {},
   "outputs": [
    {
     "data": {
      "text/plain": [
       "6.136311676215145"
      ]
     },
     "execution_count": 6,
     "metadata": {},
     "output_type": "execute_result"
    }
   ],
   "source": [
    "np.std(x)"
   ]
  },
  {
   "cell_type": "code",
   "execution_count": 7,
   "id": "456710ab",
   "metadata": {},
   "outputs": [
    {
     "data": {
      "text/plain": [
       "15.0"
      ]
     },
     "execution_count": 7,
     "metadata": {},
     "output_type": "execute_result"
    }
   ],
   "source": [
    "#Trung vi\n",
    "np.median(x)"
   ]
  },
  {
   "cell_type": "code",
   "execution_count": null,
   "id": "c2fdba65",
   "metadata": {},
   "outputs": [],
   "source": []
  }
 ],
 "metadata": {
  "kernelspec": {
   "display_name": "Python 3 (ipykernel)",
   "language": "python",
   "name": "python3"
  },
  "language_info": {
   "codemirror_mode": {
    "name": "ipython",
    "version": 3
   },
   "file_extension": ".py",
   "mimetype": "text/x-python",
   "name": "python",
   "nbconvert_exporter": "python",
   "pygments_lexer": "ipython3",
   "version": "3.9.12"
  }
 },
 "nbformat": 4,
 "nbformat_minor": 5
}
