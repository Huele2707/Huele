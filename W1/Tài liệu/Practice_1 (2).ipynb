{
 "cells": [
  {
   "cell_type": "markdown",
   "id": "f1c6ca85",
   "metadata": {},
   "source": [
    "# Hướng dẫn thực hành tuần 1 - Introduction to Data Science\n"
   ]
  },
  {
   "cell_type": "markdown",
   "id": "cac7de70",
   "metadata": {},
   "source": [
    "## 0. Thêm thư viện"
   ]
  },
  {
   "cell_type": "code",
   "execution_count": null,
   "id": "21a24765",
   "metadata": {},
   "outputs": [],
   "source": [
    "import requests\n",
    "import os\n",
    "import pandas as pd\n",
    "import time\n",
    "from selenium import webdriver\n",
    "from selenium.webdriver.common.by import By\n",
    "from webdriver_manager.chrome import ChromeDriverManager\n",
    "import sqlite3"
   ]
  },
  {
   "cell_type": "markdown",
   "id": "4beeea82",
   "metadata": {},
   "source": [
    "**Mô tả về các thư viện sử dụng**\n",
    "\n",
    "Các bạn có thể truy cập vào link hướng dẫn của các thư viên\n",
    "\n",
    "- **[requests](https://requests.readthedocs.io/en/latest/)**: Là thư viện hỗ trợ tương tác đến API để thực hiện thao tác cào dữ liệu\n",
    "- **[os](https://docs.python.org/3/library/os.html)**: Là thư viện để tương tác, hoạt động với interfaces của hệ thống.\n",
    "- **[pandas](https://pandas.pydata.org/docs/)**: Là thư viện sử dụng để đọc dữ liệu và xử lý dữ liệu liên quan đến công việc\n",
    "- **[selenium](https://selenium-python.readthedocs.io/)**: Truy cập và tương tác với trang web thông qua HTML.\n",
    "- **[sqlite3](https://docs.python.org/3/library/sqlite3.html)**: Khởi tạo và xử lý các vấn đề liên quan đến CSDL\n"
   ]
  },
  {
   "cell_type": "markdown",
   "id": "5aef2d31",
   "metadata": {},
   "source": [
    "## 1. Thu thập dữ liệu"
   ]
  },
  {
   "cell_type": "markdown",
   "id": "cb1d3837",
   "metadata": {},
   "source": [
    "### 1.1 Dữ liệu từ API"
   ]
  },
  {
   "cell_type": "markdown",
   "id": "ba00aabd",
   "metadata": {},
   "source": [
    "#### a. Truy cập dữ liệu"
   ]
  },
  {
   "cell_type": "code",
   "execution_count": null,
   "id": "ac4febd4",
   "metadata": {},
   "outputs": [],
   "source": [
    "url = 'https://api.publicapis.org/entries' #Link API"
   ]
  },
  {
   "cell_type": "code",
   "execution_count": null,
   "id": "e73880bc",
   "metadata": {},
   "outputs": [],
   "source": [
    "request = requests.get(url) #Lấy thông tin từ API cần truy cập"
   ]
  },
  {
   "cell_type": "code",
   "execution_count": null,
   "id": "7c912b6f",
   "metadata": {
    "scrolled": true
   },
   "outputs": [],
   "source": [
    "#Kiểm tra kết quả truy cập\n",
    "if request.status_code == 200:\n",
    "    print(\"Truy cập thành công\")\n",
    "else:\n",
    "    print(request.status_code)"
   ]
  },
  {
   "cell_type": "code",
   "execution_count": null,
   "id": "da6f06cd",
   "metadata": {},
   "outputs": [],
   "source": [
    "request.text #Đọc dữ liệu dưới dạng text"
   ]
  },
  {
   "cell_type": "code",
   "execution_count": null,
   "id": "bc433bf8",
   "metadata": {
    "scrolled": true
   },
   "outputs": [],
   "source": [
    "data = request.json() #Đọc dữ liệu dưới dạng json (Kiểu dict trong python)\n",
    "print(data)"
   ]
  },
  {
   "cell_type": "markdown",
   "id": "43ece693",
   "metadata": {},
   "source": [
    "**Ví dụ về cách lưu trữ của kiểu dict**\n",
    "![Example_Dict](./dict.png \"Dictionary in Python\")"
   ]
  },
  {
   "cell_type": "code",
   "execution_count": null,
   "id": "b9c96382",
   "metadata": {},
   "outputs": [],
   "source": [
    "data.keys() # Kiểm tra các key tồn tại trong data"
   ]
  },
  {
   "cell_type": "code",
   "execution_count": null,
   "id": "e028758b",
   "metadata": {},
   "outputs": [],
   "source": [
    "data['count'] # Kiểm tra giá trị data vs key là count"
   ]
  },
  {
   "cell_type": "code",
   "execution_count": null,
   "id": "d8fa9377",
   "metadata": {},
   "outputs": [],
   "source": [
    "data['entries'] # Kiểm tra nội dung data vs key là entries"
   ]
  },
  {
   "cell_type": "code",
   "execution_count": null,
   "id": "56567f3c",
   "metadata": {},
   "outputs": [],
   "source": [
    "type(data['entries']) # Kiểm tra kiểu dữ liệu của giá trị data['entries'] "
   ]
  },
  {
   "cell_type": "code",
   "execution_count": null,
   "id": "46224b4e",
   "metadata": {},
   "outputs": [],
   "source": [
    "len(data['entries']) # Kiểm tra kích thước dữ liệu của giá trị data['entries'] "
   ]
  },
  {
   "cell_type": "markdown",
   "id": "7518f824",
   "metadata": {},
   "source": [
    "#### b. Lưu dữ liệu dưới dạng CSV"
   ]
  },
  {
   "cell_type": "markdown",
   "id": "3ec2f03d",
   "metadata": {},
   "source": [
    "**Mục tiêu:** Chuyển dữ liệu từ một mảng với nhiều phần tử dict -> kiểu dữ liệu DataFrames -> Thực hiện lưu thành file dữ liệu \"data.csv\""
   ]
  },
  {
   "cell_type": "code",
   "execution_count": null,
   "id": "b27f46c7",
   "metadata": {},
   "outputs": [],
   "source": [
    "df = pd.DataFrame(data['entries']) # Chuyển từ dữ liệu từ mảng dict sang DataFrames"
   ]
  },
  {
   "cell_type": "code",
   "execution_count": null,
   "id": "53ec4ae7",
   "metadata": {},
   "outputs": [],
   "source": [
    "df"
   ]
  },
  {
   "cell_type": "code",
   "execution_count": null,
   "id": "e4eae4d4",
   "metadata": {},
   "outputs": [],
   "source": [
    "df.to_csv('./data.csv',index=False) #Lưu xuống thành file \"data.csv\"."
   ]
  },
  {
   "cell_type": "markdown",
   "id": "c6267b68",
   "metadata": {},
   "source": [
    "### 1.2 Tải dữ liệu trực tiếp thông qua HTML"
   ]
  },
  {
   "cell_type": "markdown",
   "id": "f4867705",
   "metadata": {},
   "source": [
    "**Mục tiêu:** Tìm bảng dữ liệu trên 1 trang bất kỳ. Đọc thông tin từ bảng và chuyển thành kiểu dữ liệu DataFrame"
   ]
  },
  {
   "cell_type": "code",
   "execution_count": null,
   "id": "46aeed04",
   "metadata": {},
   "outputs": [],
   "source": [
    "url_fb = \"https://www.tutorialrepublic.com/sql-tutorial/sql-dates-and-times.php\"\n",
    "\n",
    "driver = webdriver.Chrome(ChromeDriverManager().install()) # Mở trình duyệt\n",
    "\n",
    "driver.get(url_fb) # Truy cập đường link\n",
    "\n",
    "# driver.page_source lấy toàn bộ thông tin html của trang\n",
    "\n",
    "data = pd.read_html(driver.page_source) # Lấy các bảng dữ liệu xuất hiện trong bảng và chuyển thành DataFrame\n",
    "\n",
    "print(data[0]) #Hiển thị thông tin bảng thứ nhất\n",
    "\n",
    "print('Driver Title:',driver.title)\n",
    "print('Driver URL:',driver.current_url)\n",
    "\n",
    "driver.implicitly_wait(10)\n",
    "driver.close() # Kết thúc đóng trình duyệt\n"
   ]
  },
  {
   "cell_type": "markdown",
   "id": "9a273462",
   "metadata": {},
   "source": [
    "## 2. Đọc dữ liệu"
   ]
  },
  {
   "cell_type": "markdown",
   "id": "ef400e58",
   "metadata": {},
   "source": [
    "### 2.1 File .csv"
   ]
  },
  {
   "cell_type": "markdown",
   "id": "a25dd312",
   "metadata": {},
   "source": [
    "**[pd.read_csv](https://pandas.pydata.org/docs/reference/api/pandas.read_csv.html)** (filepath_or_buffer, sep,skipinitialspace)\n",
    "\n",
    "- **filepath_or_buffer**: Đường dẫn\n",
    "- **sep**: Dấu ngăn cách\n",
    "- **skipinitialspace**: Bỏ khoảng trắng sau dấu ngăn cách"
   ]
  },
  {
   "cell_type": "code",
   "execution_count": null,
   "id": "a56b6a7b",
   "metadata": {},
   "outputs": [],
   "source": [
    "df = pd.read_csv(\"./data.csv\") # đọc dữ liệu"
   ]
  },
  {
   "cell_type": "code",
   "execution_count": null,
   "id": "109e8eaf",
   "metadata": {},
   "outputs": [],
   "source": [
    "df"
   ]
  },
  {
   "cell_type": "code",
   "execution_count": null,
   "id": "804f36c4",
   "metadata": {},
   "outputs": [],
   "source": [
    "df.head(5) #hiển thị 5 dòng đầu tiên"
   ]
  },
  {
   "cell_type": "code",
   "execution_count": null,
   "id": "d55586f0",
   "metadata": {},
   "outputs": [],
   "source": [
    "df.tail(5) #hiển thị 5 dòng đầu cuối"
   ]
  },
  {
   "cell_type": "markdown",
   "id": "f87b710f",
   "metadata": {},
   "source": [
    "### 2.2 Cơ sở dữ liệu SQL"
   ]
  },
  {
   "cell_type": "markdown",
   "id": "3248b683",
   "metadata": {},
   "source": [
    "**Khởi tạo cơ sở dữ liệu**"
   ]
  },
  {
   "cell_type": "code",
   "execution_count": null,
   "id": "f580f376",
   "metadata": {},
   "outputs": [],
   "source": [
    "\n",
    "con = sqlite3.connect('DS_database') \n",
    "cur = con.cursor()\n",
    "\n",
    "cur.execute('''CREATE TABLE IF NOT EXISTS KIMDUNG\n",
    "          ([id] INTEGER PRIMARY KEY, \n",
    "           [name] TEXT, \n",
    "           [money] INTEGER)''')\n",
    "\n",
    "cur.execute('''INSERT INTO KIMDUNG (id, name, money)\n",
    "                VALUES (1,'Doc Co Cau Bai',25000),\n",
    "                (2,'Bac Kieu Phong',20000),\n",
    "                (3,'Nam Mo Dung',15000),\n",
    "                (4,'Truong Vo Ky',15000),\n",
    "                (5,'Vo Danh Than Tang',28000)''') \n",
    "\n",
    "con.commit()"
   ]
  },
  {
   "cell_type": "markdown",
   "id": "ec684e6e",
   "metadata": {},
   "source": [
    "**Tạo câu truy vấn**"
   ]
  },
  {
   "cell_type": "code",
   "execution_count": null,
   "id": "fb7aabcc",
   "metadata": {},
   "outputs": [],
   "source": [
    "sql_query = 'SELECT * FROM KIMDUNG'"
   ]
  },
  {
   "cell_type": "markdown",
   "id": "61d3571e",
   "metadata": {},
   "source": [
    "**Truy vấn đến cơ sở dữ liệu**\n",
    "\n"
   ]
  },
  {
   "cell_type": "markdown",
   "id": "885fcb6d",
   "metadata": {},
   "source": [
    "**[pd.read_sql()](https://pandas.pydata.org/docs/reference/api/pandas.read_sql.html)** (**sql**,**con**):\n",
    "- **sql:** Câu lệnh truy vấn SQL hoặc tên bảng\n",
    "- **con:** Cơ sở dữ liệu"
   ]
  },
  {
   "cell_type": "code",
   "execution_count": null,
   "id": "c6c1b19b",
   "metadata": {},
   "outputs": [],
   "source": [
    "df = pd.read_sql(sql_query, con)"
   ]
  },
  {
   "cell_type": "code",
   "execution_count": null,
   "id": "73e5dbfe",
   "metadata": {
    "scrolled": true
   },
   "outputs": [],
   "source": [
    "df"
   ]
  },
  {
   "cell_type": "markdown",
   "id": "0d8650b2",
   "metadata": {},
   "source": [
    "**Ví dụ truy vấn: Lấy ra người có mức lương > 20000**"
   ]
  },
  {
   "cell_type": "markdown",
   "id": "fbb2782f",
   "metadata": {},
   "source": [
    "**[pd.read_sql_query()](https://pandas.pydata.org/docs/reference/api/pandas.read_sql_query.html) (sql,con):**\n",
    "- **sql:** Câu lệnh truy vấn SQL\n",
    "- **con:** Cơ sở dữ liệu"
   ]
  },
  {
   "cell_type": "code",
   "execution_count": null,
   "id": "84222f1e",
   "metadata": {},
   "outputs": [],
   "source": [
    "sql_query = pd.read_sql_query('''SELECT * FROM KIMDUNG where money > 20000''', con)"
   ]
  },
  {
   "cell_type": "code",
   "execution_count": null,
   "id": "53547de3",
   "metadata": {},
   "outputs": [],
   "source": [
    "sql_query"
   ]
  }
 ],
 "metadata": {
  "kernelspec": {
   "display_name": "Python 3 (ipykernel)",
   "language": "python",
   "name": "python3"
  },
  "language_info": {
   "codemirror_mode": {
    "name": "ipython",
    "version": 3
   },
   "file_extension": ".py",
   "mimetype": "text/x-python",
   "name": "python",
   "nbconvert_exporter": "python",
   "pygments_lexer": "ipython3",
   "version": "3.9.7"
  }
 },
 "nbformat": 4,
 "nbformat_minor": 5
}
