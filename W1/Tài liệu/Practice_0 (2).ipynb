{
 "cells": [
  {
   "cell_type": "markdown",
   "id": "972d6235",
   "metadata": {},
   "source": [
    "# Hướng dẫn thực hành Python - Introduction to Data Science\n",
    "\n"
   ]
  },
  {
   "cell_type": "markdown",
   "id": "e2caa659",
   "metadata": {},
   "source": [
    "**Hướng dẫn cơ bản:**\n",
    "\n",
    "- Hướng dẫn sử dụng\n",
    "- Lập trình cơ bản về:\n",
    "\n",
    "    + Biến\n",
    "    + Vòng lặp\n",
    "    + Hàm\n",
    "    + Đọc file, ghi file"
   ]
  },
  {
   "cell_type": "markdown",
   "id": "0e6cf571",
   "metadata": {},
   "source": [
    "## 1. Hướng dẫn sử dụng\n",
    "\n",
    "- Một ô được gọi là 1 cell, một cell có thể gồm 2 loại chính là:\n",
    "    + Markdown: Text, mô tả, chú thích,..\n",
    "    + Code: Chứa các câu lệnh python\n",
    "\n",
    "- Thực hiện chạy một dòng code: (shift + enter) hoặc nút **Run** ở trên thanh công cụ\n",
    "- Thêm 1 cell mới: B + B\n",
    "- Xóa một cell: D + D\n",
    "\n",
    "**Lưu ý:** Sau khi thực hiện chạy một dòng cell, dữ liệu và thông tin của dòng đó sẽ được lưu trữ lại trong bộ nhớ của máy. Vì thế ta cần chú ý thứ tự chạy. Có thể chạy lại bằng cách chọn Kernel -> Restart\n",
    "\n",
    "- Để dừng câu lệnh đang chạy mà không reset chương trình(Vòng lặp vô hạn, chạy sai nhưng chưa xong kết quả): Kernel -> Interrupt\n",
    "\n",
    "**Chú ý save file cẩn thận**"
   ]
  },
  {
   "cell_type": "markdown",
   "id": "0dcbdf00",
   "metadata": {},
   "source": [
    "## 2. Lập trình cơ bản python\n",
    "\n"
   ]
  },
  {
   "cell_type": "markdown",
   "id": "0511e54c",
   "metadata": {},
   "source": [
    "### a. Biến\n",
    "Biến trong python có khả năng tự lựa chọn kiểu dữ liệu tùy thuộc vào giá trị"
   ]
  },
  {
   "cell_type": "code",
   "execution_count": 2,
   "id": "c0ba3153",
   "metadata": {},
   "outputs": [],
   "source": [
    "a = 123 # Kiểu integer\n",
    "b = \"123\" #Kiểu string\n",
    "c = 1.23 #Kiểu float"
   ]
  },
  {
   "cell_type": "markdown",
   "id": "4abf3b72",
   "metadata": {},
   "source": [
    "In ra kết quả"
   ]
  },
  {
   "cell_type": "code",
   "execution_count": 3,
   "id": "2939c1a5",
   "metadata": {},
   "outputs": [
    {
     "name": "stdout",
     "output_type": "stream",
     "text": [
      "123\n"
     ]
    }
   ],
   "source": [
    "print(a)"
   ]
  },
  {
   "cell_type": "markdown",
   "id": "b836f81d",
   "metadata": {},
   "source": [
    "Trong jupyter có thể hiện thị biến bằng cách khác"
   ]
  },
  {
   "cell_type": "code",
   "execution_count": 4,
   "id": "30db3681",
   "metadata": {},
   "outputs": [
    {
     "data": {
      "text/plain": [
       "'123'"
      ]
     },
     "execution_count": 4,
     "metadata": {},
     "output_type": "execute_result"
    }
   ],
   "source": [
    "b"
   ]
  },
  {
   "cell_type": "code",
   "execution_count": 5,
   "id": "670185e6",
   "metadata": {},
   "outputs": [
    {
     "data": {
      "text/plain": [
       "1.23"
      ]
     },
     "execution_count": 5,
     "metadata": {},
     "output_type": "execute_result"
    }
   ],
   "source": [
    "c"
   ]
  },
  {
   "cell_type": "markdown",
   "id": "f9c383ef",
   "metadata": {},
   "source": [
    "### b. Câu điều kiện"
   ]
  },
  {
   "cell_type": "code",
   "execution_count": 6,
   "id": "ef85d6e9",
   "metadata": {},
   "outputs": [
    {
     "name": "stdout",
     "output_type": "stream",
     "text": [
      "123\n"
     ]
    }
   ],
   "source": [
    "if a==123:\n",
    "    print(a)\n",
    "else:\n",
    "    print(b)"
   ]
  },
  {
   "cell_type": "code",
   "execution_count": 8,
   "id": "6c1169b9",
   "metadata": {},
   "outputs": [
    {
     "name": "stdout",
     "output_type": "stream",
     "text": [
      "1.23\n"
     ]
    }
   ],
   "source": [
    "if a==12:\n",
    "    print(a)\n",
    "elif b=='124':\n",
    "    print(b)\n",
    "else:\n",
    "    print(c)"
   ]
  },
  {
   "cell_type": "markdown",
   "id": "71403001",
   "metadata": {},
   "source": [
    "**Lưu ý:** Để phân biệt khối lệnh nào là nằm trong người ta sử dụng dấu tab (hoặc cách) để thể hiện"
   ]
  },
  {
   "cell_type": "markdown",
   "id": "3e90dbfa",
   "metadata": {},
   "source": [
    "### c. Hàm\n",
    "\n",
    "**def**  tên_hàm:\n",
    "\n",
    "    do_something"
   ]
  },
  {
   "cell_type": "code",
   "execution_count": 9,
   "id": "98b4c4b0",
   "metadata": {},
   "outputs": [],
   "source": [
    "def tong(a,b):\n",
    "    return a+b # a,b là biến cục bộ."
   ]
  },
  {
   "cell_type": "code",
   "execution_count": 10,
   "id": "89587805",
   "metadata": {},
   "outputs": [
    {
     "data": {
      "text/plain": [
       "124.23"
      ]
     },
     "execution_count": 10,
     "metadata": {},
     "output_type": "execute_result"
    }
   ],
   "source": [
    "tong(a,c)"
   ]
  },
  {
   "cell_type": "code",
   "execution_count": 13,
   "id": "0eca9366",
   "metadata": {},
   "outputs": [],
   "source": [
    "def tong1(a):\n",
    "    global c\n",
    "    return a+c # a là biến cục bộ, c lấy dữ liệu từ biến toàn cục nếu nó đã tồn tại"
   ]
  },
  {
   "cell_type": "code",
   "execution_count": 14,
   "id": "de3eb6f0",
   "metadata": {},
   "outputs": [
    {
     "data": {
      "text/plain": [
       "124.23"
      ]
     },
     "execution_count": 14,
     "metadata": {},
     "output_type": "execute_result"
    }
   ],
   "source": [
    "tong1(123)"
   ]
  },
  {
   "cell_type": "markdown",
   "id": "71a1ecff",
   "metadata": {},
   "source": [
    "### d. Đọc và ghi file"
   ]
  },
  {
   "cell_type": "markdown",
   "id": "cf92a8eb",
   "metadata": {},
   "source": [
    "**Đọc file**"
   ]
  },
  {
   "cell_type": "code",
   "execution_count": 24,
   "id": "41e44df1",
   "metadata": {},
   "outputs": [],
   "source": [
    "def readFile():\n",
    "    line = None\n",
    "    path = \"./in.txt\"\n",
    "    with open(path, 'r') as f:\n",
    "        line = f.read().splitlines()\n",
    "    f.close()\n",
    "    return line"
   ]
  },
  {
   "cell_type": "code",
   "execution_count": 26,
   "id": "6cc63552",
   "metadata": {},
   "outputs": [
    {
     "data": {
      "text/plain": [
       "['123', '123']"
      ]
     },
     "execution_count": 26,
     "metadata": {},
     "output_type": "execute_result"
    }
   ],
   "source": [
    "readFile()"
   ]
  },
  {
   "cell_type": "markdown",
   "id": "4a8f38ca",
   "metadata": {},
   "source": [
    "**Ghi file**"
   ]
  },
  {
   "cell_type": "code",
   "execution_count": 33,
   "id": "e6551612",
   "metadata": {},
   "outputs": [],
   "source": [
    "def writeFile():\n",
    "    path = \"./out.txt\" #file out.txt đã tồn tại\n",
    "    with open(path, 'w') as f:\n",
    "        f.write('hello world\\n')\n",
    "        f.write('this is second line\\n')\n",
    "        f.write('lines')\n",
    "    f.close()"
   ]
  },
  {
   "cell_type": "code",
   "execution_count": 34,
   "id": "cab451b0",
   "metadata": {},
   "outputs": [],
   "source": [
    "writeFile()"
   ]
  },
  {
   "cell_type": "markdown",
   "id": "e339c082",
   "metadata": {},
   "source": [
    "# Copyright AI Lab"
   ]
  }
 ],
 "metadata": {
  "kernelspec": {
   "display_name": "Python 3 (ipykernel)",
   "language": "python",
   "name": "python3"
  },
  "language_info": {
   "codemirror_mode": {
    "name": "ipython",
    "version": 3
   },
   "file_extension": ".py",
   "mimetype": "text/x-python",
   "name": "python",
   "nbconvert_exporter": "python",
   "pygments_lexer": "ipython3",
   "version": "3.9.7"
  }
 },
 "nbformat": 4,
 "nbformat_minor": 5
}
