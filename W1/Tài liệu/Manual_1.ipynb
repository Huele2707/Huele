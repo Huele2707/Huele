{
 "cells": [
  {
   "cell_type": "markdown",
   "id": "f1c6ca85",
   "metadata": {},
   "source": [
    "# Bổ trợ tuần 1 - Introduction to Data Science\n",
    "\n",
    "Khắc phục một số vấn đề"
   ]
  },
  {
   "cell_type": "markdown",
   "id": "cac7de70",
   "metadata": {},
   "source": [
    "# 0. Thêm thư viện"
   ]
  },
  {
   "cell_type": "code",
   "execution_count": 1,
   "id": "21a24765",
   "metadata": {},
   "outputs": [],
   "source": [
    "import requests\n",
    "import os\n",
    "import pandas as pd\n",
    "import time\n",
    "from selenium import webdriver\n",
    "from selenium.webdriver.common.by import By\n",
    "from webdriver_manager.chrome import ChromeDriverManager\n",
    "import sqlite3"
   ]
  },
  {
   "cell_type": "markdown",
   "id": "4beeea82",
   "metadata": {},
   "source": [
    "**Mô tả về các thư viện sử dụng**\n",
    "\n",
    "Các bạn có thể truy cập vào link hướng dẫn của các thư viên\n",
    "\n",
    "- **[requests](https://requests.readthedocs.io/en/latest/)**: Là thư viện hỗ trợ tương tác đến API để thực hiện thao tác cào dữ liệu\n",
    "- **[os](https://docs.python.org/3/library/os.html)**: Là thư viện để tương tác, hoạt động với interfaces của hệ thống.\n",
    "- **[pandas](https://pandas.pydata.org/docs/)**: Là thư viện sử dụng để đọc dữ liệu và xử lý dữ liệu liên quan đến công việc\n",
    "- **[selenium](https://selenium-python.readthedocs.io/)**: Truy cập và tương tác với trang web thông qua HTML.\n",
    "- **[sqlite3](https://docs.python.org/3/library/sqlite3.html)**: Khởi tạo và xử lý các vấn đề liên quan đến CSDL\n"
   ]
  },
  {
   "attachments": {},
   "cell_type": "markdown",
   "id": "82b72d80",
   "metadata": {},
   "source": [
    "- **Lỗi không có fil lxml sau khi pip install vẫn báo lỗi không có lxml**:\n",
    "\n",
    "    1. Vào Anaconda Navigator -> Environments\n",
    "    2. Từ Installed -> Not installed\n",
    "    3. Search Packages: lxml -> Tích vào Packages: lxml -> Apply để thực hiện tải xuống\n"
   ]
  },
  {
   "cell_type": "markdown",
   "id": "c6267b68",
   "metadata": {},
   "source": [
    "# 1. Tải dữ liệu trực tiếp thông qua HTML"
   ]
  },
  {
   "cell_type": "markdown",
   "id": "f4867705",
   "metadata": {},
   "source": [
    "**Mục tiêu:** Tìm bảng dữ liệu trên 1 trang bất kỳ. Đọc thông tin từ bảng và chuyển thành kiểu dữ liệu DataFrame"
   ]
  },
  {
   "cell_type": "code",
   "execution_count": 2,
   "id": "46aeed04",
   "metadata": {
    "scrolled": true
   },
   "outputs": [
    {
     "name": "stdout",
     "output_type": "stream",
     "text": [
      "\n"
     ]
    },
    {
     "name": "stderr",
     "output_type": "stream",
     "text": [
      "[WDM] - ====== WebDriver manager ======\n",
      "[WDM] - Current google-chrome version is 104.0.5112\n",
      "[WDM] - Get LATEST chromedriver version for 104.0.5112 google-chrome\n",
      "[WDM] - Driver [C:\\Users\\ailab-03\\.wdm\\drivers\\chromedriver\\win32\\104.0.5112.79\\chromedriver.exe] found in cache\n"
     ]
    },
    {
     "name": "stdout",
     "output_type": "stream",
     "text": [
      "        Type         Default format  \\\n",
      "0       DATE             YYYY-MM-DD   \n",
      "1       TIME  HH:MM:SS or HHH:MM:SS   \n",
      "2   DATETIME    YYYY-MM-DD HH:MM:SS   \n",
      "3  TIMESTAMP    YYYY-MM-DD HH:MM:SS   \n",
      "4       YEAR                   YYYY   \n",
      "\n",
      "                             Allowable values  \n",
      "0                    1000-01-01 to 9999-12-31  \n",
      "1                     -838:59:59 to 838:59:59  \n",
      "2  1000-01-01 00:00:00 to 9999-12-31 23:59:59  \n",
      "3  1970-01-01 00:00:00 to 2037-12-31 23:59:59  \n",
      "4                                1901 to 2155  \n",
      "Driver Title: SQL Dates and Times - Tutorial Republic\n",
      "Driver URL: https://www.tutorialrepublic.com/sql-tutorial/sql-dates-and-times.php\n"
     ]
    }
   ],
   "source": [
    "url= \"https://www.tutorialrepublic.com/sql-tutorial/sql-dates-and-times.php\"\n",
    "\n",
    "driver = webdriver.Chrome(ChromeDriverManager().install()) # Mở trình duyệt\n",
    "\n",
    "driver.get(url) # Truy cập đường link\n",
    "\n",
    "# driver.page_source lấy toàn bộ thông tin html của trang\n",
    "\n",
    "data = pd.read_html(driver.page_source) # Lấy các bảng dữ liệu xuất hiện trong bảng và chuyển thành DataFrame\n",
    "\n",
    "print(data[0]) #Hiển thị thông tin bảng thứ nhất\n",
    "\n",
    "print('Driver Title:',driver.title)\n",
    "print('Driver URL:',driver.current_url)\n",
    "\n",
    "driver.implicitly_wait(10)\n",
    "driver.close() # Kết thúc đóng trình duyệt\n"
   ]
  },
  {
   "cell_type": "markdown",
   "id": "fc247448",
   "metadata": {},
   "source": [
    "# 2 Đăng nhập đăng ký học"
   ]
  },
  {
   "cell_type": "code",
   "execution_count": 3,
   "id": "0364cb1d",
   "metadata": {},
   "outputs": [
    {
     "name": "stdout",
     "output_type": "stream",
     "text": [
      "\n"
     ]
    },
    {
     "name": "stderr",
     "output_type": "stream",
     "text": [
      "[WDM] - ====== WebDriver manager ======\n",
      "[WDM] - Current google-chrome version is 104.0.5112\n",
      "[WDM] - Get LATEST chromedriver version for 104.0.5112 google-chrome\n",
      "[WDM] - Driver [C:\\Users\\ailab-03\\.wdm\\drivers\\chromedriver\\win32\\104.0.5112.79\\chromedriver.exe] found in cache\n"
     ]
    },
    {
     "name": "stdout",
     "output_type": "stream",
     "text": [
      "<html xmlns=\"http://www.w3.org/1999/xhtml\"><head><title>\n",
      "\tTRƯỜNG ĐẠI HỌC THĂNG LONG - \n",
      "</title><meta http-equiv=\"Content-Type\" content=\"text/html; charset=UTF-8\">\n",
      "    <script type=\"text/javascript\" src=\"https://ajax.googleapis.com/ajax/libs/jquery/1.5.2/jquery.min.js\"></script>\n",
      "    <script type=\"text/javascript\" src=\"/js/tooltip.js\"></script>\n",
      "    <script type=\"text/javascript\" src=\"/js/thickbox-compressed.js\"></script>\n",
      "    <script src=\"/js/java.js\" type=\"text/javascript\"></script>\n",
      "    <script type=\"text/javascript\">\n",
      "        $(document).ready(function () {\n",
      "            $('input.number').keypress(function (e) {\n",
      "                if (e.which != 8 && e.which != 0 && (e.which < 48 || e.which > 57)) {\n",
      "                    return false;\n",
      "                };\n",
      "            });\n",
      "        });\n",
      "    </script>\n",
      "    \n",
      "<link href=\"App_Themes/abrasive/a10777.css\" type=\"text/css\" rel=\"stylesheet\"><link href=\"App_Themes/abrasive/em.css\" type=\"text/css\" rel=\"stylesheet\"><link href=\"App_Themes/abrasive/jQuery.css\" type=\"text/css\" rel=\"stylesheet\"><link href=\"App_Themes/abrasive/style.css\" type=\"text/css\" rel=\"stylesheet\"><link href=\"App_Themes/abrasive/thickbox.css\" type=\"text/css\" rel=\"stylesheet\"></head>\n",
      "<body>\n",
      "    <!-- Top -->\n",
      "    <div id=\"head\">\n",
      "        <!-- Center COntent -->\n",
      "        <div class=\"center\">\n",
      "            <!-- Logo -->\n",
      "            <div class=\"logo\">\n",
      "            </div>\n",
      "            <!-- End Logo -->\n",
      "            <!-- User Info -->\n",
      "            <div class=\"right\">\n",
      "                <b>Chào\n",
      "                    <span id=\"ctl00_lbUser\" style=\"color:Red;\">ĐOÀN TRUNG PHONG (A30426)</span></b> | <a href=\"../User/ChangePassword.aspx\">Đổi mật khẩu</a> | <a href=\"../User/Logoff.aspx\">Đăng xuất</a><br>\n",
      "                Tình trạng: <strong>\n",
      "                    <span id=\"ctl00_lbTinhtrang\" style=\"color:Brown;\">Tốt nghiệp</span></strong>\n",
      "            </div>\n",
      "            <div class=\"maquee\">\n",
      "                <a href=\"../SinhVien/DangKyEmailSoDienThoai.aspx\" style=\"color: Red\">Để nhận hỗ trợ từ hệ thống, đăng ký địa chỉ Email, số điện thoại!</a>\n",
      "            </div>\n",
      "            <!-- End User Info -->\n",
      "            <!-- Menu -->\n",
      "            <div id=\"menu\">\n",
      "                <ul>\n",
      "                    <li><a class=\"active\" href=\"../Default.aspx\">Trang chủ đăng ký học</a></li>\n",
      "                    <li><a href=\"http://thanglong.edu.vn/\">Trang chủ nhà trường</a></li>\n",
      "                    <li><a href=\"#\">Trang chủ quản lý đào tạo</a></li>\n",
      "                    \n",
      "                    <li><b><a class=\"msg\" href=\"#\">\n",
      "                        Có 0 tin báo mới\n",
      "                    </a></b></li>\n",
      "                </ul>\n",
      "            </div>\n",
      "            <!-- End Menu -->\n",
      "        </div>\n",
      "        <!-- End Center Content -->\n",
      "    </div>\n",
      "    <!-- End Top -->\n",
      "    <!-- Page -->\n",
      "    <div id=\"page\">\n",
      "        \n",
      "        <div id=\"left\">\n",
      "            <ul>\n",
      "                \n",
      "                        <li>\n",
      "                            <h3 class=\"title\">\n",
      "                                Toàn trường</h3>\n",
      "                            \n",
      "                                    <ul class=\"sub-menu\" style=\"display: block;\">\n",
      "                                \n",
      "                                    <li><a href=\"/ToanTruong/TKBToanTruong.aspx\">\n",
      "                                        Thời khóa biểu toàn trường</a></li>\n",
      "                                \n",
      "                                    <li><a href=\"/ToanTruong/LichThiLaiToanTruong.aspx\">\n",
      "                                        Lịch thi lại toàn trường</a></li>\n",
      "                                \n",
      "                                    <li><a href=\"/ToanTruong/ChuongTrinhDaoTao.aspx\">\n",
      "                                        Chương trình đào tạo</a></li>\n",
      "                                \n",
      "                                    </ul>\n",
      "                                \n",
      "                        </li>\n",
      "                    \n",
      "                        <li>\n",
      "                            <h3 class=\"title\">\n",
      "                                Góc sinh viên</h3>\n",
      "                            \n",
      "                                    <ul class=\"sub-menu\" style=\"display: block;\">\n",
      "                                \n",
      "                                    <li><a href=\"/SinhVien/frmThongTinSinhVien.aspx\">\n",
      "                                        Thông tin cá nhân</a></li>\n",
      "                                \n",
      "                                    <li><a href=\"/DangKyHoc/DangKiHoc.aspx\">\n",
      "                                        Đăng ký học</a></li>\n",
      "                                \n",
      "                                    <li><a href=\"/DangKyHoc/DangKiThiLai.aspx\">\n",
      "                                        Đăng ký thi lại</a></li>\n",
      "                                \n",
      "                                    <li><a href=\"/SinhVien/ThoiKhoaBieuSinhVien.aspx\">\n",
      "                                        Thời khóa biểu</a></li>\n",
      "                                \n",
      "                                    <li><a href=\"http://hocphi.thanglong.edu.vn\">\n",
      "                                        Phiếu báo thu tiền</a></li>\n",
      "                                \n",
      "                                    <li><a href=\"/SinhVien/BangDiemSinhVien.aspx\">\n",
      "                                        Bảng điểm</a></li>\n",
      "                                \n",
      "                                    <li><a href=\"/SinhVien/LichThiSV.aspx\">\n",
      "                                        Lịch thi chính thức</a></li>\n",
      "                                \n",
      "                                    <li><a href=\"/SinhVien/LichThiDuKien.aspx\">\n",
      "                                        Lịch thi dự kiến</a></li>\n",
      "                                \n",
      "                                    <li><a href=\"http://sinhvien.thanglong.edu.vn/\">\n",
      "                                        Phiếu báo điểm</a></li>\n",
      "                                \n",
      "                                    <li><a href=\"http://sinhvien.thanglong.edu.vn\">\n",
      "                                        Lịch ký sổ gốc</a></li>\n",
      "                                \n",
      "                                    </ul>\n",
      "                                \n",
      "                        </li>\n",
      "                    \n",
      "                <li>\n",
      "                    \n",
      "                </li>\n",
      "            </ul>\n",
      "        </div>\n",
      "        \n",
      "        \n",
      "        <!-- Right -->\n",
      "        <div id=\"right\">\n",
      "            <div class=\"title\">\n",
      "                \n",
      "    \n",
      "        <a href=\"/SinhVien/DangKyEmailSoDienThoai.aspx\">Nhấn vào dòng này để cập nhật địa chỉ Email, số điện thoại cá nhân của mình (khi quên mật khẩu, có thể sử dụng Email này để lấy lại mật khẩu). </a>\n",
      "    \n",
      "\n",
      "                \n",
      "\n",
      "            </div>\n",
      "            <div class=\"entry\">\n",
      "                \n",
      "\n",
      "<div class=\"imgs\"></div>\n",
      "<div id=\"ctl00_c_ThongbaoPanel\" class=\"thongbao\">\n",
      "\t\n",
      "    <h3>Thông báo thời gian đăng ký học: </h3>\n",
      "    Bạn không thuộc đối tượng đăng ký kì này hoặc tình trạng không bình thường, xem tình trạng ở góc phải phía trên.\n",
      "    \n",
      "\n",
      "</div>\n",
      "\n",
      "            </div>\n",
      "        </div>\n",
      "        \n",
      "        <!-- End Right -->\n",
      "    </div>\n",
      "    <!-- End Page -->\n",
      "    <!-- Footer -->\n",
      "    <div id=\"footer\">\n",
      "        Địa chỉ: Đường Nghiêm Xuân Yêm - Đại Kim - Hoàng Mai - Hà Nội<br>\n",
      "        Điện thoại hỗ trợ kỹ thuật:(04) 355 92 678 website <a href=\"http://www.thanglong.edu.vn\">http://www.thanglong.edu.vn</a> mail:<a href=\"mailto:p.cntt@thanglong.edu.vn\">p.cntt@thanglong.edu.vn</a><a href=\"http://atgo.vn/member/svgo/QTMwNDI2fDAxLzAxLzE5OTl8xJBPw4BOIFRSVU5HfFBIT05HfDAxNjUyMDgzOTc0LCAwOTc4MTY3MTAxfFNwb25nZWJvYjhhMUBnbWFpbC5jb218Q2jGsGEgY8OzfENoxrBhIGPDsw==\">.</a>\n",
      "    </div>\n",
      "    <!-- End Footer -->\n",
      "\n",
      "     \n",
      "\n",
      "\n",
      "\n",
      "</body></html>\n"
     ]
    }
   ],
   "source": [
    "url = 'https://dangkyhoc.thanglong.edu.vn/'\n",
    "\n",
    "driver = webdriver.Chrome(ChromeDriverManager().install()) # Mở trình duyệt\n",
    "\n",
    "driver.get(url) \n",
    "\n",
    "driver.find_element(By.ID,'tbUserName').send_keys('A30426')\n",
    "\n",
    "driver.find_element(By.ID,'tbPassword').send_keys('huhahu00')\n",
    "\n",
    "driver.implicitly_wait(10)\n",
    "\n",
    "driver.find_element(By.ID,'btLogin').click()\n",
    "\n",
    "print(driver.page_source)\n",
    "\n",
    "time.sleep(10)\n",
    "\n",
    "driver.close()\n"
   ]
  },
  {
   "cell_type": "code",
   "execution_count": null,
   "id": "ac63e8ed",
   "metadata": {},
   "outputs": [],
   "source": []
  }
 ],
 "metadata": {
  "kernelspec": {
   "display_name": "Python 3",
   "language": "python",
   "name": "python3"
  },
  "language_info": {
   "codemirror_mode": {
    "name": "ipython",
    "version": 3
   },
   "file_extension": ".py",
   "mimetype": "text/x-python",
   "name": "python",
   "nbconvert_exporter": "python",
   "pygments_lexer": "ipython3",
   "version": "3.6.13"
  }
 },
 "nbformat": 4,
 "nbformat_minor": 5
}
