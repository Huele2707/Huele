{
 "cells": [
  {
   "cell_type": "code",
   "execution_count": 6,
   "id": "06cf86e6",
   "metadata": {},
   "outputs": [],
   "source": [
    "import requests\n",
    "import os\n",
    "import pandas as pd\n",
    "import time\n",
    "from selenium import webdriver\n",
    "from selenium.webdriver.common.by import By\n",
    "from webdriver_manager.chrome import ChromeDriverManager\n",
    "import sqlite3"
   ]
  },
  {
   "cell_type": "code",
   "execution_count": 11,
   "id": "c16bc782",
   "metadata": {},
   "outputs": [],
   "source": [
    "url = 'https://catfact.ninja/fact' #Link API\n",
    "rq = requests.get(url)"
   ]
  },
  {
   "cell_type": "code",
   "execution_count": 12,
   "id": "e81b59b5",
   "metadata": {},
   "outputs": [],
   "source": [
    "request = requests.get(url) #Lấy thông tin từ API cần truy cập"
   ]
  },
  {
   "cell_type": "code",
   "execution_count": 13,
   "id": "66aa26d2",
   "metadata": {},
   "outputs": [
    {
     "name": "stdout",
     "output_type": "stream",
     "text": [
      "Truy cập thành công\n"
     ]
    }
   ],
   "source": [
    "#Kiểm tra kết quả truy cập\n",
    "if request.status_code == 200:\n",
    "    print(\"Truy cập thành công\")\n",
    "else:\n",
    "    print(request.status_code)"
   ]
  },
  {
   "cell_type": "code",
   "execution_count": 14,
   "id": "bebe7b18",
   "metadata": {},
   "outputs": [
    {
     "data": {
      "text/plain": [
       "'{\"fact\":\"Some cats have survived falls of over 65 feet (20 meters), due largely to their \\\\u201crighting reflex.\\\\u201d The eyes and balance organs in the inner ear tell it where it is in space so the cat can land on its feet. Even cats without a tail have this ability.\",\"length\":249}'"
      ]
     },
     "execution_count": 14,
     "metadata": {},
     "output_type": "execute_result"
    }
   ],
   "source": [
    "request.text #Đọc dữ liệu dưới dạng text"
   ]
  },
  {
   "cell_type": "code",
   "execution_count": 17,
   "id": "338d8cbb",
   "metadata": {},
   "outputs": [
    {
     "name": "stdout",
     "output_type": "stream",
     "text": [
      "{'fact': 'Some cats have survived falls of over 65 feet (20 meters), due largely to their “righting reflex.” The eyes and balance organs in the inner ear tell it where it is in space so the cat can land on its feet. Even cats without a tail have this ability.', 'length': 249}\n"
     ]
    }
   ],
   "source": [
    "data = request.json() #Đọc dữ liệu dưới dạng json (Kiểu dict trong python)\n",
    "print(data)"
   ]
  },
  {
   "cell_type": "code",
   "execution_count": 18,
   "id": "c6fc1170",
   "metadata": {},
   "outputs": [
    {
     "data": {
      "text/plain": [
       "dict_keys(['fact', 'length'])"
      ]
     },
     "execution_count": 18,
     "metadata": {},
     "output_type": "execute_result"
    }
   ],
   "source": [
    "data.keys() # Kiểm tra các key tồn tại trong data"
   ]
  },
  {
   "cell_type": "code",
   "execution_count": 21,
   "id": "9a1e306e",
   "metadata": {},
   "outputs": [
    {
     "data": {
      "text/plain": [
       "'Some cats have survived falls of over 65 feet (20 meters), due largely to their “righting reflex.” The eyes and balance organs in the inner ear tell it where it is in space so the cat can land on its feet. Even cats without a tail have this ability.'"
      ]
     },
     "execution_count": 21,
     "metadata": {},
     "output_type": "execute_result"
    }
   ],
   "source": [
    "data['fact'] # Kiểm tra giá trị data vs key là count"
   ]
  },
  {
   "cell_type": "code",
   "execution_count": 25,
   "id": "6905ef19",
   "metadata": {},
   "outputs": [
    {
     "data": {
      "text/plain": [
       "249"
      ]
     },
     "execution_count": 25,
     "metadata": {},
     "output_type": "execute_result"
    }
   ],
   "source": [
    "data['length']"
   ]
  },
  {
   "cell_type": "code",
   "execution_count": 22,
   "id": "b37e40ca",
   "metadata": {},
   "outputs": [
    {
     "data": {
      "text/plain": [
       "str"
      ]
     },
     "execution_count": 22,
     "metadata": {},
     "output_type": "execute_result"
    }
   ],
   "source": [
    "type(data['fact'])"
   ]
  },
  {
   "cell_type": "code",
   "execution_count": 24,
   "id": "c6f235f2",
   "metadata": {},
   "outputs": [
    {
     "data": {
      "text/plain": [
       "249"
      ]
     },
     "execution_count": 24,
     "metadata": {},
     "output_type": "execute_result"
    }
   ],
   "source": [
    "len(data['fact'])"
   ]
  },
  {
   "cell_type": "code",
   "execution_count": 27,
   "id": "d38e0e6a",
   "metadata": {},
   "outputs": [
    {
     "ename": "ValueError",
     "evalue": "DataFrame constructor not properly called!",
     "output_type": "error",
     "traceback": [
      "\u001b[1;31m---------------------------------------------------------------------------\u001b[0m",
      "\u001b[1;31mValueError\u001b[0m                                Traceback (most recent call last)",
      "Input \u001b[1;32mIn [27]\u001b[0m, in \u001b[0;36m<cell line: 1>\u001b[1;34m()\u001b[0m\n\u001b[1;32m----> 1\u001b[0m df \u001b[38;5;241m=\u001b[39m \u001b[43mpd\u001b[49m\u001b[38;5;241;43m.\u001b[39;49m\u001b[43mDataFrame\u001b[49m\u001b[43m(\u001b[49m\u001b[43mdata\u001b[49m\u001b[43m[\u001b[49m\u001b[38;5;124;43m'\u001b[39;49m\u001b[38;5;124;43mfact\u001b[39;49m\u001b[38;5;124;43m'\u001b[39;49m\u001b[43m]\u001b[49m\u001b[43m)\u001b[49m\n",
      "File \u001b[1;32m~\\anaconda3\\lib\\site-packages\\pandas\\core\\frame.py:756\u001b[0m, in \u001b[0;36mDataFrame.__init__\u001b[1;34m(self, data, index, columns, dtype, copy)\u001b[0m\n\u001b[0;32m    753\u001b[0m \u001b[38;5;66;03m# For data is scalar\u001b[39;00m\n\u001b[0;32m    754\u001b[0m \u001b[38;5;28;01melse\u001b[39;00m:\n\u001b[0;32m    755\u001b[0m     \u001b[38;5;28;01mif\u001b[39;00m index \u001b[38;5;129;01mis\u001b[39;00m \u001b[38;5;28;01mNone\u001b[39;00m \u001b[38;5;129;01mor\u001b[39;00m columns \u001b[38;5;129;01mis\u001b[39;00m \u001b[38;5;28;01mNone\u001b[39;00m:\n\u001b[1;32m--> 756\u001b[0m         \u001b[38;5;28;01mraise\u001b[39;00m \u001b[38;5;167;01mValueError\u001b[39;00m(\u001b[38;5;124m\"\u001b[39m\u001b[38;5;124mDataFrame constructor not properly called!\u001b[39m\u001b[38;5;124m\"\u001b[39m)\n\u001b[0;32m    758\u001b[0m     \u001b[38;5;66;03m# Argument 1 to \"ensure_index\" has incompatible type \"Collection[Any]\";\u001b[39;00m\n\u001b[0;32m    759\u001b[0m     \u001b[38;5;66;03m# expected \"Union[Union[Union[ExtensionArray, ndarray],\u001b[39;00m\n\u001b[0;32m    760\u001b[0m     \u001b[38;5;66;03m# Index, Series], Sequence[Any]]\"\u001b[39;00m\n\u001b[0;32m    761\u001b[0m     index \u001b[38;5;241m=\u001b[39m ensure_index(index)  \u001b[38;5;66;03m# type: ignore[arg-type]\u001b[39;00m\n",
      "\u001b[1;31mValueError\u001b[0m: DataFrame constructor not properly called!"
     ]
    }
   ],
   "source": [
    "df = pd.DataFrame(data['fact'])"
   ]
  },
  {
   "cell_type": "code",
   "execution_count": 39,
   "id": "de1f89bf",
   "metadata": {},
   "outputs": [
    {
     "name": "stderr",
     "output_type": "stream",
     "text": [
      "C:\\Users\\sv\\AppData\\Local\\Temp\\ipykernel_13516\\1871708845.py:3: DeprecationWarning: executable_path has been deprecated, please pass in a Service object\n",
      "  driver = webdriver.Chrome(ChromeDriverManager().install()) # Mở trình duyệt\n"
     ]
    },
    {
     "ename": "WebDriverException",
     "evalue": "Message: unknown error: net::ERR_NAME_NOT_RESOLVED\n  (Session info: chrome=104.0.5112.102)\nStacktrace:\nBacktrace:\n\tOrdinal0 [0x006178B3+2193587]\n\tOrdinal0 [0x005B0681+1771137]\n\tOrdinal0 [0x004C41A8+803240]\n\tOrdinal0 [0x004C0918+788760]\n\tOrdinal0 [0x004B781D+751645]\n\tOrdinal0 [0x004B8450+754768]\n\tOrdinal0 [0x004B7A2A+752170]\n\tOrdinal0 [0x004B6FAF+749487]\n\tOrdinal0 [0x004B5E94+745108]\n\tOrdinal0 [0x004B636D+746349]\n\tOrdinal0 [0x004C5974+809332]\n\tOrdinal0 [0x0051E18D+1171853]\n\tOrdinal0 [0x0050D7AC+1103788]\n\tOrdinal0 [0x0051DAE2+1170146]\n\tOrdinal0 [0x0050D5C6+1103302]\n\tOrdinal0 [0x004E77E0+948192]\n\tOrdinal0 [0x004E86E6+952038]\n\tGetHandleVerifier [0x008C0CB2+2738370]\n\tGetHandleVerifier [0x008B21B8+2678216]\n\tGetHandleVerifier [0x006A17AA+512954]\n\tGetHandleVerifier [0x006A0856+509030]\n\tOrdinal0 [0x005B743B+1799227]\n\tOrdinal0 [0x005BBB68+1817448]\n\tOrdinal0 [0x005BBC55+1817685]\n\tOrdinal0 [0x005C5230+1856048]\n\tBaseThreadInitThunk [0x75D4FA29+25]\n\tRtlGetAppContainerNamedObjectPath [0x77D47A9E+286]\n\tRtlGetAppContainerNamedObjectPath [0x77D47A6E+238]\n",
     "output_type": "error",
     "traceback": [
      "\u001b[1;31m---------------------------------------------------------------------------\u001b[0m",
      "\u001b[1;31mWebDriverException\u001b[0m                        Traceback (most recent call last)",
      "Input \u001b[1;32mIn [39]\u001b[0m, in \u001b[0;36m<cell line: 5>\u001b[1;34m()\u001b[0m\n\u001b[0;32m      1\u001b[0m url_dangkyhoc\u001b[38;5;241m=\u001b[39m \u001b[38;5;124m'\u001b[39m\u001b[38;5;124mhttps://login.thanglong.edu.vn\u001b[39m\u001b[38;5;124m'\u001b[39m\n\u001b[0;32m      3\u001b[0m driver \u001b[38;5;241m=\u001b[39m webdriver\u001b[38;5;241m.\u001b[39mChrome(ChromeDriverManager()\u001b[38;5;241m.\u001b[39minstall()) \u001b[38;5;66;03m# Mở trình duyệt\u001b[39;00m\n\u001b[1;32m----> 5\u001b[0m \u001b[43mdriver\u001b[49m\u001b[38;5;241;43m.\u001b[39;49m\u001b[43mget\u001b[49m\u001b[43m(\u001b[49m\u001b[43murl_dangkyhoc\u001b[49m\u001b[43m)\u001b[49m\n\u001b[0;32m      7\u001b[0m driver\u001b[38;5;241m.\u001b[39mrefresh()\n\u001b[0;32m      9\u001b[0m email \u001b[38;5;241m=\u001b[39m driver\u001b[38;5;241m.\u001b[39mfind_element(By\u001b[38;5;241m.\u001b[39mID,\u001b[38;5;124m'\u001b[39m\u001b[38;5;124mtbUsename\u001b[39m\u001b[38;5;124m'\u001b[39m)\n",
      "File \u001b[1;32m~\\anaconda3\\lib\\site-packages\\selenium\\webdriver\\remote\\webdriver.py:440\u001b[0m, in \u001b[0;36mWebDriver.get\u001b[1;34m(self, url)\u001b[0m\n\u001b[0;32m    436\u001b[0m \u001b[38;5;28;01mdef\u001b[39;00m \u001b[38;5;21mget\u001b[39m(\u001b[38;5;28mself\u001b[39m, url: \u001b[38;5;28mstr\u001b[39m) \u001b[38;5;241m-\u001b[39m\u001b[38;5;241m>\u001b[39m \u001b[38;5;28;01mNone\u001b[39;00m:\n\u001b[0;32m    437\u001b[0m     \u001b[38;5;124;03m\"\"\"\u001b[39;00m\n\u001b[0;32m    438\u001b[0m \u001b[38;5;124;03m    Loads a web page in the current browser session.\u001b[39;00m\n\u001b[0;32m    439\u001b[0m \u001b[38;5;124;03m    \"\"\"\u001b[39;00m\n\u001b[1;32m--> 440\u001b[0m     \u001b[38;5;28;43mself\u001b[39;49m\u001b[38;5;241;43m.\u001b[39;49m\u001b[43mexecute\u001b[49m\u001b[43m(\u001b[49m\u001b[43mCommand\u001b[49m\u001b[38;5;241;43m.\u001b[39;49m\u001b[43mGET\u001b[49m\u001b[43m,\u001b[49m\u001b[43m \u001b[49m\u001b[43m{\u001b[49m\u001b[38;5;124;43m'\u001b[39;49m\u001b[38;5;124;43murl\u001b[39;49m\u001b[38;5;124;43m'\u001b[39;49m\u001b[43m:\u001b[49m\u001b[43m \u001b[49m\u001b[43murl\u001b[49m\u001b[43m}\u001b[49m\u001b[43m)\u001b[49m\n",
      "File \u001b[1;32m~\\anaconda3\\lib\\site-packages\\selenium\\webdriver\\remote\\webdriver.py:428\u001b[0m, in \u001b[0;36mWebDriver.execute\u001b[1;34m(self, driver_command, params)\u001b[0m\n\u001b[0;32m    426\u001b[0m response \u001b[38;5;241m=\u001b[39m \u001b[38;5;28mself\u001b[39m\u001b[38;5;241m.\u001b[39mcommand_executor\u001b[38;5;241m.\u001b[39mexecute(driver_command, params)\n\u001b[0;32m    427\u001b[0m \u001b[38;5;28;01mif\u001b[39;00m response:\n\u001b[1;32m--> 428\u001b[0m     \u001b[38;5;28;43mself\u001b[39;49m\u001b[38;5;241;43m.\u001b[39;49m\u001b[43merror_handler\u001b[49m\u001b[38;5;241;43m.\u001b[39;49m\u001b[43mcheck_response\u001b[49m\u001b[43m(\u001b[49m\u001b[43mresponse\u001b[49m\u001b[43m)\u001b[49m\n\u001b[0;32m    429\u001b[0m     response[\u001b[38;5;124m'\u001b[39m\u001b[38;5;124mvalue\u001b[39m\u001b[38;5;124m'\u001b[39m] \u001b[38;5;241m=\u001b[39m \u001b[38;5;28mself\u001b[39m\u001b[38;5;241m.\u001b[39m_unwrap_value(\n\u001b[0;32m    430\u001b[0m         response\u001b[38;5;241m.\u001b[39mget(\u001b[38;5;124m'\u001b[39m\u001b[38;5;124mvalue\u001b[39m\u001b[38;5;124m'\u001b[39m, \u001b[38;5;28;01mNone\u001b[39;00m))\n\u001b[0;32m    431\u001b[0m     \u001b[38;5;28;01mreturn\u001b[39;00m response\n",
      "File \u001b[1;32m~\\anaconda3\\lib\\site-packages\\selenium\\webdriver\\remote\\errorhandler.py:243\u001b[0m, in \u001b[0;36mErrorHandler.check_response\u001b[1;34m(self, response)\u001b[0m\n\u001b[0;32m    241\u001b[0m         alert_text \u001b[38;5;241m=\u001b[39m value[\u001b[38;5;124m'\u001b[39m\u001b[38;5;124malert\u001b[39m\u001b[38;5;124m'\u001b[39m]\u001b[38;5;241m.\u001b[39mget(\u001b[38;5;124m'\u001b[39m\u001b[38;5;124mtext\u001b[39m\u001b[38;5;124m'\u001b[39m)\n\u001b[0;32m    242\u001b[0m     \u001b[38;5;28;01mraise\u001b[39;00m exception_class(message, screen, stacktrace, alert_text)  \u001b[38;5;66;03m# type: ignore[call-arg]  # mypy is not smart enough here\u001b[39;00m\n\u001b[1;32m--> 243\u001b[0m \u001b[38;5;28;01mraise\u001b[39;00m exception_class(message, screen, stacktrace)\n",
      "\u001b[1;31mWebDriverException\u001b[0m: Message: unknown error: net::ERR_NAME_NOT_RESOLVED\n  (Session info: chrome=104.0.5112.102)\nStacktrace:\nBacktrace:\n\tOrdinal0 [0x006178B3+2193587]\n\tOrdinal0 [0x005B0681+1771137]\n\tOrdinal0 [0x004C41A8+803240]\n\tOrdinal0 [0x004C0918+788760]\n\tOrdinal0 [0x004B781D+751645]\n\tOrdinal0 [0x004B8450+754768]\n\tOrdinal0 [0x004B7A2A+752170]\n\tOrdinal0 [0x004B6FAF+749487]\n\tOrdinal0 [0x004B5E94+745108]\n\tOrdinal0 [0x004B636D+746349]\n\tOrdinal0 [0x004C5974+809332]\n\tOrdinal0 [0x0051E18D+1171853]\n\tOrdinal0 [0x0050D7AC+1103788]\n\tOrdinal0 [0x0051DAE2+1170146]\n\tOrdinal0 [0x0050D5C6+1103302]\n\tOrdinal0 [0x004E77E0+948192]\n\tOrdinal0 [0x004E86E6+952038]\n\tGetHandleVerifier [0x008C0CB2+2738370]\n\tGetHandleVerifier [0x008B21B8+2678216]\n\tGetHandleVerifier [0x006A17AA+512954]\n\tGetHandleVerifier [0x006A0856+509030]\n\tOrdinal0 [0x005B743B+1799227]\n\tOrdinal0 [0x005BBB68+1817448]\n\tOrdinal0 [0x005BBC55+1817685]\n\tOrdinal0 [0x005C5230+1856048]\n\tBaseThreadInitThunk [0x75D4FA29+25]\n\tRtlGetAppContainerNamedObjectPath [0x77D47A9E+286]\n\tRtlGetAppContainerNamedObjectPath [0x77D47A6E+238]\n"
     ]
    }
   ],
   "source": [
    "url_dangkyhoc= 'https://login.thanglong.edu.vn'\n",
    "\n",
    "driver = webdriver.Chrome(ChromeDriverManager().install()) # Mở trình duyệt\n",
    "\n",
    "driver.get(url_dangkyhoc)\n",
    "\n",
    "driver.refresh()\n",
    "\n",
    "email = driver.find_element(By.ID,'tbUsename')\n",
    "email.send_keys('hacker')\n",
    "password = driver.find_element(By.ID,'tbPassword')\n",
    "password.send_keys('hackerday')\n",
    "\n",
    "login = driver.find_element(By.ID,'tblogin')\n",
    "driver.implicitly_wait(10)\n",
    "login.click()\n",
    "time.sleep(10)\n",
    "\n",
    "driver.close()\n"
   ]
  },
  {
   "cell_type": "code",
   "execution_count": null,
   "id": "d2c7039b",
   "metadata": {},
   "outputs": [],
   "source": []
  }
 ],
 "metadata": {
  "kernelspec": {
   "display_name": "Python 3 (ipykernel)",
   "language": "python",
   "name": "python3"
  },
  "language_info": {
   "codemirror_mode": {
    "name": "ipython",
    "version": 3
   },
   "file_extension": ".py",
   "mimetype": "text/x-python",
   "name": "python",
   "nbconvert_exporter": "python",
   "pygments_lexer": "ipython3",
   "version": "3.9.12"
  }
 },
 "nbformat": 4,
 "nbformat_minor": 5
}
