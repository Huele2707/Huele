{
 "cells": [
  {
   "cell_type": "markdown",
   "metadata": {
    "id": "0d4F9XqI6h6S"
   },
   "source": [
    "# BÀI 1. Thực hiện yêu cầu sau:\n",
    "\n",
    "- Crawl dữ liệu từ API: https://api2.binance.com/api/v3/ticker/24hr.\n",
    "- Lưu dữ liệu sau khi đọc xuống tên file bai1.csv\n",
    "- Hiển thị 10 dòng đầu tiên"
   ]
  },
  {
   "cell_type": "code",
   "execution_count": null,
   "metadata": {
    "id": "ZOOhEA6T5vyX"
   },
   "outputs": [],
   "source": [
    "# do something"
   ]
  },
  {
   "cell_type": "markdown",
   "metadata": {
    "id": "ch6mAmGX-Pv7"
   },
   "source": [
    "# Bài 2. Thực hiện yêu cầu sau:\n",
    "- Thu thập dữ liệu thời khóa biểu toàn trường từ trang dangkyhoc.thanglong.edu.vn\n",
    "- Lưu dữ liệu xuống dạng file csv\n",
    "- Nâng cao: \n",
    "    + Thu thập dữ liệu Kì 3 nhóm 2 năm 2021-2022\n",
    "    + Thu thập dữ liệu Kì 3 nhóm 3 năm 2021-2022\n",
    "    + Thu thập dữ liệu Kì 1 nhóm 1 năm 2022-2023\n",
    "    + Thu thập dữ liệu Kì 1 nhóm 2 năm 2022-2023\n",
    "- Lưu dữ liệu"
   ]
  },
  {
   "cell_type": "code",
   "execution_count": null,
   "metadata": {
    "id": "teJ5l7CO93N4"
   },
   "outputs": [],
   "source": [
    "# do something"
   ]
  },
  {
   "cell_type": "markdown",
   "metadata": {},
   "source": [
    "# Bài 3. Thực hiện yêu cầu sau:\n"
   ]
  },
  {
   "cell_type": "markdown",
   "metadata": {},
   "source": [
    "Điền đường dẫn dữ liệu bai1.csv vào path và Thực hiện chạy dòng cell sau để làm bài 3"
   ]
  },
  {
   "cell_type": "code",
   "execution_count": null,
   "metadata": {},
   "outputs": [],
   "source": [
    "path = '' # đường dẫn bai1.csv\n",
    "\n",
    "con = sqlite3.connect('DS_database') \n",
    "\n",
    "df = pd.read_csv(path)\n",
    "\n",
    "df.to_sql('BAI3',con)\n",
    "\n",
    "data = pd.read_sql('SELECT * FROM BAI3', con)\n",
    "data"
   ]
  },
  {
   "cell_type": "code",
   "execution_count": null,
   "metadata": {},
   "outputs": [],
   "source": [
    "# Lấy ra càng dòng có 'prevClosePrice'>0.008"
   ]
  },
  {
   "cell_type": "code",
   "execution_count": null,
   "metadata": {},
   "outputs": [],
   "source": [
    "# Tính tổng cột 'lastPrice'"
   ]
  }
 ],
 "metadata": {
  "colab": {
   "collapsed_sections": [],
   "provenance": []
  },
  "kernelspec": {
   "display_name": "Python 3",
   "language": "python",
   "name": "python3"
  },
  "language_info": {
   "codemirror_mode": {
    "name": "ipython",
    "version": 3
   },
   "file_extension": ".py",
   "mimetype": "text/x-python",
   "name": "python",
   "nbconvert_exporter": "python",
   "pygments_lexer": "ipython3",
   "version": "3.6.13"
  }
 },
 "nbformat": 4,
 "nbformat_minor": 1
}
