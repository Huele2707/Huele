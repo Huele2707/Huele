{
 "cells": [
  {
   "cell_type": "code",
   "execution_count": null,
   "id": "2915cd01",
   "metadata": {},
   "outputs": [],
   "source": [
    "import numpy as np\n",
    "from sklearn.linear_model import LinearRegression"
   ]
  },
  {
   "cell_type": "markdown",
   "id": "7bf3adb0",
   "metadata": {},
   "source": [
    "$(\\theta_1 \\times x) + (\\theta_0 \\times 1) = y_{predict}$\n",
    "\n",
    "\n",
    "$y_{predict}$   gần bằng    $y_{actual}$"
   ]
  },
  {
   "cell_type": "code",
   "execution_count": null,
   "id": "e4e8433d",
   "metadata": {},
   "outputs": [],
   "source": [
    "X = np.array([[1], [2], [3], [4]])"
   ]
  },
  {
   "cell_type": "code",
   "execution_count": null,
   "id": "da899642",
   "metadata": {},
   "outputs": [],
   "source": [
    "X"
   ]
  },
  {
   "cell_type": "code",
   "execution_count": null,
   "id": "9e87affc",
   "metadata": {},
   "outputs": [],
   "source": [
    "y = np.dot(X, np.array([2.5])) + np.random.randn(4)"
   ]
  },
  {
   "cell_type": "code",
   "execution_count": null,
   "id": "3555a8b7",
   "metadata": {},
   "outputs": [],
   "source": [
    "y"
   ]
  },
  {
   "cell_type": "code",
   "execution_count": null,
   "id": "70111455",
   "metadata": {},
   "outputs": [],
   "source": [
    "import matplotlib.pyplot as plt"
   ]
  },
  {
   "cell_type": "code",
   "execution_count": null,
   "id": "401e198b",
   "metadata": {
    "scrolled": true
   },
   "outputs": [],
   "source": [
    "plt.scatter(X,y)"
   ]
  },
  {
   "cell_type": "code",
   "execution_count": null,
   "id": "1075cf8e",
   "metadata": {},
   "outputs": [],
   "source": [
    "X.shape"
   ]
  },
  {
   "cell_type": "code",
   "execution_count": null,
   "id": "c87813fc",
   "metadata": {},
   "outputs": [],
   "source": [
    "linearModel = LinearRegression()"
   ]
  },
  {
   "cell_type": "code",
   "execution_count": null,
   "id": "ecb15224",
   "metadata": {},
   "outputs": [],
   "source": [
    "linearModel.fit(X,y)"
   ]
  },
  {
   "cell_type": "code",
   "execution_count": null,
   "id": "b78ab3a2",
   "metadata": {},
   "outputs": [],
   "source": [
    "y_predict = linearModel.predict(X) # ~ y_predict"
   ]
  },
  {
   "cell_type": "code",
   "execution_count": null,
   "id": "245d319c",
   "metadata": {},
   "outputs": [],
   "source": [
    "y_predict"
   ]
  },
  {
   "cell_type": "code",
   "execution_count": null,
   "id": "7776af25",
   "metadata": {},
   "outputs": [],
   "source": [
    "y"
   ]
  },
  {
   "cell_type": "markdown",
   "id": "ffc60459",
   "metadata": {},
   "source": [
    "# Sử dụng MSE để tính **y_predict** vs **y**"
   ]
  },
  {
   "cell_type": "code",
   "execution_count": null,
   "id": "7b8270cc",
   "metadata": {},
   "outputs": [],
   "source": [
    "((y-y_predict)**2).mean()"
   ]
  },
  {
   "cell_type": "code",
   "execution_count": null,
   "id": "fb61be6c",
   "metadata": {},
   "outputs": [],
   "source": [
    "(abs(y-y_predict)).mean()"
   ]
  },
  {
   "cell_type": "code",
   "execution_count": null,
   "id": "440f24eb",
   "metadata": {},
   "outputs": [],
   "source": [
    "theta_1 = linearModel.coef_\n",
    "theta_0 = linearModel.intercept_"
   ]
  },
  {
   "cell_type": "code",
   "execution_count": null,
   "id": "1fd63734",
   "metadata": {},
   "outputs": [],
   "source": [
    "theta_1"
   ]
  },
  {
   "cell_type": "code",
   "execution_count": null,
   "id": "0ec4ad42",
   "metadata": {},
   "outputs": [],
   "source": [
    "theta_0"
   ]
  },
  {
   "cell_type": "code",
   "execution_count": null,
   "id": "e2828b44",
   "metadata": {},
   "outputs": [],
   "source": [
    "X"
   ]
  },
  {
   "cell_type": "code",
   "execution_count": null,
   "id": "6703ad6d",
   "metadata": {},
   "outputs": [],
   "source": [
    "theta_1 * X + theta_0"
   ]
  },
  {
   "cell_type": "code",
   "execution_count": null,
   "id": "8fc12d41",
   "metadata": {},
   "outputs": [],
   "source": []
  },
  {
   "cell_type": "markdown",
   "id": "ec57127e",
   "metadata": {},
   "source": [
    "# Hồi quy đa biến"
   ]
  },
  {
   "cell_type": "code",
   "execution_count": 1,
   "id": "482e92eb",
   "metadata": {},
   "outputs": [],
   "source": [
    "\n",
    "from sklearn.linear_model import LinearRegression\n",
    "from sklearn.datasets import fetch_california_housing\n",
    "import numpy as np\n",
    "\n",
    "\n",
    "X,y = fetch_california_housing(return_X_y=True)"
   ]
  },
  {
   "cell_type": "code",
   "execution_count": 2,
   "id": "dd5637aa",
   "metadata": {},
   "outputs": [
    {
     "data": {
      "text/plain": [
       "(20640, 8)"
      ]
     },
     "execution_count": 2,
     "metadata": {},
     "output_type": "execute_result"
    }
   ],
   "source": [
    "X.shape"
   ]
  },
  {
   "cell_type": "code",
   "execution_count": 6,
   "id": "532b3a02",
   "metadata": {},
   "outputs": [
    {
     "data": {
      "text/plain": [
       "array([   8.3252    ,   41.        ,    6.98412698,    1.02380952,\n",
       "        322.        ,    2.55555556,   37.88      , -122.23      ])"
      ]
     },
     "execution_count": 6,
     "metadata": {},
     "output_type": "execute_result"
    }
   ],
   "source": [
    "X[0]"
   ]
  },
  {
   "cell_type": "code",
   "execution_count": 7,
   "id": "eebe110e",
   "metadata": {},
   "outputs": [
    {
     "data": {
      "text/plain": [
       "4.526"
      ]
     },
     "execution_count": 7,
     "metadata": {},
     "output_type": "execute_result"
    }
   ],
   "source": [
    "y[0]"
   ]
  },
  {
   "cell_type": "code",
   "execution_count": 3,
   "id": "927c2432",
   "metadata": {},
   "outputs": [],
   "source": [
    "linearModel = LinearRegression()"
   ]
  },
  {
   "cell_type": "code",
   "execution_count": 4,
   "id": "fa8a94ac",
   "metadata": {},
   "outputs": [
    {
     "data": {
      "text/plain": [
       "LinearRegression()"
      ]
     },
     "execution_count": 4,
     "metadata": {},
     "output_type": "execute_result"
    }
   ],
   "source": [
    "linearModel.fit(X,y)"
   ]
  },
  {
   "cell_type": "code",
   "execution_count": 8,
   "id": "c7f0f8ee",
   "metadata": {},
   "outputs": [],
   "source": [
    "y_predict = linearModel.predict(X)"
   ]
  },
  {
   "cell_type": "code",
   "execution_count": 9,
   "id": "3f33bcd8",
   "metadata": {},
   "outputs": [
    {
     "data": {
      "text/plain": [
       "array([4.13164983, 3.97660644, 3.67657094, ..., 0.17125141, 0.31910524,\n",
       "       0.51580363])"
      ]
     },
     "execution_count": 9,
     "metadata": {},
     "output_type": "execute_result"
    }
   ],
   "source": [
    "y_predict"
   ]
  },
  {
   "cell_type": "code",
   "execution_count": 10,
   "id": "c4864806",
   "metadata": {},
   "outputs": [
    {
     "data": {
      "text/plain": [
       "array([ 4.36693293e-01,  9.43577803e-03, -1.07322041e-01,  6.45065694e-01,\n",
       "       -3.97638942e-06, -3.78654265e-03, -4.21314378e-01, -4.34513755e-01])"
      ]
     },
     "execution_count": 10,
     "metadata": {},
     "output_type": "execute_result"
    }
   ],
   "source": [
    "linearModel.coef_"
   ]
  },
  {
   "cell_type": "code",
   "execution_count": 11,
   "id": "60cfa9be",
   "metadata": {},
   "outputs": [
    {
     "data": {
      "text/plain": [
       "-36.941920207184324"
      ]
     },
     "execution_count": 11,
     "metadata": {},
     "output_type": "execute_result"
    }
   ],
   "source": [
    "linearModel.intercept_"
   ]
  },
  {
   "cell_type": "code",
   "execution_count": 14,
   "id": "73668a9d",
   "metadata": {},
   "outputs": [
    {
     "data": {
      "text/plain": [
       "array([2.24668752])"
      ]
     },
     "execution_count": 14,
     "metadata": {},
     "output_type": "execute_result"
    }
   ],
   "source": [
    "linearModel.predict([X[7]])"
   ]
  },
  {
   "cell_type": "code",
   "execution_count": null,
   "id": "29e5b99c",
   "metadata": {},
   "outputs": [],
   "source": [
    "linearModel.predict([X[7]])"
   ]
  },
  {
   "cell_type": "code",
   "execution_count": 12,
   "id": "13f32d49",
   "metadata": {},
   "outputs": [
    {
     "data": {
      "text/plain": [
       "0.5243209861846072"
      ]
     },
     "execution_count": 12,
     "metadata": {},
     "output_type": "execute_result"
    }
   ],
   "source": [
    "((y-y_predict)**2).mean()"
   ]
  },
  {
   "cell_type": "code",
   "execution_count": null,
   "id": "d48c916d",
   "metadata": {},
   "outputs": [],
   "source": []
  }
 ],
 "metadata": {
  "kernelspec": {
   "display_name": "Python 3",
   "language": "python",
   "name": "python3"
  },
  "language_info": {
   "codemirror_mode": {
    "name": "ipython",
    "version": 3
   },
   "file_extension": ".py",
   "mimetype": "text/x-python",
   "name": "python",
   "nbconvert_exporter": "python",
   "pygments_lexer": "ipython3",
   "version": "3.6.13"
  }
 },
 "nbformat": 4,
 "nbformat_minor": 5
}
